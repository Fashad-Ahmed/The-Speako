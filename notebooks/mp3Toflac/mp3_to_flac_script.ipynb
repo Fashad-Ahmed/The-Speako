{
  "nbformat": 4,
  "nbformat_minor": 0,
  "metadata": {
    "colab": {
      "name": "mp3_to_flac_script.ipynb",
      "provenance": []
    },
    "kernelspec": {
      "name": "python3",
      "display_name": "Python 3"
    },
    "language_info": {
      "name": "python"
    }
  },
  "cells": [
    {
      "cell_type": "code",
      "execution_count": 1,
      "metadata": {
        "id": "O058JhL2-5-s"
      },
      "outputs": [],
      "source": [
        "import os\n",
        "import sys\n",
        "from subprocess import call\n",
        "\n",
        "\n",
        "# show variables (for troubleshooting)\n",
        "def show_vars(target_dir):\n",
        "    print('target_dir = ' + target_dir)\n",
        "    print('target_dir (absolute) = ' + os.path.abspath(target_dir))\n",
        "\n",
        "\n",
        "#get full list of mp3 files from your target directory\n",
        "def get_mp3_list(target_dir):\n",
        "    mp3_list = []\n",
        "    for root, dirs, files in os.walk(target_dir):\n",
        "        for dir in dirs:\n",
        "            path = root + dir\n",
        "            for file in os.listdir(path):\n",
        "                if file.endswith(\".mp3\"):\n",
        "                    return_data = path + \"/\" + file\n",
        "                    mp3_list.append(return_data)\n",
        "    return mp3_list\n",
        "\n",
        "\n",
        "#convert mp3 to flac if the flac target file does not already exist\n",
        "def convert_mp3(mp3_list,target_dir):\n",
        "    for mp3 in mp3_list:\n",
        "        flac = mp3[:-4] + \".flac\"\n",
        "        if os.path.isfile(flac):\n",
        "            print('File ' + flac + ' already exists')\n",
        "        else:\n",
        "            call([\"ffmpeg\", \"-i\", mp3, flac])\n",
        "\n",
        "\n",
        "#main function: controls script flow\n",
        "def main():\n",
        "    target_dir = sys.argv[1]\n",
        "    mp3_list = get_mp3_list(target_dir)\n",
        "    convert_mp3(mp3_list, target_dir)\n",
        "\n",
        "\n",
        "#call main funcion\n",
        "if __name__ == '__main__':\n",
        "    main()"
      ]
    }
  ]
}