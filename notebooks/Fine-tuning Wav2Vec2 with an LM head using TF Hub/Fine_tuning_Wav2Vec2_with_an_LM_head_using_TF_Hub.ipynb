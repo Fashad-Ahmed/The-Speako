{
  "nbformat": 4,
  "nbformat_minor": 0,
  "metadata": {
    "colab": {
      "name": "Fine-tuning Wav2Vec2 with an LM head using TF Hub.ipynb",
      "provenance": [],
      "collapsed_sections": []
    },
    "kernelspec": {
      "name": "python3",
      "display_name": "Python 3"
    },
    "language_info": {
      "name": "python"
    },
    "accelerator": "GPU",
    "gpuClass": "standard",
    "widgets": {
      "application/vnd.jupyter.widget-state+json": {
        "66f61f2cdb8d41db8b0b41063f446cb9": {
          "model_module": "@jupyter-widgets/controls",
          "model_name": "HBoxModel",
          "model_module_version": "1.5.0",
          "state": {
            "_dom_classes": [],
            "_model_module": "@jupyter-widgets/controls",
            "_model_module_version": "1.5.0",
            "_model_name": "HBoxModel",
            "_view_count": null,
            "_view_module": "@jupyter-widgets/controls",
            "_view_module_version": "1.5.0",
            "_view_name": "HBoxView",
            "box_style": "",
            "children": [
              "IPY_MODEL_239bde773e7b4200b56825389000fd9e",
              "IPY_MODEL_28f5f42cd82f465cab2834ebb5499e9e",
              "IPY_MODEL_b039c0734f2142618299afa599d7f501"
            ],
            "layout": "IPY_MODEL_09a2b566750549139bc20142f57387a8"
          }
        },
        "239bde773e7b4200b56825389000fd9e": {
          "model_module": "@jupyter-widgets/controls",
          "model_name": "HTMLModel",
          "model_module_version": "1.5.0",
          "state": {
            "_dom_classes": [],
            "_model_module": "@jupyter-widgets/controls",
            "_model_module_version": "1.5.0",
            "_model_name": "HTMLModel",
            "_view_count": null,
            "_view_module": "@jupyter-widgets/controls",
            "_view_module_version": "1.5.0",
            "_view_name": "HTMLView",
            "description": "",
            "description_tooltip": null,
            "layout": "IPY_MODEL_ac33a7a2a502483791b9527dfb61eb50",
            "placeholder": "​",
            "style": "IPY_MODEL_35fa659c8ec5461d9ac452f89becbcb6",
            "value": "100%"
          }
        },
        "28f5f42cd82f465cab2834ebb5499e9e": {
          "model_module": "@jupyter-widgets/controls",
          "model_name": "FloatProgressModel",
          "model_module_version": "1.5.0",
          "state": {
            "_dom_classes": [],
            "_model_module": "@jupyter-widgets/controls",
            "_model_module_version": "1.5.0",
            "_model_name": "FloatProgressModel",
            "_view_count": null,
            "_view_module": "@jupyter-widgets/controls",
            "_view_module_version": "1.5.0",
            "_view_name": "ProgressView",
            "bar_style": "success",
            "description": "",
            "description_tooltip": null,
            "layout": "IPY_MODEL_18c7eb06945244b59fb918f7f5c27ef3",
            "max": 4,
            "min": 0,
            "orientation": "horizontal",
            "style": "IPY_MODEL_ee3000e6a7c943ebbee456955045c61c",
            "value": 4
          }
        },
        "b039c0734f2142618299afa599d7f501": {
          "model_module": "@jupyter-widgets/controls",
          "model_name": "HTMLModel",
          "model_module_version": "1.5.0",
          "state": {
            "_dom_classes": [],
            "_model_module": "@jupyter-widgets/controls",
            "_model_module_version": "1.5.0",
            "_model_name": "HTMLModel",
            "_view_count": null,
            "_view_module": "@jupyter-widgets/controls",
            "_view_module_version": "1.5.0",
            "_view_name": "HTMLView",
            "description": "",
            "description_tooltip": null,
            "layout": "IPY_MODEL_64f02183b9394c8891f4a5654d9885b1",
            "placeholder": "​",
            "style": "IPY_MODEL_2c5ed76d1c25483589317c8ff4a2ba3b",
            "value": " 4/4 [00:10&lt;00:00,  1.35s/it]"
          }
        },
        "09a2b566750549139bc20142f57387a8": {
          "model_module": "@jupyter-widgets/base",
          "model_name": "LayoutModel",
          "model_module_version": "1.2.0",
          "state": {
            "_model_module": "@jupyter-widgets/base",
            "_model_module_version": "1.2.0",
            "_model_name": "LayoutModel",
            "_view_count": null,
            "_view_module": "@jupyter-widgets/base",
            "_view_module_version": "1.2.0",
            "_view_name": "LayoutView",
            "align_content": null,
            "align_items": null,
            "align_self": null,
            "border": null,
            "bottom": null,
            "display": null,
            "flex": null,
            "flex_flow": null,
            "grid_area": null,
            "grid_auto_columns": null,
            "grid_auto_flow": null,
            "grid_auto_rows": null,
            "grid_column": null,
            "grid_gap": null,
            "grid_row": null,
            "grid_template_areas": null,
            "grid_template_columns": null,
            "grid_template_rows": null,
            "height": null,
            "justify_content": null,
            "justify_items": null,
            "left": null,
            "margin": null,
            "max_height": null,
            "max_width": null,
            "min_height": null,
            "min_width": null,
            "object_fit": null,
            "object_position": null,
            "order": null,
            "overflow": null,
            "overflow_x": null,
            "overflow_y": null,
            "padding": null,
            "right": null,
            "top": null,
            "visibility": null,
            "width": null
          }
        },
        "ac33a7a2a502483791b9527dfb61eb50": {
          "model_module": "@jupyter-widgets/base",
          "model_name": "LayoutModel",
          "model_module_version": "1.2.0",
          "state": {
            "_model_module": "@jupyter-widgets/base",
            "_model_module_version": "1.2.0",
            "_model_name": "LayoutModel",
            "_view_count": null,
            "_view_module": "@jupyter-widgets/base",
            "_view_module_version": "1.2.0",
            "_view_name": "LayoutView",
            "align_content": null,
            "align_items": null,
            "align_self": null,
            "border": null,
            "bottom": null,
            "display": null,
            "flex": null,
            "flex_flow": null,
            "grid_area": null,
            "grid_auto_columns": null,
            "grid_auto_flow": null,
            "grid_auto_rows": null,
            "grid_column": null,
            "grid_gap": null,
            "grid_row": null,
            "grid_template_areas": null,
            "grid_template_columns": null,
            "grid_template_rows": null,
            "height": null,
            "justify_content": null,
            "justify_items": null,
            "left": null,
            "margin": null,
            "max_height": null,
            "max_width": null,
            "min_height": null,
            "min_width": null,
            "object_fit": null,
            "object_position": null,
            "order": null,
            "overflow": null,
            "overflow_x": null,
            "overflow_y": null,
            "padding": null,
            "right": null,
            "top": null,
            "visibility": null,
            "width": null
          }
        },
        "35fa659c8ec5461d9ac452f89becbcb6": {
          "model_module": "@jupyter-widgets/controls",
          "model_name": "DescriptionStyleModel",
          "model_module_version": "1.5.0",
          "state": {
            "_model_module": "@jupyter-widgets/controls",
            "_model_module_version": "1.5.0",
            "_model_name": "DescriptionStyleModel",
            "_view_count": null,
            "_view_module": "@jupyter-widgets/base",
            "_view_module_version": "1.2.0",
            "_view_name": "StyleView",
            "description_width": ""
          }
        },
        "18c7eb06945244b59fb918f7f5c27ef3": {
          "model_module": "@jupyter-widgets/base",
          "model_name": "LayoutModel",
          "model_module_version": "1.2.0",
          "state": {
            "_model_module": "@jupyter-widgets/base",
            "_model_module_version": "1.2.0",
            "_model_name": "LayoutModel",
            "_view_count": null,
            "_view_module": "@jupyter-widgets/base",
            "_view_module_version": "1.2.0",
            "_view_name": "LayoutView",
            "align_content": null,
            "align_items": null,
            "align_self": null,
            "border": null,
            "bottom": null,
            "display": null,
            "flex": null,
            "flex_flow": null,
            "grid_area": null,
            "grid_auto_columns": null,
            "grid_auto_flow": null,
            "grid_auto_rows": null,
            "grid_column": null,
            "grid_gap": null,
            "grid_row": null,
            "grid_template_areas": null,
            "grid_template_columns": null,
            "grid_template_rows": null,
            "height": null,
            "justify_content": null,
            "justify_items": null,
            "left": null,
            "margin": null,
            "max_height": null,
            "max_width": null,
            "min_height": null,
            "min_width": null,
            "object_fit": null,
            "object_position": null,
            "order": null,
            "overflow": null,
            "overflow_x": null,
            "overflow_y": null,
            "padding": null,
            "right": null,
            "top": null,
            "visibility": null,
            "width": null
          }
        },
        "ee3000e6a7c943ebbee456955045c61c": {
          "model_module": "@jupyter-widgets/controls",
          "model_name": "ProgressStyleModel",
          "model_module_version": "1.5.0",
          "state": {
            "_model_module": "@jupyter-widgets/controls",
            "_model_module_version": "1.5.0",
            "_model_name": "ProgressStyleModel",
            "_view_count": null,
            "_view_module": "@jupyter-widgets/base",
            "_view_module_version": "1.2.0",
            "_view_name": "StyleView",
            "bar_color": null,
            "description_width": ""
          }
        },
        "64f02183b9394c8891f4a5654d9885b1": {
          "model_module": "@jupyter-widgets/base",
          "model_name": "LayoutModel",
          "model_module_version": "1.2.0",
          "state": {
            "_model_module": "@jupyter-widgets/base",
            "_model_module_version": "1.2.0",
            "_model_name": "LayoutModel",
            "_view_count": null,
            "_view_module": "@jupyter-widgets/base",
            "_view_module_version": "1.2.0",
            "_view_name": "LayoutView",
            "align_content": null,
            "align_items": null,
            "align_self": null,
            "border": null,
            "bottom": null,
            "display": null,
            "flex": null,
            "flex_flow": null,
            "grid_area": null,
            "grid_auto_columns": null,
            "grid_auto_flow": null,
            "grid_auto_rows": null,
            "grid_column": null,
            "grid_gap": null,
            "grid_row": null,
            "grid_template_areas": null,
            "grid_template_columns": null,
            "grid_template_rows": null,
            "height": null,
            "justify_content": null,
            "justify_items": null,
            "left": null,
            "margin": null,
            "max_height": null,
            "max_width": null,
            "min_height": null,
            "min_width": null,
            "object_fit": null,
            "object_position": null,
            "order": null,
            "overflow": null,
            "overflow_x": null,
            "overflow_y": null,
            "padding": null,
            "right": null,
            "top": null,
            "visibility": null,
            "width": null
          }
        },
        "2c5ed76d1c25483589317c8ff4a2ba3b": {
          "model_module": "@jupyter-widgets/controls",
          "model_name": "DescriptionStyleModel",
          "model_module_version": "1.5.0",
          "state": {
            "_model_module": "@jupyter-widgets/controls",
            "_model_module_version": "1.5.0",
            "_model_name": "DescriptionStyleModel",
            "_view_count": null,
            "_view_module": "@jupyter-widgets/base",
            "_view_module_version": "1.2.0",
            "_view_name": "StyleView",
            "description_width": ""
          }
        }
      }
    }
  },
  "cells": [
    {
      "cell_type": "markdown",
      "source": [
        "In this notebook, we will load the pre-trained wav2vec2 model from TFHub and will fine-tune it on LibriSpeech dataset by appending Language Modeling head (LM) over the top of our pre-trained model.\n",
        "\n",
        "https://www.openslr.org/12"
      ],
      "metadata": {
        "id": "1UfmATTekMbt"
      }
    },
    {
      "cell_type": "code",
      "execution_count": 1,
      "metadata": {
        "colab": {
          "base_uri": "https://localhost:8080/"
        },
        "id": "wwm_SZqDkC7f",
        "outputId": "2a54aceb-044f-437f-e2b1-5a640abd2228"
      },
      "outputs": [
        {
          "output_type": "stream",
          "name": "stdout",
          "text": [
            "\u001b[K     |████████████████████████████████| 1.8 MB 32.8 MB/s \n",
            "\u001b[K     |████████████████████████████████| 101 kB 11.3 MB/s \n",
            "\u001b[K     |████████████████████████████████| 596 kB 72.7 MB/s \n",
            "\u001b[K     |████████████████████████████████| 50 kB 6.1 MB/s \n",
            "\u001b[K     |████████████████████████████████| 145 kB 73.5 MB/s \n",
            "\u001b[K     |████████████████████████████████| 181 kB 73.9 MB/s \n",
            "\u001b[K     |████████████████████████████████| 63 kB 1.7 MB/s \n",
            "\u001b[?25h  Building wheel for wav2vec2 (setup.py) ... \u001b[?25l\u001b[?25hdone\n",
            "  Building wheel for python-Levenshtein (setup.py) ... \u001b[?25l\u001b[?25hdone\n",
            "  Building wheel for pathtools (setup.py) ... \u001b[?25l\u001b[?25hdone\n",
            "Reading package lists... Done\n",
            "Building dependency tree       \n",
            "Reading state information... Done\n",
            "libsndfile1-dev is already the newest version (1.0.28-4ubuntu0.18.04.2).\n",
            "The following package was automatically installed and is no longer required:\n",
            "  libnvidia-common-460\n",
            "Use 'sudo apt autoremove' to remove it.\n",
            "0 upgraded, 0 newly installed, 0 to remove and 49 not upgraded.\n"
          ]
        }
      ],
      "source": [
        "!pip3 install -q git+https://github.com/vasudevgupta7/gsoc-wav2vec2@main\n",
        "!sudo apt-get install -y libsndfile1-dev\n",
        "!pip3 install -q SoundFile"
      ]
    },
    {
      "cell_type": "code",
      "source": [
        "import os\n",
        "\n",
        "import tensorflow as tf\n",
        "import tensorflow_hub as hub\n",
        "from wav2vec2 import Wav2Vec2Config\n",
        "\n",
        "config = Wav2Vec2Config()\n",
        "\n",
        "print(\"TF version:\", tf.__version__)"
      ],
      "metadata": {
        "colab": {
          "base_uri": "https://localhost:8080/"
        },
        "id": "IAg8eyr6kr4F",
        "outputId": "b7b9b84f-aa26-4591-e7fc-c4a378b4291a"
      },
      "execution_count": 2,
      "outputs": [
        {
          "output_type": "stream",
          "name": "stdout",
          "text": [
            "TF version: 2.8.2\n"
          ]
        }
      ]
    },
    {
      "cell_type": "code",
      "source": [
        "pretrained_layer = hub.KerasLayer(\"https://tfhub.dev/vasudevgupta7/wav2vec2/1\", trainable=True)"
      ],
      "metadata": {
        "id": "RbpiuvutlFEO"
      },
      "execution_count": 4,
      "outputs": []
    },
    {
      "cell_type": "code",
      "source": [
        "AUDIO_MAXLEN = 246000\n",
        "LABEL_MAXLEN = 256\n",
        "BATCH_SIZE = 2"
      ],
      "metadata": {
        "id": "f0WzlcBxk6OB"
      },
      "execution_count": 5,
      "outputs": []
    },
    {
      "cell_type": "code",
      "source": [
        "# In the following cell, we will wrap pretrained_layer & a dense layer (LM head) with the Keras's Functional API.\n",
        "\n",
        "inputs = tf.keras.Input(shape=(AUDIO_MAXLEN,))\n",
        "hidden_states = pretrained_layer(inputs)\n",
        "outputs = tf.keras.layers.Dense(config.vocab_size)(hidden_states)\n",
        "\n",
        "model = tf.keras.Model(inputs=inputs, outputs=outputs)\n"
      ],
      "metadata": {
        "id": "DD3h3W_ElBBI"
      },
      "execution_count": 6,
      "outputs": []
    },
    {
      "cell_type": "code",
      "source": [
        "model(tf.random.uniform(shape=(BATCH_SIZE, AUDIO_MAXLEN)))\n",
        "model.summary()"
      ],
      "metadata": {
        "colab": {
          "base_uri": "https://localhost:8080/"
        },
        "id": "--s_8O05lZBp",
        "outputId": "711f5ea6-17e2-49e4-9ae1-404c33ca4838"
      },
      "execution_count": 7,
      "outputs": [
        {
          "output_type": "stream",
          "name": "stdout",
          "text": [
            "Model: \"model\"\n",
            "_________________________________________________________________\n",
            " Layer (type)                Output Shape              Param #   \n",
            "=================================================================\n",
            " input_1 (InputLayer)        [(None, 246000)]          0         \n",
            "                                                                 \n",
            " keras_layer (KerasLayer)    (None, 768, 768)          94371712  \n",
            "                                                                 \n",
            " dense (Dense)               (None, 768, 32)           24608     \n",
            "                                                                 \n",
            "=================================================================\n",
            "Total params: 94,396,320\n",
            "Trainable params: 94,396,320\n",
            "Non-trainable params: 0\n",
            "_________________________________________________________________\n"
          ]
        }
      ]
    },
    {
      "cell_type": "markdown",
      "source": [
        "Now, we need to define the loss_fn and optimizer to be able to train the model. The following cell will do that for us. We will be using the Adam optimizer for simplicity. CTCLoss is a common loss type that is used for tasks (like ASR) where input sub-parts can't be easily aligned with output sub-parts."
      ],
      "metadata": {
        "id": "gc8Wc4yulrFi"
      }
    },
    {
      "cell_type": "markdown",
      "source": [
        "CTCLoss (from gsoc-wav2vec2 package) accepts 3 arguments: config, model_input_shape & division_factor. If division_factor=1, then loss will simply get summed, so pass division_factor accordingly to get mean over batch."
      ],
      "metadata": {
        "id": "aUxN0v1glwRt"
      }
    },
    {
      "cell_type": "code",
      "source": [
        "from wav2vec2 import CTCLoss\n",
        "\n",
        "LEARNING_RATE = 5e-5\n",
        "\n",
        "loss_fn = CTCLoss(config, (BATCH_SIZE, AUDIO_MAXLEN), division_factor=BATCH_SIZE)\n",
        "optimizer = tf.keras.optimizers.Adam(LEARNING_RATE)"
      ],
      "metadata": {
        "id": "QtsPazCCldKJ"
      },
      "execution_count": 8,
      "outputs": []
    },
    {
      "cell_type": "markdown",
      "source": [
        "Loading & Pre-processing data\n",
        "Let's now download the LibriSpeech dataset from the official website and set it up."
      ],
      "metadata": {
        "id": "RLf7E-iXmAHr"
      }
    },
    {
      "cell_type": "code",
      "source": [
        "!wget https://www.openslr.org/resources/12/dev-clean.tar.gz -P ./data/train/\n",
        "!tar -xf ./data/train/dev-clean.tar.gz -C ./data/train/"
      ],
      "metadata": {
        "colab": {
          "base_uri": "https://localhost:8080/"
        },
        "id": "A15AuMDNlyxS",
        "outputId": "9d6ba7c0-b5e8-4966-8138-63ab2e2d7bba"
      },
      "execution_count": 10,
      "outputs": [
        {
          "output_type": "stream",
          "name": "stdout",
          "text": [
            "--2022-07-07 07:37:59--  https://www.openslr.org/resources/12/dev-clean.tar.gz\n",
            "Resolving www.openslr.org (www.openslr.org)... 46.101.158.64\n",
            "Connecting to www.openslr.org (www.openslr.org)|46.101.158.64|:443... connected.\n",
            "HTTP request sent, awaiting response... 200 OK\n",
            "Length: 337926286 (322M) [application/x-gzip]\n",
            "Saving to: ‘./data/train/dev-clean.tar.gz’\n",
            "\n",
            "dev-clean.tar.gz    100%[===================>] 322.27M  12.6MB/s    in 30s     \n",
            "\n",
            "2022-07-07 07:38:29 (10.9 MB/s) - ‘./data/train/dev-clean.tar.gz’ saved [337926286/337926286]\n",
            "\n"
          ]
        }
      ]
    },
    {
      "cell_type": "code",
      "source": [
        "ls ./data/train/"
      ],
      "metadata": {
        "colab": {
          "base_uri": "https://localhost:8080/"
        },
        "id": "SET5zTDEl3n4",
        "outputId": "505b8394-7eb4-4191-9358-064c60b8776c"
      },
      "execution_count": 11,
      "outputs": [
        {
          "output_type": "stream",
          "name": "stdout",
          "text": [
            "dev-clean.tar.gz  \u001b[0m\u001b[01;34mLibriSpeech\u001b[0m/\n"
          ]
        }
      ]
    },
    {
      "cell_type": "code",
      "source": [
        "data_dir = \"./data/train/LibriSpeech/dev-clean/2428/83705/\"\n",
        "all_files = os.listdir(data_dir)\n",
        "\n",
        "flac_files = [f for f in all_files if f.endswith(\".flac\")]\n",
        "txt_files = [f for f in all_files if f.endswith(\".txt\")]\n",
        "\n",
        "print(\"Transcription files:\", txt_files, \"\\nSound files:\", flac_files)"
      ],
      "metadata": {
        "colab": {
          "base_uri": "https://localhost:8080/"
        },
        "id": "5mo8pnHYm39e",
        "outputId": "3b41d0e4-865c-4b3f-8d18-63687443ce5e"
      },
      "execution_count": 12,
      "outputs": [
        {
          "output_type": "stream",
          "name": "stdout",
          "text": [
            "Transcription files: ['2428-83705.trans.txt'] \n",
            "Sound files: ['2428-83705-0013.flac', '2428-83705-0004.flac', '2428-83705-0016.flac', '2428-83705-0012.flac', '2428-83705-0003.flac', '2428-83705-0021.flac', '2428-83705-0018.flac', '2428-83705-0028.flac', '2428-83705-0001.flac', '2428-83705-0024.flac', '2428-83705-0030.flac', '2428-83705-0019.flac', '2428-83705-0005.flac', '2428-83705-0032.flac', '2428-83705-0043.flac', '2428-83705-0009.flac', '2428-83705-0029.flac', '2428-83705-0041.flac', '2428-83705-0042.flac', '2428-83705-0008.flac', '2428-83705-0026.flac', '2428-83705-0031.flac', '2428-83705-0007.flac', '2428-83705-0035.flac', '2428-83705-0034.flac', '2428-83705-0036.flac', '2428-83705-0014.flac', '2428-83705-0022.flac', '2428-83705-0023.flac', '2428-83705-0025.flac', '2428-83705-0038.flac', '2428-83705-0002.flac', '2428-83705-0006.flac', '2428-83705-0040.flac', '2428-83705-0027.flac', '2428-83705-0015.flac', '2428-83705-0033.flac', '2428-83705-0039.flac', '2428-83705-0020.flac', '2428-83705-0010.flac', '2428-83705-0037.flac', '2428-83705-0000.flac', '2428-83705-0017.flac', '2428-83705-0011.flac']\n"
          ]
        }
      ]
    },
    {
      "cell_type": "code",
      "source": [
        "def read_txt_file(f):\n",
        "  with open(f, \"r\") as f:\n",
        "    samples = f.read().split(\"\\n\")\n",
        "    samples = {s.split()[0]: \" \".join(s.split()[1:]) for s in samples if len(s.split()) > 2}\n",
        "  return samples"
      ],
      "metadata": {
        "id": "nPVFJurCnKhV"
      },
      "execution_count": 13,
      "outputs": []
    },
    {
      "cell_type": "markdown",
      "source": [
        "we will define a function for loading a speech sample from a .flac file.\n",
        "\n",
        "REQUIRED_SAMPLE_RATE is set to 16000 as wav2vec2 was pre-trained with 16K frequency and it's recommended to fine-tune it without any major change in data distribution due to frequency."
      ],
      "metadata": {
        "id": "eqcqATD6nbwh"
      }
    },
    {
      "cell_type": "code",
      "source": [
        "import soundfile as sf\n",
        "\n",
        "REQUIRED_SAMPLE_RATE = 16000\n",
        "\n",
        "def read_flac_file(file_path):\n",
        "  with open(file_path, \"rb\") as f:\n",
        "      audio, sample_rate = sf.read(f)\n",
        "  if sample_rate != REQUIRED_SAMPLE_RATE:\n",
        "      raise ValueError(\n",
        "          f\"sample rate (={sample_rate}) of your files must be {REQUIRED_SAMPLE_RATE}\"\n",
        "      )\n",
        "  file_id = os.path.split(file_path)[-1][:-len(\".flac\")]\n",
        "  return {file_id: audio}"
      ],
      "metadata": {
        "id": "UgWIsSKZnQjT"
      },
      "execution_count": 14,
      "outputs": []
    },
    {
      "cell_type": "code",
      "source": [
        "from IPython.display import Audio\n",
        "import random\n",
        "\n",
        "file_id = random.choice([f[:-len(\".flac\")] for f in flac_files])\n",
        "flac_file_path, txt_file_path = os.path.join(data_dir, f\"{file_id}.flac\"), os.path.join(data_dir, \"2428-83705.trans.txt\")\n",
        "\n",
        "print(\"Text Transcription:\", read_txt_file(txt_file_path)[file_id], \"\\nAudio:\")\n",
        "Audio(filename=flac_file_path)"
      ],
      "metadata": {
        "colab": {
          "base_uri": "https://localhost:8080/",
          "height": 110
        },
        "id": "4-E60COTnhSl",
        "outputId": "f6ceb1bc-104e-495f-ddd7-6e71a3aeae49"
      },
      "execution_count": 16,
      "outputs": [
        {
          "output_type": "stream",
          "name": "stdout",
          "text": [
            "Text Transcription: THERE WERE NO SIGNS OF FALTERING ABOUT HER FLOW OF LANGUAGE \n",
            "Audio:\n"
          ]
        },
        {
          "output_type": "execute_result",
          "data": {
            "text/plain": [
              "<IPython.lib.display.Audio object>"
            ],
            "text/html": [
              "\n",
              "                <audio controls=\"controls\" >\n",
              "                    <source src=\"data:audio/flac;base64,ZkxhQwAAACIQABAAAAF4ABWVA+gA8AAA44B1oMnsqOe/368tqKMHHkM6AwAAEgAAAAAAAAAAAAAAAAAAAAAQAAQAACggAAAAcmVmZXJlbmNlIGxpYkZMQUMgMS4yLjEgMjAwNzA5MTcAAAAAgQAgAAAAAAAAAAAAAAAAAAAAAAAAAAAAAAAAAAAAAAAAAAAAAAAAAAAAAAAAAAAAAAAAAAAAAAAAAAAAAAAAAAAAAAAAAAAAAAAAAAAAAAAAAAAAAAAAAAAAAAAAAAAAAAAAAAAAAAAAAAAAAAAAAAAAAAAAAAAAAAAAAAAAAAAAAAAAAAAAAAAAAAAAAAAAAAAAAAAAAAAAAAAAAAAAAAAAAAAAAAAAAAAAAAAAAAAAAAAAAAAAAAAAAAAAAAAAAAAAAAAAAAAAAAAAAAAAAAAAAAAAAAAAAAAAAAAAAAAAAAAAAAAAAAAAAAAAAAAAAAAAAAAAAAAAAAAAAAAAAAAAAAAAAAAAAAAAAAAAAAAAAAAAAAAAAAAAAAAAAAAAAAAAAAAAAAAAAAAAAAAAAAAAAAAAAAAAAAAAAAAAAAAAAAAAAAAAAAAAAAAAAAAAAAAAAAAAAAAAAAAAAAAAAAAAAAAAAAAAAAAAAAAAAAAAAAAAAAAAAAAAAAAAAAAAAAAAAAAAAAAAAAAAAAAAAAAAAAAAAAAAAAAAAAAAAAAAAAAAAAAAAAAAAAAAAAAAAAAAAAAAAAAAAAAAAAAAAAAAAAAAAAAAAAAAAAAAAAAAAAAAAAAAAAAAAAAAAAAAAAAAAAAAAAAAAAAAAAAAAAAAAAAAAAAAAAAAAAAAAAAAAAAAAAAAAAAAAAAAAAAAAAAAAAAAAAAAAAAAAAAAAAAAAAAAAAAAAAAAAAAAAAAAAAAAAAAAAAAAAAAAAAAAAAAAAAAAAAAAAAAAAAAAAAAAAAAAAAAAAAAAAAAAAAAAAAAAAAAAAAAAAAAAAAAAAAAAAAAAAAAAAAAAAAAAAAAAAAAAAAAAAAAAAAAAAAAAAAAAAAAAAAAAAAAAAAAAAAAAAAAAAAAAAAAAAAAAAAAAAAAAAAAAAAAAAAAAAAAAAAAAAAAAAAAAAAAAAAAAAAAAAAAAAAAAAAAAAAAAAAAAAAAAAAAAAAAAAAAAAAAAAAAAAAAAAAAAAAAAAAAAAAAAAAAAAAAAAAAAAAAAAAAAAAAAAAAAAAAAAAAAAAAAAAAAAAAAAAAAAAAAAAAAAAAAAAAAAAAAAAAAAAAAAAAAAAAAAAAAAAAAAAAAAAAAAAAAAAAAAAAAAAAAAAAAAAAAAAAAAAAAAAAAAAAAAAAAAAAAAAAAAAAAAAAAAAAAAAAAAAAAAAAAAAAAAAAAAAAAAAAAAAAAAAAAAAAAAAAAAAAAAAAAAAAAAAAAAAAAAAAAAAAAAAAAAAAAAAAAAAAAAAAAAAAAAAAAAAAAAAAAAAAAAAAAAAAAAAAAAAAAAAAAAAAAAAAAAAAAAAAAAAAAAAAAAAAAAAAAAAAAAAAAAAAAAAAAAAAAAAAAAAAAAAAAAAAAAAAAAAAAAAAAAAAAAAAAAAAAAAAAAAAAAAAAAAAAAAAAAAAAAAAAAAAAAAAAAAAAAAAAAAAAAAAAAAAAAAAAAAAAAAAAAAAAAAAAAAAAAAAAAAAAAAAAAAAAAAAAAAAAAAAAAAAAAAAAAAAAAAAAAAAAAAAAAAAAAAAAAAAAAAAAAAAAAAAAAAAAAAAAAAAAAAAAAAAAAAAAAAAAAAAAAAAAAAAAAAAAAAAAAAAAAAAAAAAAAAAAAAAAAAAAAAAAAAAAAAAAAAAAAAAAAAAAAAAAAAAAAAAAAAAAAAAAAAAAAAAAAAAAAAAAAAAAAAAAAAAAAAAAAAAAAAAAAAAAAAAAAAAAAAAAAAAAAAAAAAAAAAAAAAAAAAAAAAAAAAAAAAAAAAAAAAAAAAAAAAAAAAAAAAAAAAAAAAAAAAAAAAAAAAAAAAAAAAAAAAAAAAAAAAAAAAAAAAAAAAAAAAAAAAAAAAAAAAAAAAAAAAAAAAAAAAAAAAAAAAAAAAAAAAAAAAAAAAAAAAAAAAAAAAAAAAAAAAAAAAAAAAAAAAAAAAAAAAAAAAAAAAAAAAAAAAAAAAAAAAAAAAAAAAAAAAAAAAAAAAAAAAAAAAAAAAAAAAAAAAAAAAAAAAAAAAAAAAAAAAAAAAAAAAAAAAAAAAAAAAAAAAAAAAAAAAAAAAAAAAAAAAAAAAAAAAAAAAAAAAAAAAAAAAAAAAAAAAAAAAAAAAAAAAAAAAAAAAAAAAAAAAAAAAAAAAAAAAAAAAAAAAAAAAAAAAAAAAAAAAAAAAAAAAAAAAAAAAAAAAAAAAAAAAAAAAAAAAAAAAAAAAAAAAAAAAAAAAAAAAAAAAAAAAAAAAAAAAAAAAAAAAAAAAAAAAAAAAAAAAAAAAAAAAAAAAAAAAAAAAAAAAAAAAAAAAAAAAAAAAAAAAAAAAAAAAAAAAAAAAAAAAAAAAAAAAAAAAAAAAAAAAAAAAAAAAAAAAAAAAAAAAAAAAAAAAAAAAAAAAAAAAAAAAAAAAAAAAAAAAAAAAAAAAAAAAAAAAAAAAAAAAAAAAAAAAAAAAAAAAAAAAAAAAAAAAAAAAAAAAAAAAAAAAAAAAAAAAAAAAAAAAAAAAAAAAAAAAAAAAAAAAAAAAAAAAAAAAAAAAAAAAAAAAAAAAAAAAAAAAAAAAAAAAAAAAAAAAAAAAAAAAAAAAAAAAAAAAAAAAAAAAAAAAAAAAAAAAAAAAAAAAAAAAAAAAAAAAAAAAAAAAAAAAAAAAAAAAAAAAAAAAAAAAAAAAAAAAAAAAAAAAAAAAAAAAAAAAAAAAAAAAAAAAAAAAAAAAAAAAAAAAAAAAAAAAAAAAAAAAAAAAAAAAAAAAAAAAAAAAAAAAAAAAAAAAAAAAAAAAAAAAAAAAAAAAAAAAAAAAAAAAAAAAAAAAAAAAAAAAAAAAAAAAAAAAAAAAAAAAAAAAAAAAAAAAAAAAAAAAAAAAAAAAAAAAAAAAAAAAAAAAAAAAAAAAAAAAAAAAAAAAAAAAAAAAAAAAAAAAAAAAAAAAAAAAAAAAAAAAAAAAAAAAAAAAAAAAAAAAAAAAAAAAAAAAAAAAAAAAAAAAAAAAAAAAAAAAAAAAAAAAAAAAAAAAAAAAAAAAAAAAAAAAAAAAAAAAAAAAAAAAAAAAAAAAAAAAAAAAAAAAAAAAAAAAAAAAAAAAAAAAAAAAAAAAAAAAAAAAAAAAAAAAAAAAAAAAAAAAAAAAAAAAAAAAAAAAAAAAAAAAAAAAAAAAAAAAAAAAAAAAAAAAAAAAAAAAAAAAAAAAAAAAAAAAAAAAAAAAAAAAAAAAAAAAAAAAAAAAAAAAAAAAAAAAAAAAAAAAAAAAAAAAAAAAAAAAAAAAAAAAAAAAAAAAAAAAAAAAAAAAAAAAAAAAAAAAAAAAAAAAAAAAAAAAAAAAAAAAAAAAAAAAAAAAAAAAAAAAAAAAAAAAAAAAAAAAAAAAAAAAAAAAAAAAAAAAAAAAAAAAAAAAAAAAAAAAAAAAAAAAAAAAAAAAAAAAAAAAAAAAAAAAAAAAAAAAAAAAAAAAAAAAAAAAAAAAAAAAAAAAAAAAAAAAAAAAAAAAAAAAAAAAAAAAAAAAAAAAAAAAAAAAAAAAAAAAAAAAAAAAAAAAAAAAAAAAAAAAAAAAAAAAAAAAAAAAAAAAAAAAAAAAAAAAAAAAAAAAAAAAAAAAAAAAAAAAAAAAAAAAAAAAAAAAAAAAAAAAAAAAAAAAAAAAAAAAAAAAAAAAAAAAAAAAAAAAAAAAAAAAAAAAAAAAAAAAAAAAAAAAAAAAAAAAAAAAAAAAAAAAAAAAAAAAAAAAAAAAAAAAAAAAAAAAAAAAAAAAAAAAAAAAAAAAAAAAAAAAAAAAAAAAAAAAAAAAAAAAAAAAAAAAAAAAAAAAAAAAAAAAAAAAAAAAAAAAAAAAAAAAAAAAAAAAAAAAAAAAAAAAAAAAAAAAAAAAAAAAAAAAAAAAAAAAAAAAAAAAAAAAAAAAAAAAAAAAAAAAAAAAAAAAAAAAAAAAAAAAAAAAAAAAAAAAAAAAAAAAAAAAAAAAAAAAAAAAAAAAAAAAAAAAAAAAAAAAAAAAAAAAAAAAAAAAAAAAAAAAAAAAAAAAAAAAAAAAAAAAAAAAAAAAAAAAAAAAAAAAAAAAAAAAAAAAAAAAAAAAAAAAAAAAAAAAAAAAAAAAAAAAAAAAAAAAAAAAAAAAAAAAAAAAAAAAAAAAAAAAAAAAAAAAAAAAAAAAAAAAAAAAAAAAAAAAAAAAAAAAAAAAAAAAAAAAAAAAAAAAAAAAAAAAAAAAAAAAAAAAAAAAAAAAAAAAAAAAAAAAAAAAAAAAAAAAAAAAAAAAAAAAAAAAAAAAAAAAAAAAAAAAAAAAAAAAAAAAAAAAAAAAAAAAAAAAAAAAAAAAAAAAAAAAAAAAAAAAAAAAAAAAAAAAAAAAAAAAAAAAAAAAAAAAAAAAAAAAAAAAAAAAAAAAAAAAAAAAAAAAAAAAAAAAAAAAAAAAAAAAAAAAAAAAAAAAAAAAAAAAAAAAAAAAAAAAAAAAAAAAAAAAAAAAAAAAAAAAAAAAAAAAAAAAAAAAAAAAAAAAAAAAAAAAAAAAAAAAAAAAAAAAAAAAAAAAAAAAAAAAAAAAAAAAAAAAAAAAAAAAAAAAAAAAAAAAAAAAAAAAAAAAAAAAAAAAAAAAAAAAAAAAAAAAAAAAAAAAAAAAAAAAAAAAAAAAAAAAAAAAAAAAAAAAAAAAAAAAAAAAAAAAAAAAAAAAAAAAAAAAAAAAAAAAAAAAAAAAAAAAAAAAAAAAAAAAAAAAAAAAAAAAAAAAAAAAAAAAAAAAAAAAAAAAAAAAAAAAAAAAAAAAAAAAAAAAAAAAAAAAAAAAAAAAAAAAAAAAAAAAAAAAAAAAAAAAAAAAAAAAAAAAAAAAAAAAAAAAAAAAAAAAAAAAAAAAAAAAAAAAAAAAAAAAAAAAAAAAAAAAAAAAAAAAAAAAAAAAAAAAAAAAAAAAAAAAAAAAAAAAAAAAAAAAAAAAAAAAAAAAAAAAAAAAAAAAAAAAAAAAAAAAAAAAAAAAAAAAAAAAAAAAAAAAAAAAAAAAAAAAAAAAAAAAAAAAAAAAAAAAAAAAAAAAAAAAAAAAAAAAAAAAAAAAAAAAAAAAAAAAAAAAAAAAAAAAAAAAAAAAAAAAAAAAAAAAAAAAAAAAAAAAAAAAAAAAAAAAAAAAAAAAAAAAAAAAAAAAAAAAAAAAAAAAAAAAAAAAAAAAAAAAAAAAAAAAAAAAAAAAAAAAAAAAAAAAAAAAAAAAAAAAAAAAAAAAAAAAAAAAAAAAAAAAAAAAAAAAAAAAAAAAAAAAAAAAAAAAAAAAAAAAAAAAAAAAAAAAAAAAAAAAAAAAAAAAAAAAAAAAAAAAAAAAAAAAAAAAAAAAAAAAAAAAAAAAAAAAAAAAAAAAAAAAAAAAAAAAAAAAAAAAAAAAAAAAAAAAAAAAAAAAAAAAAAAAAAAAAAAAAAAAAAAAAAAAAAAAAAAAAAAAAAAAAAAAAAAAAAAAAAAAAAAAAAAAAAAAAAAAAAAAAAAAAAAAAAAAAAAAAAAAAAAAAAAAAAAAAAAAAAAAAAAAAAAAAAAAAAAAAAAAAAAAAAAAAAAAAAAAAAAAAAAAAAAAAAAAAAAAAAAAAAAAAAAAAAAAAAAAAAAAAAAAAAAAAAAAAAAAAAAAAAAAAAAAAAAAAAAAAAAAAAAAAAAAAAAAAAAAAAAAAAAAAAAAAAAAAAAAAAAAAAAAAAAAAAAAAAAAAAAAAAAAAAAAAAAAAAAAAAAAAAAAAAAAAAAAAAAAAAAAAAAAAAAAAAAAAAAAAAAAAAAAAAAAAAAAAAAAAAAAAAAAAAAAAAAAAAAAAAAAAAAAAAAAAAAAAAAAAAAAAAAAAAAAAAAAAAAAAAAAAAAAAAAAAAAAAAAAAAAAAAAAAAAAAAAAAAAAAAAAAAAAAAAAAAAAAAAAAAAAAAAAAAAAAAAAAAAAAAAAAAAAAAAAAAAAAAAAAAAAAAAAAAAAAAAAAAAAAAAAAAAAAAAAAAAAAAAAAAAAAAAAAAAAAAAAAAAAAAAAAAAAAAAAAAAAAAAAAAAAAAAAAAAAAAAAAAAAAAAAAAAAAAAAAAAAAAAAAAAAAAAAAAAAAAAAAAAAAAAAAAAAAAAAAAAAAAAAAAAAAAAAAAAAAAAAAAAAAAAAAAAAAAAAAAAAAAAAAAAAAAAAAAAAAAAAAAAAAAAAAAAAAAAAAAAAAAAAAAAAAAAAAAAAAAAAAAAAAAAAAAAAAAAAAAAAAAAAAAAAAAAAAAAAAAAAAAAAAAAAAAAAAAAAAAAAAAAAAAAAAAAAAAAAAAAAAAAAAAAAAAAAAAAAAAAAAAAAAAAAAAAAAAAAAAAAAAAAAAAAAAAAAAAAAAAAAAAAAAAAAAAAAAAAAAAAAAAAAAAAAAAAAAAAAAAAAAAAAAAAAAAAAAAAAAAAAAAAAAAAAAAAAAAAAAAAAAAAAAAAAAAAAAAAAAAAAAAAAAAAAAAAAAAAAAAAAAAAAAAAAAAAAAAAAAAAAAAAAAAAAAAAAAAAAAAAAAAAAAAAAAAAAAAAAAAAAAAAAAAAAAAAAAAAAAAAAAAAAAAAAAAAAAAAAAAAAAAAAAAAAAAAAAAAAAAAAAAAAAAAAAAAAAAAAAAAAAAAAAAAAAAAAAAAAAAAAAAAAAAAAAAAAAAAAAAAAAAAAAAAAAAAAAAAAAAAAAAAAAAAAAAAAAAAAAAAAAAAAAAAAAAAAAAAAAAAAAAAAAAAAAAAAAAAAAAAAAAAAAAAAAAAAAAAAAAAAAAAAAAAAAAAAAAAAAAAAAAAAAAAAAAAAAAAAAAAAAAAAAAAAAAAAAAAAAAAAAAAAAAAAAAAAAAAAAAAAAAAAAAAAAAAAAAAAAAAAAAAAAAAAAAAAAAAAAAAAAAAAAAAAAAAAAAAAAAAAAAAAAAAAAAAAAAAAAAAAAAAAAAAAAAAAAAAAAAAAAAAAAAAAAAAAAAAAAAAAAAAAAAAAAAAAAAAAAAAAAAAAAAAAAAAAAAAAAAAAAAAAAAAAAAAAAAAAAAAAAAAAAAAAAAAAAAAAAAAAAAAAAAAAAAAAAAAAAAAAAAAAAAAAAAAAAAAAAAAAAAAAAAAAAAAAAAAAAAAAAAAAAAAAAAAAAAAAAAAAAAAAAAAAAAAAAAAAAAAAAAAAAAAAAAAAAAAAAAAAAAAAAAAAAAAAAAAAAAAAAAAAAAAAAAAAAAAAAAAAAAAAAAAAAAAAAAAAAAAAAAAAAAAAAAAAAAAAAAAAAAAAAAAAAAAAAAAAAAAAAAAAAAAAAAAAAAAAAAAAAAAAAAAAAAAAAAAAAAAAAAAAAAAAAAAAAAAAAAAAAAAAAAAAAAAAAAAAAAAAAAAAAAAAAAAAAAAAAAAAAAAAAAAAAAAAAAAAAAAAAAAAAAAAAAAAAAAAAAAAAAAAAAAAAAAAAAAAAAAAAAAAAAAAAAAAAAAAAAAAAAAAAAAAAAAAAAAAAAAAAAAAAAAAAAAAAAAAAAAAAAAAAAAAAAAAAAAAAAAAAAAAAAAAAAAAAAAAAAAAAAAAAAAAAAAAAAAAAAAAAAAAAAAAAAAAAAAAAAAAAAAAAAAAAAAAAAAAAAAAAAAAAAAAAAAAAAAAAAAAAAAAAAAAAAAAAAAAAAAAAAAAAAAAAAAAAAAAAAAAAAAAAAAAAAAAAAAAAAAAAAAAAAAAAAAAAAAAAAAAAAAAAAAAAAAAAAAAAAAAAAAAAAAAAAAAAAAAAAAAAAAAAAAAAAAAAAAAAAAAAAAAAAAAAAAAAAAAAAAAAAAAAAAAAAAAAAAAAAAAAAAAAAAAAAAAAAAAAAAAAAAAAAAAAAAAAAAAAAAAAAAAAAAAAAAAAAAAAAAAAAAAAAAAAAAAAAAAAAAAAAAAAAAAAAAAAAAAAAAAAAAAAAAAAAAAAAAAAAAAAAAAAAAAAAAAAAAAAAAAAAAAAAAAAAAAAAAAAAAAAAAAAAAAAAAAAAAAAAAAAAAAAAAAAAAAAAAAAAAAAAAAAAAAAAAAAAAAAAAAAAAAAAAAAAAAAAAAAAAAAAAAAAAAAAAAAAAAAAAAAAAAAAAAAAAAAAAAAAAAAAAAAAAAAAAAAAAAAAAAAAAAAAAAAAAAAAAAAAAAAAAAAAAAAAAAAAAAAAAAAAAAAAAAAAAAAAAAAAAAAAAAAAAAAAAAAAAAAAAAAAAAAAAAAAAAAAAAAAAAAAAAAAAAAAAAAAAAAAAAAAAAAAAAAAAAAAAAAAAAAAAAAAAAAAAAAAAAAAAAAAAAAAAAAAAAAAAAAAAAAAAAAAAAAAAAAAAAAAAAAAAAAAAAAAAAAAAAAAAAAAAAAAAAAAAAAAAAAAAAAAAAAAAAAAAAAAAAAAAAAAAAAAAAAAAAAAAAAAAAAAAAAAAAAAAAAAAAAAAAAAAAAAAAAAAAAAAAAAAAAAAAAAAAAAAAAAAAAAAAAAAAAAAAAAAAAAAAAAAAAAAAAAAAAAAAAAAAAAAAAAAAAAAAAAAAAAAAAAAAAAAAAAAAAAAAAAAAAAAAAAAAAAAAAAAAAAAAAAAAAAAAAAAAAAAAAAAAAAAAAAAAAAAAAAAAAAAAAAAAAAAAAAAAAAAAAAAAAAAAAAAAAAAAAAAAAAAAAAAAAAAAAAAAAAAAAAAAAAAAAAAAAAAAAAAAAAAAAAAAAAAAAAAAAAAAAAAAAAAAAAAAAAAAAAAAAAAAAAAAAAAAAAAAAAAAAAAAAAAAAAAAAAAAAAAAAAAAAAAAAAAAAAAAAAAAAAAAAAAAAAAAAAAAAAAAAAAAAAAAAAAAAAAAAAAAAAAAAAAAAAAAAAAAAAAAAAAAAAAAAAAAAAAAAAAAAAAAAAAAAAAAAAAAAAAAAAAAAAAAAAAAAAAAAAAAAAAAAAAAAAAAAAAAAAAAAAAAAAAAAAAAAAAAAAAAAAAAAAAAAAAAAAAAAAAAAAAAAAAAAAAAAAAAAAAAAAAAAAAAAAAAAAAAAAAAAAAAAAAAAAAAAAAAAAAAAAAAAAAAAAAAAAAAAAAAAAAAAAAAAAAAAAAAAAAAAAAAAAAAAAAAAAAAAAAAAAAAAAAAAAAAAAAAAAAAAAAAAAAAAAAAAAAAAAAAAAAAAAAAAAAAAAAAAAAAAAAAAAAAAAAAAAAAAAAAAAAAAAAAAAAAAAAAAAAAAAAAAAAAAAAAAAAAAAAAAAAAAAAAAAAAAAAAAAAAAAAAAAAAAAAAAAAAAAAAAAAAAAAAAAAAAAAAAAAAAAAAAAAAAAAAAAAAAAAAAAAAAAAAAAAAAAAAAAAAAAAAAAAAAAAAAAAAAAAAAAAAAAAAAAAAAAAAAAAAAAAAAAAAAAAAAAAAAAAAAAAAAAAAAAAAAAAAAAAAAAAAAAAAAAAAAAAAAAAAAAAAAAAAAAAAAAAAAAAAAAAAAAAAAAAAAAAAAAAAAAAAAAAAAAAAAAAAAAAAAAAAAAAAAAAAAAAAAAAAAAAAAAAAAAAAAAAAAAAAAAAAAAAAAAAAAAAAAAAAAAAAAAAAAAAAAAAAAAAAAAAAAAAAAAAAAAAAAAAAAAAAAAAAAAAAAAAAAAAAAAAAAAAAAAAAAAAAAAAAAAAAAAAAAAAAAAAAAAAAAAAAAAAAAAAAAAAAAAAAAAAAAAAAAAAAAAAAAAAAAAAAAAAAAAAAAAAAAAAAAAAAAAAAAAAAAAAAAAAAAAAAAAAAAAAAAAAAAAAAAAAAAAAAAAAAAAAAAAAAAAAAAAAAAAAAAAAAAAAAAAAAAAAAAAAAAAAAAAAAAAAAAAAAAAAAAAAAAAAAAAAAAAAAAAAAAAAAAAAAAAAAAAAAAAAAAAAAAAAAAAAAAAAAAAAAAAAAAAAAAAAAAAAAAAAAAAAAAAAAAAAAAAAAAAAAAAAAAAAAAAAAAAAAAAAAAAAAAAAAAAAAAAAAAAAAAAAAAAAAAAAAAAAAAAAAAAAAAAAAAAAAAAAAAAAAAAAAAAAAAAAAAAAAAAAAAAAAAAAAAAAAAAAAAAAAAAAAAAAAAAAAAAAAAAAAAAAAAAAAAAAAAAAAAAAAAAAAAAAAAAAAAAAAAAAAAAAAAAAAAAAAAAAAAAAAAAAAAAAAAAAAAAAAAAAAAAAAAAAAAAAAAAAAAAAAAAAAAAAAAAAAAAAAAAAAAAAAAAAAAAAAAAAAAAAAAAAAAAAAAAAAAAAAAAAAAAAAAAAAAAAAAAAAAAAAAAAAAAAAAAAAAAAAAAAAAAAAAAAAAAAAAAAAAAAAAAAAAAAAAAAAAAAAAAAAAAAAAAAAAAAAAAAAAAAAAAAAAAAAAAAAAAAAAAAAAAAAAAAAAAAAAAAAAAAAAAAAAAAAAAAAAAAAAAAAAAAAAAAAAAAAAAAAAAAAAAAAAAAAAAAAAAAAAAAAAAAAAAAAAAAAAAAAAAAAAAAAAAAAAAAAAAAAAAAAAAAAAAAAAAAAAAAAAAAAAAAAAAAAAAAAAAAAAAAAAAAAAAAAAAAAAAAAAAAAAAAAAAAAAAAAAAAAAAAAAAAAAAAAAAAAAAAAAAAAAAAAAAAAAAAAAAAAAAAAAAAAAAAAAAAAAAAAAAAAAAAAAAAAAAAAAAAAAAAAAAAAAAAAAAAAAAAAAAAAAAAAAAAAAAAAAAAAAAAAAAAAAAAAAAAAAAAAAAAAAAAAAAAAAAAAAAAAAAAAAAAAAAAAAAAAAAAAAAAAAAAAAAAAAAAAAAAAAAAAAAAAAAAAAAAAAAAAAAAAAAAAAAAAAAAAAAAAAAAAAAAAAAAAAAAAAAAAAAAAAAAAAAAAAAAAAAAAAAAAAAAAAAAAAAAAAAAAAAAAAAAAAAAAAAAAAAAAAAAAAAAAAAAAAAAAAAAAAAAAAAAAAAAAAAAAAAAAAAAAAAAAAAAAAAAAAAAAAAAAAAAAAAAAAAAAAAAAAAAAAAAAAAAAAAAAAAAAAAAAAAAAAAAAAAAAAAAAAAAAAAAAAAAAAAAAAAAAAAAAAAAAAAAAAAAAAAAAAAAAAAAAAAAAAAAAAAAAAAAAAAAAAAAAAAAAAAAAAAAAAAAAAAAAA//jFCABvEv/0FIbYOPbskTMMintBMhmbRp+5WxuuiG0dSuwlKrIhlP0CI7r4IJAUVk+Sa8jcKupCGQ2CaHd1xLaJYquL2wiIWLFUiNjCG/L8R+dqYTFzR5zlxBErXNrfsjEOvlKO/cjUl5fsFOxoQTT7aLNmicyGTlvidFm5YJLMvSC/bN3jGhF2YbKKOYEEIJYSIoVKjWbFYn/SPdSR+kSvpct4uZE+/O2czRDEjoNYM5SCIKCxcsjdeohBz+mNSrbmR4mS62GLNNXzSrIzE6a9fE1IQxo7zQXbfYQ5XLMVb0G0dZuIl6v5d0M6NQ6CCV6WBghr7+hOKQT40nVOo8IafmTLGhKWRsl5BJHfE0X7cje/tt8nWmjKtibJS3leTDQmC1AxCDl4gxKiJdTug/hSlhpP0ildDE28qEU6k2afiYsRS4wjDXfX0YuESkKek9bSEKVx5IMi6Vii5CsRkyIME46+sijlMIYMQDl4vSxGQalXkNVWuyEYuxTrOQhYzIXbsSKjdoSxiKLjG7q3HuyINcqIg+DHeJoECcpGj/4tNRTEautFmCCQ5exCi4giWvCEOr8QnyfQiHIZDwji4Nju56ZPdj/mx8ExQIIi8lWyiIvFGyT9aPt02MNj02l7GIlpV/MIVSwyV2v/rDG7yysCZjiYubFxQUwxHPmX51Owi4kH7R1hJI9boxce5gwkUwlQSx/IQU6ENn7D9FOiqiS500TaWcRT0hI+CN+uf5KNE3qZiSYiJ8c4QxbhVZmxS0EZ1KpBPkKqIyg4KIQQSIvhu5xUDBK51QMMQtZOiqjRDHBx2SDdFciFlxkEQ7ghtVyncjlykWsdRhJqHueIJzhga1yoR/NUrd8RoQjDrU8YX4mROVFvZQU/wGRc0kW/tCmzHKzvgjIcXpmysZNxftBhpUGYvddanYbGBVghVVLmTZq8xabGIh54SHZNJJYc7bKQRmV1cSuVgychbgkc4l7k6rmTMpQFkfCErEPi9YzNuaoxBz4I9Rel64Swm8khWTqn8IbGNpXiqbT0hhDUpX7iwYYuMTuKUp9ihAahxdPNp8QRFJLkpUG2FeqgZz4bnKQqsJ+gQixD/mcpIjQs50IyKWKhEiGhSp9GwhrDoZO+NmRYfmNYVXv1LWc7GVbFybZsSV+ySZMzHVaP0GGRn19k4t4Zsb0kHeOsMaMsYRBTl5ESDNsvd81YylMi2V2DapKGDCikoOQiOgkQeCryUsQim6w0ht0SKjH8ad3PyMjFd1aRoxhP9F2wv4nTctYhbDwwiOKcGJMmTGRx16GNAoeTx0XEJx4lBCjMpUbqSLxhC6AU7RoMUpGwVeGCTbeYbUvaJg4UwMbkg5zCYqkgWAl5hBFV8/Mz/Y7GKd5mJnbIalF42YyU4phl3LxAhRUNm92NTzN5yiW06OqMZWvbuq9XalLOQ0nN6briDoS39MiWVKtq5f/IZnvvTUzknKjTTEiA0VMGLQTRTWJhPqK593DFS+a4jLTyYYwpbg1L7CBiCxKP08RUskFC2MqnphmeoYGOx7KCBkdE1QUVcMiKUc5PzkcwRSoWUIFJsLgaKy+pmNmuLK09EGV6PtQvoxZlftsRyMQiHfuZqpPIzHXNmvXAktUq5lO3HQNovUTiOIFKZvWyUNDnFF2Bhm6UZYV1COSikRwyd74cqSVkjuJpO7kEJ5xEI5evYEifuTKd8SUlYjughXUzGJx9oLMIUg2wSdeomgQl8IdxuLZO4ruhZk+XKlXiGTINsLPldkES/y2e8mTxi5OXNyMTVRj1f7Masrky2PGBPWijEeEXEJq9ZVSF5jWxdRS8sDDJd17vCAlOwhtI61I4ieEJY7vtE8XmpF/0ZFFSCwRlIE0qLcz9siE1h6e6m6WPiWqlglkRmh32Ntyr6+y2Ze5iZLcRGGIbQtzabbx1sUqt5Z/aLtWEioEpPIkhwj6ZmISEE7WN6IECWscDC8U4jDojuEjHIIEgpQ0yCBNsrjslFjaGaKFuIwYYkVsva2WRjTD+kaRAgzM7+xDXT6qtqMlPWntuIR09X/3/QiWyMzIrzREMTIqlXW7WGnm6Umq7Nost6UZ6MDBm9zaQhZGayaIiIKJWRJ8QjeVSHtOFDGYvqBE/XkRCa4U+FYQIow+I+wlGdqL4KkLkFiIY0iZeUmzTjbNukW2bGQkmhSlZmRISxFZLFySmVR3JdmiS7Zz1KIc4moVQtJcMiJZYlRJJEtW+3Kk2h+8y2WUZKKkpCoktGJ5bEtTj5CKkmRlwqIaaVqyW+SF7kxJHXWP3FITSZlcQtMy0WYnpGdHkpuZI/QWlMFExOLpEsRiuzYFOIRkaRli5pPEGi615S+yLxJabEuJRT2KSpKZ8soejU+iRvSXQXpuVaOX/xaTI1MSpJCzT0SKiTrQvhy1iYhkO+ipc3IyytZSomRdeiQmU74nJU/xzJCNM5GkxENGWYiO0RrS2kvEI4uELR0YoKhbWO3CTFNVPct4tWIekaJi6lvWQwScijNiJpJJ+nZEI+y2rIYgk4yjWLRGlhiSrzR5JLUGfbEWjq78iK/FZRqV/m8KQYKDBonAHggAFgGAPAZoCkmb6zRZQWKeFUIwr7w+ScihEFUomnpSenXNMsynahOk0WrjEOduPS3V7cmSVbNi8/IRkdWDGC//4xQgBaEwAAgAB//4AAgAA//8AAbQYhfOUsDFuWOb7gMYsOFmGjDWTrmq8h6rYSrpWVgsGBoi5lV2q8vOuUY9Ti0Ma6miDS0UlJS3EmT/MJOEjidEE51XJC9Kb1LM9J36y68wtmoSQ9nHhRuEGnf5lJt31URWLKPGCVMNKSQWxAkKEuweBAXAw3IR8ueiPVM2xbL1lpd9Ysw/LBQ+RBMookQ2zDzCTDTF6MBYMHkQt330/mJhRYwWRSUTqEwwl35cobmGnJvlqhpDYYeZvopORjyiyFxVJkUGiKJVMzmyppBasXiGsSxrPjMMkYXTPlSUe4kx6qWRdwraSMN8ED7GF0jUJro2uinhB8EJtnyxbE4gsypSQlSWNVhJm73fiE9aForVfiCxRbImVb3svyLScnwoLEYaYg1zBI439lo1GepDSk9alsUawwaQcEirq+YW5BJmwr2ar3fVZOSpNMW5Krg0LKerFs4sQmVepLL67KJVU8057Po4WUosqPIWpJhpGJKLEJ84lizG9h3le78zcy4UlEo+SHs8o0QSrnnJhm5VsWy6zPZW9VQxpF3jmqw/cnFNIWzaYWZRIjfI2O1hZiBoyWsiahCSmkJxhYwsjYIJZ2w7ZRUSbvrrctUZFmEqQlHJKvXR7plHsWUtHXGONKxas9iSiSpSVNyMFqVZ6ydKNK5eIhLOvUdsqm4cuiCVVER0ezNzTD2KXBBLsJOTLE9PRJ1zWV6vV6vVd4p7IWKHnT6rq0JRX4w07Z544ShxJCaYuO4sqlq5rjhZE3JRMGPghsOLMWj+QWMfZxdFF906U/EbpS5Vs9uRWsXiiXbE8XqWplRHMUi5DjPkUixoUZe3zjBw3dBg4Q5qKBgrVlgh8ZVDCpaNqKkn1t0SNiC9Vk0s5IEUsERAutnW/ZlidYILsX28jt7f2EfdgQF2mH6oWii8BaVcFfe6GzadFZ8XKTUwif6S89zP7ItJs5IyE1H63LFZGPOV2HSyVjqTSVR3rmQCPWELfqwewAFeAAsg0QT4UBoPsQ4MJg80Mmln89dp+k5r+yh9+6L1fnUnwTUhqPGIDWuQXQ+uez1HotxrVH2SexTsYWBuyfoidgstCSwgPKlqCN7NWU9/LTDIKvbrHhrrMJtT60+3tUuZ4H+S1d40Syc6svvlmWipvIO1f2Yv67Mn6LehtudZHa6NAoXAjBmimFgDrzRxOgP8fBj/jCLNtPJ7la8ikXIgSY+92Ef/mGS0VOEcdZRk/esQFq6XFCGj6DAIVBy9J2nApm5CJiOO5GQF62AqBOpkYhVB6++4xmjm3i5ZHHo/pjUglbIQDw5ytGlGHBjckKB68dbkS59Uu9SVq/7GBWyn/KjzRBZY0aLXjQtzHSPFlVFHK8e1aXygYWkhblE/YFEUKPwP4ISDfoYEYWoDPgixmjBDdo4OdQoYBkQogY4SwEhPnC8ULZv+OYclMiXpOYog6QD7tp8iLQNo/ftypNVZZlFlcYDhtJCzU7kd40xlWrp7oUnQq51ZNUvap0GEdRQ6CyGlm+m4BBZM/i8OCmN4T5OYPfolgyJW4XlXbJ6r8DInAXoAnyaAYMFXBFBGnhzYswsmTMeRx7C/AtpvQkgCKFvDmrPL+QvstTqY2p+cavlP/69t4nxSEUI+ucgd5XMxFJ5oa9a54Sk6ltTWNqx2fVTxr/28TFpFNxTSFVdfXPeaBh9WZJ+O04JWFqzDTK4aJ3Cc3ErLhzNYddClmUDggz4ysmMeuE1Z5rXQ906xE5ZSOyYls9KTygIKgi+gR8WP4I/vE0gL28emQxCFECMpKb4Rj8FagQiu9Uok2GUhL09xJwpOq8vRVKnqNYU0YGRV1xidaSynBokKeScU8mrlkqJ9+ZGqe1Jj9sTDZhjU0sovj9BCxVPvxSOkgPUF9HLjUznT9GfMShrsURWEaUT6yqs2RpxSobVAXysDfPkvGOEiKBf9TzAhViXtPcDOcgMmIUzDoen0OOd+YNQSk7lqq/tBgtGfQ+3noQfm3zDInAzQb/0pUvx276q0kTtcvK3cWUYlKM7CsnTQT8N+bvV6sUU47gyQDfADtEHA6IPCFwwBoIWq0sNMFAJyRAkP3BPS6D7fXI8iPACGvfDe452Bv6BhQnYft15VfvqLcdCyzqff/+1qEI63iMRFXymaBX7uqF587DKd5uKjLXpYT6bpqp8V7eKZjIof66e8alS500b/iJjMxt6bfT1/tGfsAVgZxhQCQ/KKWs1yCEAeUdRJrtluCU0x5CN/AUwPh1QhtCTeITdvrbZydJFTb7/kb56PYK0PAMQ05MbDsETlCCVO4rg+yEwOLp5WpoDcQTxOhmEZ5+K2djs8ewKLU2W9eqMeYX3wmj0KcWE5ac/d4TAipqOOoBwBEjn4mtUQnNrcQ44qi/BEkq5CVHFwL5lFYUpQ7Bp9RBYRR94zPTW5VImInJfijWrmzlCUhIE0yawhgiiLem2RQ9oUKUIhLEKpxpJdtISOqf6EovJV29dERKu5Xzzry8u2oaivV7lxR3uo6t/NZ2HtOX3R3hnBWHpgtDzbULO1xKWaZwgxRpckjO2YgZUeHK/YytNSLaVaK0Ipt7ikTnOUIp5mMQDkUVCswmvdg/0ixKspK5tuGWJ3gZ/j969gckk8j2ciPfPCnXn0lH4yRUKq0nXCUbjyzdFeLvhQrPepWmaIkph/F98uklswzvRme/ehtgui+GtU8Ce0piVU4U4VvmoaelIJ0BdO6/32fJEizcBVfQSwXRRWTOMiyublUsfodXEnDY0tDaYCTZdv3lSgXRCVMcnJy5iL9MuPzJv7rEq4U/Jssv3aXY6w0WO+MY1cnOp9BoQ74geO762F5NxhCKZTgaRPJxRkudJspd8+fHj4u44EVOQ9Wi1HozaiysJqEoKIqiycVfXfW9R5fjv29d/RDqiywKKKtkCgdtHpVYx8RSQF3BzG1tr1EvFsmG23WIE8xAt+rRWR1WpZIJ0LyJm9W4QWQvF8yiIJgolBvekqgUbt/qr01yzfP+I+tBg0cVq3bgKDgZiELwqF4+C0cujhA40fMjvdhZsTcSkxH2Ja6Wb+8c5hHtYpUJBr9TbTOolnsL48hxDixjW0XKRdxs8Dl4PXqaZkTReUGBYTjsdicRFhMt+prTfZV8oqftljUVGPjrckbBBbl4pCsRHRwIDl+bqXin0xNLUK/pCWmfBOJ+g6vxXilJ9EbvrM+Y3mdZI6+w6SjTIJRDKHkNIwoo2530vIgvC40O3xuvEjgjavj0bkwUFrczNnRq0Wzxq3VtZRdbDRykOHvnaszdweHB4WisZmZWYlCzBkoFGOXCYRvi0hCKvkUmp5VfsWNssUiagt48iyyuJ5zMI9sniG3gnmscVszkfi0JzUeHwpMzt+WLSZmRNC8fGJO+QJlbRGw/sE7LgT0knrKix2r9z1SMSwMioRHIgGAzJzK2ajX5oViw4FY1RnqEplFTZSTzyVOEZCor5hVRnEkjkkYdbi/kcujeEclo4RV9hVDQwGoSiQ7OXb1kXq5URHIQlBj9kt9u2aT8oSYKntWVsovPlfxVd3pkUlw6KzsaGIQGhqWPmiFS2JFXcZpBMQpyCjq7r7LvzDHgPz7DJZdH9jicwpkc56RLGkModxFJ+8LpBpCgJRKGYtP15ySNBW2rBoaEoRDksekZuXFXF1wi2SS2jkNNL8vRyoEz1qSCU7NRIIC88l0KxVekNmTX1gVktG107MzlTc2uXT9urHXP0lfW5xFGg/0y4UkSLepyilHzy617xm2ODyFxQF1VZEJNNqPeyrTie1GA70MbjVFeT32m2CvXGU6TV+3Jr/GrVxcKBBUdBiMja4tTsrEc4HcUnQwJVJcWwtdNIpeTqbaxRlxEY2hB+NT6tdio3rKt9zl+1DcqkYohw7RssDLUokwxkAFl0BZK5AfyJckYZhrqIjORgJoNJ/pxkopmrEixBpkgUWTsssGOiL0gukypalyZJ6d5RWis3nc5BMo9mlG6reu0fn0PLe2ailHluUM7JZunuuU++tI+r31Ei61+odkO0bIeI9wuBLrYK8BBdAok8EdKIRTolAeY9G+9hDdhsLoPovXzDjhnq5RAtnBXMIyyO4mRv5GjbMZJw7FXSJKIrDQURDDcyDy2FQKOt9Wj4zimnHE4lJXKSfZJ+uvrd6bha+sx4WAlzhEibsGXfMRs97Ti2WlsnNDuVQ8GFcpSYa/MTw9sH6Z0WR2mkxizO0Z38jRx0ZXB9nQW7NNREzFTqpNm07UtTDYzwvk9BCiMPgSboQmftXRbnybjCTURUukXywaKYzDbkJ260w8oqTcXKaBQMLicYS31mNTM8JT25Oei7+gJFcDtG7BnDKm8bfXqn8+wQM5RMh7kILMTTWtCopGAeGbhDcom7qJcpEGMtyvG1bxZ+6zKv2FMRPMYIolBJOl/KPR+m++JaHtbhtEcdT9STOTR35CoOb/ND/CUb67bre++Xkd8pDV3XmfJ/mdGkpJztlfOYYRSj5wHmLiDcHFXKvqrXjzmU+IZzJEYXaOMeUMUAFb5gLaVp2Stb7hH84zIPGwtk2sp3/I+pKGwLMky0emluzKl3k+kkvIgIVBJznEf0jF0T6qG1CJzyl5o6wudqfw/Nf7ieU0KwlVdA2bc6EVL/6X2qtGh8SoupJ+QCXoSXtyA1Y/URWVJco36zPWQ53byXzpIfDBLjUoYEtpp1+q673EkuszkrR0oX0+yj5VtTHWYTLic+3xvO+C4xn2EdlRfCcjR+897C1v+hFzeOWjTA4c71CqE4v0mDLWjqwplqlAfMrtRK/nc0wo/j4IWUAZwJbEqDvTjhUa/ndvMrVu2MFEQYLK122hqw+aJnAVU/ldOUh0FQoSfFNiwQrfOJAaJvj7V3K5mAGRjrLmSZU6UBN9v1AUXYPL3KjeFMscq33WiFI1Siy+ys3VdpEcvMSF2ifzgGVU/9ToPYqL89AbRwn6cg1IHChrAN3CaBe5gjdWtUcsy8LYcNtaKUCPzIVrVbHla9fecQzzvxE5/tZrVJ3gBf1G0pP2FLRkqF4a8qsUxajY1RyXBs19clJU3vGC2JGEEXDCdeSpHXrcnjHB13qMFQhA9AwlheW2bqeHt/iBJfwqZ99UIrIhQa0EElfAssSoJfFQeevKikLKQRSW0/GFpc1tdveraXhgloyHB4459egkEzClOnxvQ7+yqI9BWUanLwXKqc9HVTuTzU0RS9dosaIElvEvZiObVhKNbK28vCKy1jwu0le239ULDhTJ4RcUdeNuzDte+5cQ3ksSHSDJS7gbGfML/DHlYliIXXtrnTqabXgEq+J36uVFbJsFt1yp2DuTL48dOki9F8sQZvCVVPg2iadHn6DIjq6OcLrRBCLKvgyn7rk6Aqgk+A/OneBZj2xsple+tXoRMajN1inp6ojvd4G1Gc0V4L7eRoj6lJtniZkmGQDEfqDJWiM1DoONJ0+P2IcY6vBovUbkp7FU93dJVGTDRn/4HXSuNSQL/H60l46cIQ1wEeMszdrJO0y7iZbRWkprTXLnMvKqlp+iDZNcZJ8sJZ0K/PLo+QgxFY5QuDv/BY21QPQzM9OWRvSvmYvkt6GsLwdAdVzxzUj6wZo8UTihaPzFhcz7upNRsvTOTmuJ4Um42KT/3oYYp8yvGnMAO+JNg16jm0TRj4Fb+RgCLOJsU99zCoIiJeEr31XR5WafJVUy9yrnRQ/C0yH4mYCrl//4xQgCYVT6zPyy/nL/E/7U/cb8hPuH+3H7+vxptTp9pwjwX3jQAgV3E49IDHogjlqM8JcPsq4jcRxYjlA2QZJJv4LI9J8HCGmeacOoIg9KGb7imQ24qhAKQ8CUbSpRjgH4zHZ16aFMQUx4LhDQUowhFFksFwvFshl0grzUVzoWDg2pFxkqr/eO6IRCmKKEWpltGJpMB0nCHWFGIn5seUT4dIEqHOJ/ManOuwd4kwueZEFVdVnpRcXY0sIkAvARBlbCT2M4EQF8GlHpCT/Mo2loprQ0Ft2YzIYT8OYwt7P6FAvCuKxBatzGU8QUBUXDBULnaJE1X3yvufZ/yt/d2t14t8sSLYa5IcyRNjnCJF+IMm7TnQY1x4ijcrYLRxWqVdVccWUnM8lgsgTBvJhGzV+NQUxRQSgZzg/vJKpGdOI6nopkFUSaCzlYkhTJxHXLzEbMLIrltcRXyk0bDVWRCY7bWazsNOxSK9UbZVJesH3z1uZo/QiR3mqW5kiF96E5xCg13+/TiEwyG2JmJbByD+e1mmzKBVCeSXHCShdDeNLv8isKD8mItMxZ2Dmf1lrc0YpGw0Jh4NJMWDM+kJlzVVzMApr6ZW/HlyELh49Di5JGqMhfnzs2SUZSu85S/McnW6SZYhCgtQRPXAULtGOZ5M9iImXDEiWEUZkHoiTegZgG89MIlfKvDaL40itLRFGFatyh3oY5E1eaQ0jY8o6PyLQdh2LTTz8SkoEwmsa+8rP1W+zfXNVo0v6l2m0V7ZzcM3TPEasUW5XWbpDnSV4pwzw/Xm2JLlBqjpBnowQAZ2WYeS0moKqwkDjEMBkBtPrZsezHBHEI6k8x4CYXChv0fmOAEc1pyML57T0JrTxECyLjwTtVLcEPsQSmIB1faLO+Lx29X8Jk1OffI9klOaqxQKFYKveZSnmeo4THGGZ4z2z8Ea+QKc9Qi2kPo4skL/JxBOHk5tkR68AugVjw33uioQCSbj4FaLJ4C87/x39iECeeG1atxXKynR1CwCielhW0OJeWkPZZD0RGy3SL8ZbqxUu9/fHl2qYYry7bejRqtej1GSOEoynIs9QmQYoTOFoN11geJWhfhTLwihvrtRGsTzikSlsQ9gEo3lYy1BYjyLIRQiWsYAQig4IFI1beGszqwgn8hJxNfU0qicKBzIRdYtv5spCWW9lwu7QZbHNNe4+R2zZpnW1VTDtsiyFbZUlq+3GWJMhFh0g5RYlcUVuJ8Blw97rkEYxPFVUPefJXEwjvbu7+CcMRoLb2KGRjHKU19yVgkylaa51ej4RzFYoMScDnZTAU6ew5AEc9045kg4X34uGg9A9WoiCr2vG5XhySb5m/6ekoWiP5xbC8VE62y6pty65K33SvJ66M2dqRB2ZS9ztwoihyKAs0kiuSnD3t6mac6pQqeQl4kKRJiZvxGmeLbbDq2uaN5pppKEg7U2uiYYiVUXLTKDbJbNhU9fA6bA6PuKBCJ3I5npsVtCGkTMLXdE6XC9JVx4RL3T2MXWszoXEEdJGH+ACJA+DVgGBAZ8I+igFaAawIAcFf58ItDq6eV+8cPAUTVIGkERPO8qVloxQcIiDtFH8FCXYzKLLQGwGMBcEuTMdNrbLLpqJULc8RS3f9vy9fdQtSMVFl9pftuxvW3avtJJZ/qQFjzuywl1a6fHc2uMlUpMYeEmqgALQABhTng9kA//K3yBOyXCkpbVRHyeIiy838WC9VyAnozogRv4hMJhk86YmbQIHXM/YIqMIoobebao0npuBu3Ofkm/mVc6ZBqDSFYNIAEFJST+3nm1lY9FXkoKrmR7hRJaeOp1QT0sBIusbiTZzay6ye3IvPIvLJLHYWBiQA2ABFwJrBIIeODYqMOEPRNy/kbFbQ2xN/kgdaK1TiYAUA3L+X9oPdgMQ0Agc+X0C9gRwIaQsn9HeE0J2EYTX6NboeEkCLqtFencz0f8zzAOn0GamyTBACMcTuWdrlsaUr68s4Ml+O4/deSWu/tys3LmIi6xz6NwOaAP2BYgI5Cc1rgQZiBFY9sxjwllWScM2DVwY2ZDLbvpERC5WPHyBpB3FKiJ+pI4J04SbdE/pNVkK0SpY5rZTeEkVGOJ09lfd3GaOg9N5OUpcbN9053nfsvSlnc3yXzWqrXNxiS3EOivZKJquUiRQpEMJEQ2UDlAEbCrBB5tslBR1yPzFRzFMi+HoCGv2aqMvUfXCDSCSoex0YqILeGUaoaPmLuHUf6WT9pKBuxBnZctEVPUjmKD9/rmLvAcQapiX8t9vJHiSl9lN2uRcRRL6c9nz6fVHu3bTyv+sldL0cL+2cWFhiZ85DbA/4+o8veSPgf9KAxUbzmy0K4j1JCoIEzvSNcSibOf65GBlpG5FYKKgcswV4vws8R6h10iTqGgLwFjP8ZNeFhs1Uyw+6cg/KOrhQQbQ+SP32upSnP8dZ9QtCSVc2I4K397p+JkpRt3pxduKbaCxoCAAm6NBAsRmAHHMHP7TCzRUyMLmsyH7aguPmQkVp5uf+7R9YqpD1G7ENYE5VabWqVGTuqtWD1KOiairlXSBiKG/dr2Fo4k2c9aWw/ZSEAs7aTCenS+51sMeqguC1VUqFbaxktEk0QKbibP5b7g34SxzFck7QBYhdA54MSb9QJW+ksZCkjeH2PIfMMqF1IiIbrYi12uIcGIASYKBjun6EWipZzAtHWj3D3E8RCPayLxudtyfkUuNGAFoWpBtMt184ZdzlkB+KXkhIu9rAnFPeMiEFBEQm7HiGBQGGlYogPoDeUwlrApty2xa2KwpsCBHSwiIrvwWlFjIPb+tpiGBHA/hkPwrQqRhJeRN7bA2THUHj7wYI/SWfGh31GVzhdkyaC1BVFYv0Z45DyfrWx4wITESdE0zFvDxhW1bUgapskmwg/g0RqltxdinTu0GXEKgiJbhcv6tKCqKIy9ejvmzRNnA7wL4db0JUJAKImz5tPn3e6VejjVEeUiB163T5mWJ9e2wEPSmTpIq2ROycNQf2cMdsacYkWUa8Yl8YiJYNc6lPKME+HkZMQnXiDIca8U2dniPlj1z2dsRriiehMS14fCZSFQMINAS4tgywxDGa+/qYVZSFzWmdGwORZlzrrXMhL+LR6RDqPIoR51T4Nd95DyKiUiOiMv6OyCxg+a+jFBKqKi7uAhwZLkKfPGyvHV8ad4jrdbMZyxyv2uOUF4SmkbSXeHCESdhyhqA6wtzGWS9eLMRqRYD1bCeQBCGC22jvsWpln3d3u/HxdpyLomhNWUU44vo74uoIKEbccTYtktcEqwKoFI/Kp8QwELs6p8D2KlZmKmMKjVjeV02bUVje3ACJNUrRDh7B2D3O4om89CUd7oRvF05LkyVCzQ6abymTSg3nv7nF8tcyXl/cN/yoiCmfGPHtD2i16g3164eSCCBkvIvPmOFpF/WOOPR3odjPRfEiiibkRTdQ1PSezqMsyZPcKgL8U59miexFNFFZtB8JZOV4EEQLcTifQGgzGE3mj8uPGs7DkxJaWcQcTs6ozIQsNuNHLjcUTp0QcgJs0jJ6Q9iXcfWyNqlmzl+3EHxkMWco6Wqmz6CxptnOwioCHDRFIRpCHsKp9MpN/hmJBeZJ+vlUM7J+9vrHQabWIYtrKrG1JaTjnlEjPyNSP6CFjrwQWzNLWy4UoEwY4wuRFUKFY9nTjDNQg3S41l20IdURVt0H77l60gxTkGQ4qAvxyl2QpqlGaZLrwtioI9xYpbkqm3BwPMxEBicip0t4rFuaXMsZcRfxPRMxDRrwQkFXVsVT6M6JiagEcFUOSx4lAllopc4P8WBOKojVl4lFW0VX81HUk/2JNi9ZqLEqHMKtkFEEAfDEd5CiSLgjEk0Vk+Vm29pykshknkk0qOB67KkzK6UExYiow5lTHhLw9oZfHCXWMR1lRuAXSsBBciFYNlLe24x2hOMEhl6ivaLdljMXbaomZoZwLsUSKRsRQWJ2uShhqiqQbKLIJxoKBS00Sagc2ayNBJ3Jc/fpMgqc+V3SqnVJOU0sZyTblfGrC+hg/qLUu6UrqMAEW8Aj+QE+MtPYEpR7DpMRvLdC3urLFldtvUqLlygxz3KBzjmFefzlMw30DmCpLdrJzPNYiUgjNNrE7tP3uUoqnPX/f61MzaiYkjYkoIvp8xGT+hHwQMp7YfDXlRVIIwagQXTmSF6yEPrAwR5iGQ5UrseKHtijsi8EIW3kOQdhClIYguSdLNKZfkl2uq1NBqGO218qVNic5rfzu8ATbNrHb52qbFsuX1t2HIiS04ZCy6m9DIiA5+UzcpeGcx7qhj5oW6uVajME8D3NkpCRECTLDUWt36uQeisAexQPYuCyPVKtHF8l8KNFkoJFsp5DpRIomas2OkY3dweVVSc+uduSpKckH7J05yUc+u5V0wo1Za5ejJVYBIO8xFJValoh5LlM/MyC0I4VooitLBLE89Xh1129nGSRIlsQ68RfMRtd/1ZrfHk6iWAvvGpyOz7loLVr84qNrBzhKYnu1qNmMPoxCgJD7Z1j117a5mvLMScuZ5Xkq3pc85VWZw8+GfiiPeUzoJ09H4vnY+i+faE9icmY2SgkCIlJ8B1H8ocKrqfNs86EQO2Jexiaq2ZS/2Hs1VsiRAasvxABPYjDmp+xY9viKECcv4iwqYn4JQ7YCIhhmICQmTBglzCXkMvf2MbczCPLGmIJ+QpoArY/U7JgYk9iekmsMwRsyjNKDriWYPpEQ0c0QbvrIQlAitDzlYQypCkiTE0GzeUIgWoCrw8FGdUan6F6JnBjni2UAOXRzuN+7rMgtwGPmMR9RpoQuDBOXIXWCEcGV/dxdB04jIj1iiTBKIqre12qQ+hv/bKcbXQyTMplKlvfUM1o/ld3YJfXSOUGC9tqmgw1EiRu/8/5M0lPq98pXkHrp4kKRMuGohZXrkBw+MuDKVkOWIdIqKvgNk1GDrR0HNF112TBh9M1fGBHA19nRSDD1ToAN8CWXULYGWj/sbHgimijgbqawuhWLmRXnYpTQ2YR96fXCgnIc3MrBIb1FRruugL5WYjMxhi5l40hEwWKQRao/QBKIOEOF5idZoRG/5Pqcy9lx0YiX5MwUL7rzmeEmkJhbTX3Iua3dvXyklj4CQaulOFDBg5cfgiHYL/Uu+as3SvktuHqe6++tObfSD1jk+iVE5/xNxcc4fMRAC1b7UGKAk8NdFzLoeWVObkesDpWVGYMFvW/8YE6BveHDrhfbTCnWAGnBk6LjFpHDcR2j9B6vhIQQoxv61Kd0R+nqQPe4HW0WUs6GTGCWRkwayZJa6RDkygsoIrRBRie1NeDXeRI4Zz4Yoww2+JLoBtQTSMYkpVs1/yGrB/9zGRGRiMg/MEqH0qipwZ2DdAy/KHaK3SFxqSTCtVEGk7CQBjO9khSjJpfotat0ZsRGkIDVr6o7JsJ3o46PCT5RGDDV1wZZvNn/Ui9GU4p3atfKw+SI+CyR3lYjfQ9Y6ead0JKGMx2DsgPRZQFJA0Ul51wJvArIdvXiJrXrhtp9hhMwvYX34m2yJBabCeyYEY7OZ0lUxEEyAikpKF7N81/3KBaYfB7YyEJ2bCgwQWE/JHfP4WHaMbiJoMFNWc+iMpSsS8yInSDzSCtsabaXkFDmHRCSD8CwngoQeCMoM94Mr5ueKuEQXFKui5yQn/k5Obh12GtrL+SnqgfqzBeRj+OOgS+hHKiIhp5j2QFPvqT6j7+dUWIZW7jh1ZDswOkAqPXA9AJTX6L6ZIBVYRISsJTOPBwDtzbRI2b4XD9iwM6al1fyZeW79ZnO+3j2tiLLEkU9Np/igwh63tYfHvts+438BBDD8NfXTZXhJnLh6+qPPGxViqqq8kooWF7TB39/wPop3bewWQFF0H44CVynvWSWiG8xn3n/c0kgNdqYqYQ6rjG71JNwrajlHLGfKv9/AWpNRCObH1NN6ynx9BfhKYyBcAMbW0eHIQarSNdmU3tFZ6ydUUAOr2aw37jTs+NwowVqcvR+yNI0l6VspgoPt0twpri+TWlMANS3qYQW1pQiOcoJYztUGnXHBnl5C0tgfRt8R5IalXkFY7QJhzCCEneBSkMQGl8AqqSSXX4lfDDtAKh6sUxYqV9lKZUGKygkkbR1XuZMFSAQTE/lv5xZH2tOHOD3bsGPGUaivEV4CJ4/xvnD6EPymDCV81SgDEMHYq8svvKrjejmyj86jWgoy754OYOXt/OhpNLGx9cxYqkO8vjL5Evd4TPSwMAlSNvqFmJjErsBfkMmAtGfiqZ7FXsU0cDeZFyFt6U7VsQublgytR3GoMMUKkGfLIxqKZVibRf51jaE67WYQyC1YQU4DX9a8tN6XSfPkzTehx+lhO4w2j9rNA6mcKlSXdKIGH1hNHWoF0R4ap5vN87fKvhRVoLHfdlv5BK9frlPxD7PIJlOvk4EMZLdiMyj1h9/eEsqxVdgXJv+y2apSY+sNFLVodRQRnamWrl56zwNtPknpBtUg5AnGtqpX6hWCisJ/hNp3+96P37+JUseTbg1sI0ifxMl4o8ePTGp4MI9aNyO8QeFHeh/VWYuYHtwQIF23FqKGFRfo6m+w+uSARRRlNGPcxxRigKxOmxVal7T4mAJXvNXPyr56H9dY61Y8AahJjU29zSpL0+wRpS1OwIZ7l/Uv+UgxaYHEcGrd7TKdBUeJWBS1/7YUVVB9+Zq7DJbC6XSxq5nUa/owY1VDUicmETZnEulDZnK4vpQof3cc5PLxBhXn74noTNhDBdT5QndCgrnFUVmUIrYbfuFqnfmBfIPOm1iqqPEKqrzNqZXy0kNQ6eQ5Ss/6lM4mwdA6QLupaZHXtSSdiRHwffJEY/lN+wsOTuramzOIhsLchDoNfhGTsJEH3izycsjZatUNs2Mvu1w2b4q+80IyR0SFaYvns+QCgizM32vFp6ztkNrp4TvqX7M3w36nqWssv62hVJLLz8zByOl2OEm0yHWyRWl892MgDaREfTkzNgCPY7klCWVECNVsM/690zDvDXCpOJK/JWpaadWIMprWeaaZ0JCXzi1/qoBtdijRBHnakF0o/CMo+YguUFNkZzb9P5PxwX3JeBTu2SEC0LXBTdDggsf37ghtKP9fcxJo1iuMyG3JvXnbDDKJLYRNPGEUVQobOemmCwZWwRtMVcj8kJyhlw9niTI5eYyDTZNjW+1C1p9pD29sOqRfeZnzJDeK7jQumS+RMb14G4JeA9ad08vLuf6lxwsK9D/7XEA/pEa+tesY7UUYNciRz4lcufGQ7LXCTZXg2Xe9QTWbg4RoCi4iUSVIQKg3i2r1hi1f/4xQgDZlIC0f4l//EAJgEs/uIAOQBTAN7+tbSqXLSkn7BtyPQAH3CIz8uJa2Rnnwx3859YHfK81Z+1Ytpjk8dCBwmFMzwv6l/B7HkivAftl2Bqu7KlXZFmXhH/vtAHPdgfNv9REw0hTdd+OGcEp5kVBZu9ep/8ddaCF0VXNy7SUxWWs1GRKnghxIoEh9LKjxWCsAfzmQRUz/1hF7TVBdhgDmq2ITa8XvUMnyFkSZeEiScFpQIdRwsedlTif2F3f76dD41JPXAmTCnw9D8+vc/zVWL50F3O5EwJu1ox0kCHk5c262DPWQYgDtGKImqcsw9qBuw8i2rCkejLFcgeECZUJ2bvk8jc6ceDscMrCR9USYKbYrg03i9IJ0w1+Ema+pMSVaCUdt84UDs0P+juFUUpHQRa1FnZO0j1QeMW/gujGFdWFGjYQNVQVkHDfCZXkw/l9VKLV9CJLohd+y0oIOR5AsXfZiKzXEnfJ5tfBbyKTtuWYbF7QwmnU3fvE763yoPJpOfotrAqBT/LgXBCdmcVYczlTFbs+9OpzJosFROXDIW+5rWYA4a7osC4Z8cKy5OZX1hzu21wgYErb57CRz7fCCXJlLEcv4YP1sYqT//wvCOGyOsbTNcVgagh6oM+VNxK4X81KkUkZgtxGiWX5nSMPjnU0AP+Skig9T6hinZoc7B2MkmgMUuterkeeaWxOwFvJKYhucXyNcLUgODyXx1atKg7L4xs00Za8lwkFJwGKQGPO75Twa8tuJRcOYSfvO/au1zzcdwkYYioYthmKVlcu48z5IhMQWqJQpX8JcTNahRgPXSXCF45LAfoi3BsC2lHGglvagKCSSIQEl5VKJNmIoC9F9s9jWQTGPRzWQ3tL9lqt4LEjD1CmhErG91gqnsU+CYMaGEZODZ3AM7SpasHRuuDDb+u3jVpLnvRbz9QlllNdbfDv4yzZJ8GM412wWEcK7RioQJxnLKkAtL9ajDYYnjngiJtlXhbnygIdT2QI4xEVQe8LeaIl94vcfTKnZqmEYi2PN8ACwYT0riEnBFnn014LuUuF2XKMDOSlJsOFG8pWGHrOHFCWVMgl+1281uXEDSMVBRycSbqrNUm9KJqkhCyjo8L4e7h9k9n782phUSePpVbE+yLmKZp8VmkjFDmYms6Tr5Rs5kWr9GOsHn8ikDLhCf4gU5GSAPCsZNfDNZOSszO7OSGPRGwxKgW7XwZ0CN4ZgP3zofmIb6YtZluYLeB6U3MyPQDXikpSAUXLIW0IM3uauV9rzJQikcPQq0l7OmVmSTgiKtx650vniPBWknp+X15iQRHIyUlz7UHYytw3SJkS9cZSkidzAW9Dmx21C0Y6OdwqfAc5t9yJCWOyJCitxuBPllzGvYJotbp6yVcEfztjRNEPbLq/GpPdBFf+E7Gk/fPgDr5PDYSM6P5XjMZjsfSLLwBSY7/uhAGVj5Rs36DGBOtC6G2XVzjZJ/R4XZVddTdvgWRaEC11P6PI7C6Anenotf3LOjPakkkFt1+tiztupCuedie1bThtpJXF35e2oF8I32Ngv5jyMPdBTF8mtNTVjUgJg9EtZy3t25IcS5TUdxR9+/yESLMGuFSLQL91ODt9nozTaQLTKnP43sUPbi08sdtOr1Guk/wuzcv4WR6FoAKpqwQGZbRwj9uNA/7/S/ObzRRBbSHKy41jf0vCG7Nnom3pgnXmG60damsVz1huFkyu5YhhY7puDYNPA1+f0iy6/CIRvWsgqbjNT8PNP0JaiVnFfaY6NPSRf3W6Erxg0w0vQ/LcWmo22FRfNQbfMfrIBy/HMY9sfFns8KWC3KzvRaEIc8viJFvmS/FzmhahU0Ks6mNPGHKTfUlcmpKZ40Si4i0QmsvmlCQkzShcUdhU/2q27wyew2RaZ2thNYQk0VjN2TBM1Q7c+Thy0+NgYM6yMGMZF1FS0+ma6j4ZoMTA2EiGlXZkGDUr9briyffUFN7Hsp2CWlkOm6s8LO8pl2JNCQEgIP/wQpMJAHC+3zMsLxY8wSTKBCbszCmFvhUIQ9NkoI9I27viYp1BUuXIihohWD+ZNvFkkjUJaco15FsnN7T8iSlJnRhQcnTHa9MWLicdfj0cooPRTSGttr+VSr1TH2MvdFDu7CPjJla548BbmXFdmrPp4/2XfS+reJWxe6iToHLNjv66b0teFIzfJrS6OuRshi5rSIgw2aUvUoktdngcwtNdmmSNt31XN2eTXtHkRoBwJfawYYfTQ6lSaZv6Ek8+lsZRJ5YlHLQMWRMkVQxFH3fAVa2w1WkGIq6Q72EXMc/EwiDlReX3Pm3drWM4A6rBjHLczyCoycQjxHNZcp01EKs1+8Nq065NzuZBmSygjrP4N0xCkToJavMabUa+z16cel23B+PPrJVKlHGm0v9BIQJc//aTdn8fkWfZ3nkf5ntG5SLKjvK4TRFCONP7+jt5WNPtXosVEqCHkkVxKlsax0kqxS5hBUMT7WumWXPHkTvsfUJ8jyDY6yyR5n+djM372xnP6zSTFu+Ix+Vz5eJsMmWmejhSPwVwBUSUYHRYLCo4neq9paHEEEaFTbjMy+JGy5PF33E7s2ytKnk9UW1IKsKQ/b9SIoQxZCFKISbFcdpQxIMHyLMmtRb3Fu6h4F0aHZ8uXaQ/T6Y8R/+Qpyy2nLtQu1UoNxYt8ikL9NPGOALy5isZgHbWxaokegjZUaY7sUuK8gcoTgl/Of7pLOHTJiFmwlPDZKh+Kn5vsmorsmbekXTUgyJLcq3dM5wO1rC4qJU0ZxnOybJU+S/ai1DdD+buMnTfCuKanqKByFzry3S4ThwhNxoNEAtiNL13Yb9G6cTn82Qnjtxd960icUTYhyTPxzGyZS86xaLv6gPa5ataHQqhK0K8mrDEZdBJCAqFxmRJas2JK6W1LPhXxFUGXtFuhsHutIcSazT8HUVieVSvvKVVjmuvbO9KHEtnY2eAsQJoWHqZYBznsmK9CsO7oV96bp6nnl4I45RDtmJduqO+A7fBpTUNak8wtnsl9VVSjsHrpt2oRFfWJ49lkPfXdHfV8sS+JXxSnJkSDPOvs9iK5rhZDcnqa0gesb9Uu30gF8J1JQ5bYoNEIGnB9DGZFJmLm9ctP6f7Rlu/pWZplrNGsr7Ed0Ii+4rksGKag6F/GFUYv3dJZRYqjSL14Rj1UR+kLK6KyircLQZzmCblm1r9FRm77fifz77A+O5DoanI4QZdqq1G8apVi5pbczMyDTEy3W5AP2vK18SFjZO7MmmxUZkJPBZZkr6KWX1MmIOp4Kx0NbjNnGsoy1t109la9yQWpzILQi4pyWYmSFhi396rjSavdNikG4Zl2WWBMalcRRLdML5MgGmafUdEGiaGjcjn22Vp1LZf+We6US+4cV8Ap616ZmgcQ6FmKSdZRa+LCSKCJSmIzP0gWdVO8ZOecWvU0DahCNGTC9fVNxVq9UrKz1gOIu+ZU6VMlXuq6xtFixNTR130QJrtrYigZm3mAfNt6Z0azdE29WIics9T6DSDXU6+dPtZL4h8iceYAtxM8i0KJwIJIv0VGvKVktR5G90hmQvJS8C0bT3Vp0jHY4+yiO1AUrcVsWRMsSkmYW0JljFbKkhNCMZWQlUrZMmpHbIxvrYbQRrd/sZyzeWInlOVkLeXGNjLjnFTahTA5VW+Y2jlJYQidraQCdC5lE6mL8qdwoqs0ARGR5dJnUOeuopsEMwKm1TiibWSB5ciYXl1bVl11CRVFsvPi8SpGqVw5OSl/SvHUJPM6lX0IZpymOw3Fs26HHfWaO3vxr0vtNvxeFnaRc9RP9ZR5I622EmTtTFfrbJQAK++FPd2hIQo+uzJecvUr7JThON4SsngLJsutUmJFU1C+MafH8aJKjftqd2TfpvIgheWPaUWiqH5V8ifwLuzi8O0gmNIllOMaDhi/ZjmDGcfmyS6u3qPYhgD8+lVX1JOspM/diRu00+cut14ewB8z96trMdwaqKNl722eYsqBwTs19UwmpWdY1eyKB0PbCoLAaxh5o3p0Wrzlony4g6GfekNV/EQ73k7mqUXS2JJCUHIWLTLX9d3JesA7rNVwzJC8671fM2X35bx0CpRey7dlJIpspWpdajABAEzZ2RyFqPnLzPJN4YWa5Z58Xy9GqLdKzqPjU7RHsGtVXSN17BIFApcxKim8c95FzqYnmoJLyW9CTK77jRLEqWQ+enHGUITDCNm6PWcwyHSl13ZI8/bFBqc/D+tSrKUM8D3YpV2baR9IxvdgBtBTB9uJnnRqYGJVM6/kYRXrQpnmessKjjb6dp5HW8Lq5GqOrnWTYPWVBfCJsY9nGRU9rcrVnsGbFSVfmlUcLPedXonfLGVTXa9eGhCz/Tk+y4jrLzLOt6AnP3OgNp6CUYold+Re6MT2FqkYhqQBLH3v3VCFZEAlKlsvcW4WFHOMVF4tbWH2lp6mxRrVhateuVuti1D0ucV5WQP4hH3JVyfV0tV2ozVC2ItR/3Xp9TunJQJNiXI96/FY9q2IrRw/UJOVtwWh+aiuIUvoBwOl8bwM68jUrMJJGvi7wooAzoow4V6a7GZG2i83aFqClOpSBD6eUD0Zq3wRTsRGzVKAVajctfPV5JW8KUqOPetaSkU7nY1BTkwThWjY9RioWMzRqTKlgQBKcTXnLyaVm0fUGlSBGHEUZulgr5UPrsA/gz9eK6UIuPO7OnFVn4oyAS4DZHxiV/JJ0RWzujz2DKumt6rbTMbnBCDuoWpDtHkR5mrD12pl5B5jBId7pVXIJl0nvY7xBciXKkjqWLkSqienFLaU5jjMFZn5uDaj59e3RukqcmWZNp4aGZBsVbON0fKSZyEyw0iuLd2cuJ/X2JwATQf0OtMtl8mif/JRESsWJsVwpZvMq2ynOPa8CLN2/LKVjm/q5xgjBYhU0g0Nks5d3Ilx+gz5znEVvWfmxzo9aZ1+ifMYlFMapWN8ROlgU3d1PfRWP+y0iDwEy1vmNEq/z9iaUyK2xppJTE9m7+8DFg15h5Wbw2IcJEmam6MQKO59fPOp1qFjxxX+WF+O4aj/L79pzFzX4G+ZpyqZbQhvbLb0hJDmPEjFLMlpNmLmEbUEgDDoC03kVwxbhXUXPOkCz9fMeaDpm/Y9heKpBU7p6T0Q+Cy9PLYxFJv+ljHA4yESH242CwBbiC2pL8f5Umqt9t+6yrnacNSGd8/ymfsF2mmcOVczZfCh/HmukJuRpJChP49SJ8h1WFIlqRAmWIE3il/JWXmdHY9dXTXjR8F3v0st8VsEIdjlZGvE3R/ZpjoxxzbhJRmwEx/oW4ATyvHHD/44jBSqENU2gulhRUq9HKeOwbgNRg2NLChiZyV17Y0QsG+cQlLj114meIpgFimm2oyZpC8SZMVQyEbbSdd737gP0fi6Ravv2hkqRHfuYqnweHKiInNVWoNK0ZRQ1YSMFhDE7ENsARosgH9FTuadHcMsPwKYgUqJ2J+jXZGMGyDjH9woQP6Nv3kzOhnRkpnkiL7FtQgT4Esj/OqfM9c8y0nNVbo9sNFJ5hZaTF6wokk18l++/ml2QkkEgriJvq2rRoTgzVmZN6NWCohF/mRwFIFEBHQoq8m2EgxBJg7nYbYQkXuRkwOQE4LBFBBSo476YGn+biMR6mF+6TtkXp/lerfhaC+f7/SdvlMnlVQ+wnm710rLewj/WO1eP0oBdMr+ezXUesf5Imy9Njwm8HzH7EZLuLSQ/aBKhph8Qav6vICNOY2AolMtiKmNepkDAHmGCwpoxL4UqBaLZvGB08FvacoFyhUC+U45aKwwqjWHGyEtvEyWOMJ0b4kVMSVb17+EchagX1Z6JTXhus8VSMJm5ZdSd5xS3rcU64yob0QmFeoFcqQHLNHxD1BNkBPUfqIsEq5wxxm6EGGEtRiyTqKZwi0D/OZdFkInV8LDiiC+WN2Sn9YSQryIY/tqAuFcwOQJMfj4JyY2y8YwUYwqbp7BLUrMVlksrX1OuIOyKGT0sJHwtYcM25ZVjZwiy9AkoUXWEoK8OtbCPQvNzvbkmMIRY4n+MWVGzlULIiUWWNXZzcqNmEeXQzGDZ9wVcP0cBXpci96RzxI5ZmwJ9Yk1aGHlCmE8nn5ROQZmk3fIaRA1lSklLq62gFJd0SkLWOKJedHvKY90F7Apo1oUYhwyXoUs32Z7LhMCKwP4UZzlDHfTpBB4iWQpJZmQ1TFKnGmbRHn8elQeyd4XQ+TM0Cax9ZPwlnETxxEdPPN3C5Hij66p7m4Tw/31rpv3zdcqq32ykMyJGWsesQcU09d8KNenPB6Qi44xEjIEYjyGQ8u4jU0MEIsaTlcAZ2Yk6M4cLAcuYk9iqbP90X4yz1PSobQjCPMKJIrgpNYjZbmQxBqtJzy35tMGU80ca0hcN2OzTdIPEraxmJLWkuQoHJNSRs74ck2PrOycDzXEGLFd6I+kibAFGNK1hrWo9jjI0HkaK9o0EzEo+BVE82lZU/irCcRiydS80n5ybCrdyhAFCey9JTSiKXrIGy7ipEL9KBRyapt5DdzpJZbo/btKL9Vd6JBUZ7vpzbbnBFtFn/IaPIJxcxCx9az4KEsoOp+9Q9GoicWhOBaAKQkwPYSakWhoNhlMrldRH/0L3wyoOxkL3XZxOJAghsEVTIYWjZVgniu9HiVGZcpcsCz5ayL2Tv8//5L/xOkx/srShKMPkJcNszwbIq9mDIUGewbmX9x1FVVV1WLpyMoSD+5jCNwxDWs29cTioVD+Rqi8Uhm9mxEYGIbmq3LJofS08nBvPggLz8xFkutqm7sC0Sn70LXYQPAScc8ells02yfPUywhRSh2hMh+iLKE+RmvU4SFUKaIGDNMTSwdTqIiv3CcBJBBF4qlxZNY7js6LiSIDy7FZKQ+IuGFbeC0EVnkdVEItm0RTgqvpYVmFRfXNVRtBQuOjXtKicEhUWOlwmq+TTI8LMb4K8MENM4T5UI2S3Fubr3/I/oU7oQBAOo6H3nIWALQbhrOB+TRgFgfWNveBaeq6o1B7/Vclkqyks2pnCcDA6iELjg5Ko6tlrW4qNPGkr5XxfCnijWP2z22XLJdJ6n2ap6hQj3CJC/GyLtYlqOsQYnzl0pg6l2nb4tFwCEew9IQQA/AUy4PRrOwkCUE92X0GbWCRSlWj9hZRjUayqmxi3BFKRyIoxrrS1iQRUepEhsaeJM2q16kemy5U6xfZP9rfFy9xxk2CROM1T/CtBIiPO0mXm3SbGmhX5BsAVJjNQog9jUSGZoAJoeB2E99KpDDAHZOa2GEg1Sgs0w3dr4JJatK+IRZkwkGZgKQsIOo/jSm01HOxE+104ix6CvTwo46EUrhKFSkOKNkn2UYRJpkeGGE+DpEyF6o2CNtegataYYsEeZAZI5lCDoN/p//jFCARzRAX8CCMIrrUyBuf9sK8lhgagFoEg8SrmRcCoJa9Xu+axjKzhe6Vr2cU2dyI4R2ReRLCmcZ3HR8ViEcnDHpR9cfLKZ13ixSJLFCyShNktd1fvlqmmFCPFxq0ZoLUOUN8J3JMCTIMEHqka8GQEkaei+gF4MAwE67CdDgA9gKbhInqFowDIc0K5yoFcnCTUNVF8TQmNv4CcXGuzVtM9T0KC5Q7pY2LXZ0FtexWRPEK24KXaOHPTJOvdOvE23SmTLG6Lcqz5EGc4rQSINUy6yGJklTpLNkuYwJky1gEcHUbRdaVlpAcgNQXU2zmQQD8FcgsXGPRZVPvJZ9qjFhGTzQalBW6lHUoQzk1IaDMlb/Ca15Uo6yif2Sg2ez5+/4eu/Ypgk7brFoulRmCIsp3GWpvifFqGCYr0SAS54i9faHJY5OQy0eXwRh4KSUi0wG0DWK6Zv2w7C8L5IbNQTBfXk3Oy0/6IzwpmYxM6ZoMaD6HYuJKm/NiU0lhvT0ZjU/nY3vbEzPPx+fn/qVcsVCsdZs1BsMi2a5yPfrzX5LnO1/lSqVuoFhy1citvZlWYtnEiGBgMwkjQeTqQyYzHYRD+RDE8OhFMIi9IkbHwrEp0pYlYjPGRC4NGha0fLK9esL9qRZIKOQWUusIoiOO5HLriey+KpBY3MSxDZya1pqi+t7a9sJxL5zRTCp4U8uk+BgsdZML4SBsIUh2FATAtC4fH4Uj8MhwYhIIwlFB6dq3IgVO15qqZkyTAvbpKkhJM6FR1oV+F3oo9BrhTS/uEUcel9daOkY8BZM9moqkFJ/wlMpQQGUohgigg73pZIaf4NMjErkGC7CWilgsMpgCFj2ORewPQiFRcI36izdxeJCRR2cjTDvwntG3XJrPUkf16m8lyZHcmCbkRn0RNHV0LWEeSodhLIIaLAdQiUg7rCk15hNMyWiwD0dX0C4Am53U0+Z/xN/fZGuudjFvz19VQ9hc78j1d9/RQNHA619OoVmLf8xM79XyW3cdiS07aKjtbkWyzaZ7Gk/rFaiYN/GIqTI0RU3SxqksO2mtvdmRKNIJbuZD7oQAVek1EQb8iGgC9SRTYYeYZ3y2UFEU79+uT1GeGcIPX3smT0a6kywzQSwr1qiMp67+J0MUjQR0Mmp/wpyvu1AlPnD6asi72a508kr1x1lnx/yR5G+dBfRF4ZGqJnOSrFRbY15wsD/TSHrUDwRFrVwvRIWutf4xax4q1fYt9ylxChVVkmHdu2H1XhXUsAjp/hwwgwY8JAemr56EsH6E9qWcbfxfFFG3XRVeTAoWzg9pcsc3cCTUVAKK4EXlJRx7E9Vm8P8Y10qLMPWrV7933T7AbGqIRCl7pDmZaL7Nus116nz8Fwlafv9jY1AapLr6vzhqgieAa0XoytOk5UBo4KFKGZJiD2ByyGHlCwBSXATQU07VhOS7Eqs5AQwgZtOK2kxV+NH3MCRmgXtXDoijF9t/qlPvrfmXMvwk/Ea4i6/FhOg3NynaAP8OvdHs9j3/KXKQ7qZY6/U/GKuUROjY6YvXvOaHiIDMZK0lHVsWgeEiiNE542i9xh5iInI8vLisDMUibiX0KvbJtDl0RWQ+12Uf4I9nYu+uPT8/NaUCn+my+CEaMnCeZIvehdJ2K9egxtP5gRkqav/wiP67i64eWSqiaT7B8t8i3eu+2CUpVP8s+ctOia+ojqQpGjGVJ767K5LQUhFkCD4w/zZaIxbTdHLwrksV4X9Eg2CJOWCof1liPLnVTl/Mlu01BgsQ22hiNmq29i3dfuksqAq0qzoSuTfIYlxMyfhHeUycoktR//WQHlNCzJZXGoRex7sy0yr4seAj5jS7R+KhoiQimkXwc7DsUbBUDMyXigVgI2JD9CY04MzTFhmN6isSWqsUTRhshR8aKCveio4mSF9S53lqCt3gG9iKn0zH4zERHDFTvxRRCwIFQkFJCR12mjJPT4JNOoh/R0YuCsnEVAvOyH75c3RHZjwie5Ig7Dpd7U0TGUk9+JEGIHkGRNZ+xqtaI4W3MTwsgFVXz3Mk98jL7HTApo2GTkQLAd3rXAWrGHNTmhLvYKi7voz3tfkQ+nsCokL1PFi0pEe6tDFoxbiVxFJAPCfpizk50ZE5dgUSYkRTGZjXO6nH7KMZJ7FUTkPVak3BQdS2vsWaZWIvFEKACDdklYpQyFsYmAq/pIxjvP5srVRaBpyNdW9tOB33wSYijbUjxZFqq7mbXsO7ssrF9qxdEHHU7m8pLchGS0cRSH1y5NF9S+S3v1nK3mz0TBwxCq/CarBuRTCnJ+gSQw813n2voCMBH1SNsM7GBUhCzZgVbnhKSRTKhyQtOAcQqekzjP9WpMSNQEp4fKTbFgYmKHQqAFF1CNC81sIKJBRhYFLMmJYznjJrLlMJEGcRpQiHdF9L449A4lgwI4VyFnRuI0N99GSOixTZbOb1AlcrfS1TxIFQW9iirQZFtdbSoHAi2LiwUo6mhvcC/UnTFyUGVOdKUefgq1uh60+MkEjLGXLXkJLAbMkNpO9pwJLIk+R8EVUXxnhLvMRtAVxtDImJHGESbEZFTBPi9BIg7zoX+jMBjYrL1TL/hBREGcUUsqLT32+hE2L3epfpwOS3d9xfYNkMNnGsNkbojzrIikqWPh3FIaLO7WyQ7v4FWcfHaMqksaNUbrIJRB9nXJNf6nQUP/MMzcd7HFvdFtXxNaU05oQsuL2A/gJpbnnrI6xLDUjIwEagMIDEB+isZ1HZxyyrjSvDm+oVLZf07Y3pu3NZle1XnasEoZzdRS2crRbjaJZ9H8O8bw92u4/LShIE5OLf0+7VAr137+750Hz6q0uvdBSolb5jO5XaKb1W/THaz+aoqQl3SQmNfV9wgIKGFzK+vwHuAPMIAK+2IaQLE7IMWvoxgCtA4giTtRlOrq82R0Qdje/9Zw01BGJHhIvNZTx+rSmkLgX5Got7Fy8FmSpRPN00keh5O5qrFmtiradoChsEhHQjnOlVEjEVkePouW+y4W6t7GAbyzIX4+rx4FrX/ZGFSUxozIoZbTUjmhqwn54XMAKIAFWE8Cjn9BOgJtvwENFXEoAUQC0BKH4STqWU151znl1HNMzBDjN50zNnNfW64Nk1njhADzGkL0WZEo8uVR5FpuiaJ7h4iZIFtJLrNBXmdfFe4E2zFU6/bJfEMjBLSg8f6KF5JXItYkVirFvcc36LokvU3YPA7yUPGLKERGBNqUsXULiP6UkVIAwAAqDwBPzthtAdbRgY0e8pwCeAJkOY5CINNXF5GfPeMqFdHRUV/BGrwI6IDmCKSYx5v9qthGirGeKxmpNnGW9mtftkYY2jXcy8UrKQzEUD3lNVmMqQTJ8IUBGEgyHzfdFbXc4VLv8nHigObRO+8lH/Xk73jY5pvJBXdKuSlVXZNaLuNOMWU/NC4AQoZCmktbgeQkh+QkKribDtCgE8KobAyHIzaequcUfUXPltEzUM5PBQb/X1+zBlzXONJ0xCwIsjChJVnMakfthCwLltOUijmL9xLai6t1me1nD1rzeKtdagXNC7/GcL6YjI53fu1RJ3FZJDJi6a5mfBWkcldGjeLFYPumTLN9phihIiLmuCWwaQjhGKy6YKJiiaJxgOoTAhDiPJ5XSDUpFrmzpPV8z5HMiGaLXZOjsqdgzOp6XKKSjQkYbeIxnKjKg0cgFdeMPB8uRwcDUtoHA6OlVr2jScZUERc0l1q2PVeCLR89BuCCiUdgV9l+ymzZs2FfhVruNjmMokpgaRJl/Q5hDjETYe3XL6qV31no1qRIVGqwqMhoYqmuauKyKdo3msLBCO7NHwHHENhFEGWJShMVFVJSumLPYftlpmvkLDNUkREqkCsUSBqE5nx2c8dCehlW1hgYMPFyq77PGZgYdEAvfEGwuxbybq0oqL75vtzAKrY10nlm3QMdD/6sYyUupWfJ7oKpH1dOF/t/ib1jHKe5VWBBpDbcfp8FYzzJEmuoZbvaDFJCV0hWEqk4Nac3kRAdStFIxFEylf8QZ92+hEJD2yTpMX5ujFiCSFRP1d9jzZqeZ1Okb3TriS8n5beJ6jNJoiSfk1UXXK72zqcVPYke/xWopQ8maA2wWl2IZiGX5HqEMlF/c55lcj8JX3ubDXug3E+pu4zVJEaTJ/LXeiLz6ZBnFLDD1RqzuPBFy82LQK4UCCVGOfazmwipGrU1TK3OXkYOsR4SVhzJQ2mrP/YXyyoEU4KuRzM1uCQbLk0N6OrRo+07FXM+sUr7uMLOhDqIjf6WktZrZYigk5fpAdYFi0hsBQQ5yBbtkkStVMpwazkRXw27jSDgKaQaxqHUnVIbPZQNWXZtgMc2hiUykV52tOM6kvuSONiX/MDA5sFqAzwWaPAmGceFWfL7vBRjK2fOyhAI8mumJB7fsF3VmZycw4rX3ss4pO4rUwbGAooNxQEHCQm/x2TkOGV26/Vm+5SkksjdooMaslGE0Y6CrZIRbNEeK62TEV8RF4Pij95Ysbr61X0BpRpSvoLzrdnokqvaZ/F5Sc0oXiTsTxQBD8Eiq0H08TKxBz405dmEQQSBx2250F674UB91IrsyFG+5Ye/xzckM3YxpCoMLFx9JGlt1eujbWVaVHlqxY5BUX0/XfOhZmnpVhXVxXkvvDPkmrW6+gEl6KbtpUluJy2ZqfIoM+rf0XYSVrncvfzf2LrBV/nRPZ8bRALOLFolE9CHIIPL6hon+junNWBL1LPImppcvqkz033O6LbVkSUk/NBvInjvIgVWRWZrvXlYzzSAh0EVeaVFq6K9DZRne6jpxJTTqLZovOJK8IomkA9FuHHwdS0a6MtYJ7UteWX9EzuC0llUlFY3yJC0jkfYLxbfuvfvfOwo1oWBsW6+ZNXIKFkOeSexWbyc8vESaYd7UiZ2LnR2Iaau0Hj70Z0ackkCfJuVPjHu5z9TtDB8f6c86MrrwVqDHzIBfMiXVpaKEdid97trSZ5uUSgSYSkYRkEdAZbxQzQmOIoztx8EFhK2Cqn8PqtUhkcnXoSa6KsvilcrG4t/X7tTQyItPIQWYnVvsGPOncVjHl7TUnpjJSDWem/w70RIK4yD2WHgbWwIYXqdhTZCLJ09H3IT37bw9kTElw1lZWja1QhSTerEcyV3RbVitJ3lyzOT1C7xp8JZNYLJiMLwW8yl/1+i+TO9xsJOMhQ0wl3pXk0En5Tn/q93JCsffFCblhHYn2KM+5FFYQzl9vO8Fccy8k/OP6rurFWInJa8i4n+smaz8f/SeTvLFE8EUSB/MnNeN7IgYEu8QxE98ieyfEv+uZvtlNpS/ShPYY9WpvwJKMhtltXFo5pmCu5iFeN+CvMdGUgOb1vPKE5EIPZinl5jRUiWpIuG28O5+Hc9XG90is9zJcVYaN9KBB5NTf61uzGhmbqUWhsZe54H92JielyXLra0qZYiKbILgk8qyHc5kYhxdLsQ2ZNqolJjaIFlREw/rXRZYH94JZIaWBvNSjJpNqcTD7czOB3UTEkDmfolBHeknm7LcCu8MM34pkhaOKuSPgikohGOYsEdi1/6DtVMIZAimBFVrqZnKc5ausz3eXqdSyUy5rXiq4MsZcIaotpBMCGNjv+h4myvosfZGtOhSllqZZ9Z+rqbBmlk+eRCWchDCcIOZy/wiyE4w94BcwC+7fRKLLkXU7jmWhJCQKL97jbFUkCuZO+TD2wKcWKSBLLy6je4KYkC2iKW+fhMg5q0/9phMHltfEuXLWLBTgsRkMtH+Mi/nnUuHnllwYysX2D+yfad9UcWYIVDgVXQyjAcSw8tRvHwRUq0yloWxCaXg15MBUKKA3rlOJPnd17DsOpGzkwK54SXZdzLqR7RjKCIE9mU3Zv3XYMtO28GYKYbAWxws3uMSKqnZt2EkcDmXDmPwXTwJ4tEdO7nj+t4CwY15fdhLNBHBQHXFdQOBlIxVMxzdqkPHrVJHeLkkNP1Tcs1mIqRTnQ9DeiI1V3SpL0bW7nOVDiuUYlzripJakwtST2V81CFubWbnqzuCfgIJeZeUmx3OwtnYWxqENKn2WUrIvBsVSCLghpi2XnfYqqly5nVSUWTFTrEWwvdcCDAwbaipF++WZTlKVl1dEnwzukjHPwiYfWUtW9wLuw//jFCAV0Vv/fABgAOf/5/+EADv/v/78ABwAJAC//+bSttDqwhvx22Kp3UJd3KFqBP9YM5tC9MyNRbgNsIYJFhLAgyIFGCADFKD//stEiwHyIxKvccwrW1ZeuFwxSIR+Vub96zDdFYPcbjzpsK+JsziBjkbXjaXPWO8q53cWgUCzMVTJh1MaN/l73keTk2QnpSkvzFdlaILO5D8qxN+6gHVURP9JLYzdnbE4Ny2yUqMy++wjjidBPw8wWcwUYKuIoZeDVDZhYhlW+xeOzspZw4Ijwgpwn7Tbi7rw6DH4C2JezST57uoB5blH55IKfxGLex3/NYvj4OSnjsuJhaDF7BQmLdS74vSeFOO7YWeUmkPvIXKYZ2CZFgRPF7FeewTYJYMF8RyaadhpRJOsTKuFDHHcGecDRPYQa2h2UOc2ugWY3hGhRAmx5db3dVfJwmRY+Lu87dhb5VnplsWP9BIMrJZieqFo4AmBK3cqhPxBBOT6FfX6z1lVmTtWirK4m8b/vbXhcOyd9DJQnrlIrUpHfVQa3SKEU8nyy963yG1ZHTRH3qt1+CXAyZjILa6SLydXCCkWUeKU6hTHFs0wsbs30NOLMRnXSjvkOG9GiIr5NCpGt3esxSg1TfbWnV/ySnv9LL06ZednFBrkdupID/ku5+wZdxMv0Uki7wjqkWe2uc6zyBPxJgnI5Bl5Q6jD8Kq7yfq6wX543vmXw0w+4FgBNSoMK2Sl/0VgUMkXRWQkKISeW3vdYJUfBEZ9i662DEoE2ZEMu+5LIbHrpLyYFbU2oT9rwlL9OOxXJsFXmOmnKI/6d5R1xDFv1KHKCtTrsgg+aZIZ8LYE9FyOTEDuE9jGU6C20KAYCs43dVbQzTcpJP15eyvwpJXOpd9g6w/iR0GeKSfH+Lpx+yVrCoL3G8Ih6+m5uz5ON3AdJAG2T1/LkZJ8wkxVFuWbwUxCtb0aQ0z2+ynKI/Wltr6EkKriHuLgm3UGexR3DpKhnioEXNuz1zcCiinGtpmJoIxch4ARomkoFmfBRimEqX1kpVEvZhgBBjmKdTSXKUBE3CHHIBhgXQx+KW4XQ50VlKXwzYhSoSuLMHZU1dWIoCJ6PQaDskSgwBaLGfFtODt8KfCITiAYgTA9EitXcfjR2ySkD++SXvbGyKCinRK6apk3xQTAsVZHFZysLESUItBEUFg2EkoJzcu6FBEYMzcJypyouHgyoy0fjdO5nW0zKioKnBvhtOIru7TgdUZsR+OB81StkxIye4p0EmXAhJQMIiRQpgFEQwx4eSJCnQ4+HlSmVKZcZ0TqT22Ov9ipKjCf+quz8TL5NvE9kVrMrmX4HHxr6nZ0p3nCm+Uaxeq+phi6ty+xeFN0hYuSYLUonYj9iI0BY3X+D1UTR51/zYt1KylNCTVpDSVJObs95xOnt9O2oUal2+qSlcpykCKtGiiLjNyZsdirLYUYiLnnWhNZE0uUclvhtxXnMTrqWLHw3mCeWO19G8hi4jsyrCeSu1eAf0ClTTE6q2OG0YOqhAJWVaZJm7ffOVziNaWZTKc0kY84XfJFSwCKB9BbPIdAE75mawUgIAmBZkcJxOIncnNIviUKmMxgg/xKao7G7ZBQdnSgkzxQExK9qKNFuI+F710pjFwkqQTPDxFUOzNmhkrLS5JjTUG2Q0shn0o6yinu7CXWMWx5CiBhG0wBqC04J3wYlCkuw2/4xjgm6i7gETihC7f03l6ESowpZhoQpc8iTnDQxrRDuNVX0nypSRQkiFgNDxAOGYvS2iFJ4d2BET78Uh1zmgje2/Vd1IZ5FMYQ0gDafYQFAChMeFIOHc2DfgUbjKLghiwHkjHyiyAH3TfUiVyERTBSRDARKCNfMzDAT6hPpO5lz+9RGuZCESBkKFYpIbkXpqpHv5FbYophNunFTyo3dmr7k+uXUMX3d5So8iR1rlBikEY4p9AJhFrgx8C960J4kYlU0qWBlKnCJG2warA3NBmeyS3IdqdLuQcTjx83YxKLjI74a269pxmfSQsKd0ZTpLSs5KitWZ31UIwcMq5IqdVt86JWr1V4Z42zPpwJYBeBhjkEqDwV4wAGOys3X21o6TmCl+EQZEKfKrrlY5Ih5JcXF0+n4rSqQb00EQNCY+MaNyif51pDEdjGY30Z0AlHQW5KaPj9Nn0poL2kZ/x2HjczdWvuCKeVFbKtKr0uyZEqzXWM8kzDDMGEJBm9HM6rFnMRYrmCELoPA03B3DdjsCWIa7KeCU0LJ6FgDotNVhYbFFjEmesn2InQ6ZkNTwfvYSNzEtbIDAQqTddtU9j/heYCCY3y2HYqPZuViIF9k2BBiPoxpAGUsi1SwzOs9gI0kyUe9wkWhV4hBnMIZ544cL+2iIT0FEMYQC8Khcw0clIg73n11LLgVTBo2JPh6E09wrF02LCRzJvEYs30bUVcM7XlseL2/fD/s6uvvCusXvWnGQ4uxhqkrR7vEdg4B5CfJbFEwUN4FiZzXuk0iJu0LFiJBAt1sz7oiWUV5RsQwG00Jalf1XNMkkdhMx/TUUay6V4xOTE9q5RYFQpIxWU3HKZ1LDVGLg59lIOP1o0vOfOvv/o712tw2xpm6hHBnAIoEWJBVFEvYUGS4rVEzZPQNS/yUTXoqypl0xzuhRaJDLg0FtQcKytLpdmTkKFY+aYj+DCZW97LCkVXU2vVbVO9C8EtNyj/FfsxiSa9Ot/SIjozKX6loVGtStEWR5zhDh9vEEkAmqH7MLwXkiL9Cs4575HKqh088nM79dvb1cMUUVLDiQdB+T8TZEpIwD9e76b/nQO1GRVEYkaykBkJxQdknZQT8gJqNtpi8pY2FgmLj5dP3xEXLq3JSZLmezSdBSl6FutgBIFMeZEGNpP4KUvTucaB0zAb0FvMdglJwbwlkCami94nCwcAPBUc0UNFImBve5297NegldBvBE7D84IIwDtlwEz4vdcLtVhJXzHYe2QKYs8eUdHjf3WvixyZVIhxrl+GqFOigB5FMKNRCQLhyBAiFFATKdvSYTxs3CYNSneLB0EbDiSo6Cmdgzlwu5Qalmojt3cnKfcPhZ87Lfk6eiKw2I5mc1XNtbCRPZvb81Oe1Un4zecathkPFpe/8kOv6vBFCVJuiLCVD3E2AKYBKAr0gfT4N5PhToChInQVCuNVjQ/wUiFEjjJfFG4gnS+V4BDOaff4ys0gqtR3+kkyRXFij06VUSpGZcWBGEZR31q1IW3srPC/oKO3NvtsESgVvLqXJotJFkLQocQp9scLEJ0EjtgASx6ODLG0fnQ7nSCFH4Y9PACqfaBbVt7ZW2de4x/YdDn1VkWBGEsu+07qEuDntoBWCVvYS+Vea7M5CYzsrCYd1HEKBbPeq/ESvkxuxOqhy6dU7LZ+jf5vQ7fVLTh7nz0xYFQ3BIqdGFgWSJEnK9uNt8GNIyXomvkjLnNPKtdG/lW9Dk4x+0yappd9C1g1iiODgmOgPGXHEUJ1sESRnj1o2ARlsso8rEM9lBzdsMTSljPCsrJyQ+KYgW47/vzSrZi7tB4nfml/nnmpTtCRFyE2LMA+AGcAsySORnEhOgX4wu9dk0kHhmy5LkgIZbsnkTuGCCM2vXC8K6BlXSEAlRLCfxP50FDaQjTqFyvtd5UiubTcuLZad5jKenyvC2ofCwWhZqi/arBoF2jbteuiPVDsWjcYuUWK8LkzwStKABSZ4I0bhVKo1AlTXCUNv8VDiMFbdUl0TJd6GwV5BHMXu0uvxkZRLsxzfm4arqb2QdbaQtZ6zvTteyuchrBKWT2lEhNL/OW2i2L7pZ1Ej8jhIW7kyBQ/H41sd5r3LM0Zs6JUM8+x2m0APoN0sxWGwpE4EHlEMVbcbE6xyw5oLGRvT7K/Zc8PhezyGWWBMv8Vm9HR+KTTu3eNUJ1BKHFS6s2HgtIRfNzY1ObRu1hQQN13XDqpe+W/WLV7IheHHVvJilT8xYRbZbYR4YbinWoHkbwUM+FYSCCKd3n5FK03NxR4ROWUkrdDsySFXDCn5eA+EREM9DFlGq+6RTiZCdxMCbitldySk9nBat5nf1deSvpTZT72GjuxMYEZO79ftrFpsXlQuLMs9K3rNOEp3uEqEmdL4GtAC1JIXTS+VblMrrsCuxdsrmlmf8C4Pwne1ie3/EcC4mVPaKKCaNX2NR2cKi9Hq1ZaLkIjR1LAVCVQvPVpuubZxiNjZGqMl7ihjqXV3GWXuOV1em+jSXQawhhTDGD+EtKCFmDWQh2YBDaXScOSs2TtRQHBgeawqbmv2+LE3qQlxxrwLiTVQpaoSNlxMKXmQhRsCBPL1IwEhSIUotWqFVCXldOZFS+sbmb7BlR1tvnKZNsEtzNJMC+FPuZx7AS/6mT4hiKaeiDYIIsoAhIeEgPGtqND8YTASNWje8bnBdbpUDIRTRzxo71H0S3jeyNwrWupI/yssdfQf5oKKHuFEicvS8P/WySoVqGpfWJikXrH6JQWO9V4ZPBajYFqSwcZmXa/dYltM/S8JlsDVLC3WeMTpZMVbBBKG1JVklAt9LFV4joGExFk4aq3ys/SyV5cJ5Qe1bpwnNCUJYUFPh71EAZxAJpM471RUEskb90/WPQNIC0A2gWGMr6FYXxUEt4m00syG8iPv6BYnqJ2Pdfhn+4ZORVvwVI5l4n/lezYU2p/Zmm6tENCYXxf18tSL9Kzjn1eFnV2azys+mhZ1SEAtjF5tkKPdxIK52q3KSDQ7RlcsLaSTBfNEifyFcbBDblYJ4CABpPHgFsBWBtHp1US8O4kJLeXleYkP7U+7ToZP2mYgVYXJTXaJdT9+MhkkYtbNHLVdX+qjtfDjF8rb602+z5TFbIbNYmHexrm/6MdVKXalPfq+VVS75JGb6Ri3cDOL5YaS4Ft6vzDwcUiq9mAnkaUZ3bKovCX825SQcXykr4JkeZYwpjLBWsK0q0qk2W4CexWOpEJJadYnBHZHskNHRePqhe46SsIpmqXaedMRfkfVTaSkR/k/xEJo6BPWExDXiOXi/SctMvaoJujZYMKsjNaNkpd48LRIrrRnICnKILBrslOhqiYMSxTaTA/BkMeEiU65L3BPIKBicBqMlLLWVEbnDGpIdllVWMnd8IqZ29/2aJsu0Oz1eFCLHoclj8UEaBQIxUYx+FJEFwNwoEfWtJsV6WEwnjCQX+ZWXH42kfqCXQ6CsBMIyfBG871QK2I0pjxrUhfJ21uDlU0b08J+kJ491+SigpYEKgtMqdq6kajfNgxshr+WyEjOGPpPJUw9WqNGshJgXk00KXyWLpEKKR5yIiDALho3pI2syPPjATaCJD4SH1K3WJuEWDYgrXhlStXOpfTUlF5to6Y28nYKFSWUFXk1ElWs7taELY1XJBUpPW0K+eql3mqIkrprVg86Gj6W0/YwwnPE5IlFfi7F1hMk7VzdpIvVrK5U93RQVFkUXLo4mwu1ZlS/IJoZgkqEDfIMCY1ZMwIgsEVUKikmV2YSICk2J2W6JHRbtPdawIVEjMmNU2i0k/lwY0U57Wpr0Fss86NsWmn8KSnN47+RySNZ8Q4NLAh5MTSrd/imoYZsiqvI/aFU+0FwjtUe76T2zHZSJi3gyf/2a5i7jkwGcl/jepioGyvNUE0sk05QYuNupFCocIq2v9ldi8AZVGIbvJp9axE0yfE5RDy+jrEpUipaZczrgf4DegyBk8rmDfjOXBj6iwxOZUIUfE4AmaDJoY8XAuLyEZWCrH/BhgVUZoo88dU/9swS+5wpUjIi9DXELjQprc6SzVpVzxYfq1timUnu0heHzLw+gaa0JsLRpde2TIys+AIhEGJ3r+2JBcUxm2paWXZVzSmg5CL+mvxpX/XlfMT0Letxm21LilG05rG58gs+bCXOoGtqUkM6oF6hrFv0K7OhRsQrNPlITykPgpDUZd8uFokhfis5pbOvUG7oEdNKfR0ldeBGcj6I3L9ekIrI+bSL4ydT/0qQJ7c9ChnA/Gf/+MUIBn1S/6//Bv87AIIAof/A/+//wv8T/ru0GgWiGYhYZTlZ/ZdxB6/YjT94kMEbFcrBeZsxppNHi3mm7aZOQuXIUHBCwoG+1QIrx3q7T7Ch34HkmnavDcUsTFGN76HNw6IEOyaOkSOKlFfY3CJaIUgPJNu73xdFpyRSlXkaQEueSWikZnPBVRlO1LJ/ocruUF/fmyhkBPmp5ScW7ik+Y2PATKUTJcEWxe49muJLWudrvdlCBB1xTLjPunIetAGI69NdYDItmfK5vTkOvky9pF9pu9irgtJcmSH1fQXrSOcHriINE+bGvleVZRZmwcu3y7HVu3WTRCVcuIDwHzssLoTTyZbBjKLQTW90lKlO9pm0Cn9/INbAzX0F/xS2KuPkP2EkN6euONfwkUMbHXE2PixAH3VWBogs2fyK402kSsFeE7iF7Gxytp6beOZ5fZannke/WLV3mL5GXUTkE1Sqnjlb3qRiTLJ8cypADn+GHhRdB+tlkV8LDsON//M2shjCS41dv41Ij5tDsOzV4pONr0UJoUq+SDOISr37+kkBjVldMas2B4N5DcychlIu81KkcnOu5KsxGMEM51B2if0JOr4jDTn+C6Uey03sdPJWlzBV/4ZbyHYo+fewMbvYcv9TVj0tcgqrOeyEcSO1z/JrVeTonLdGHps/vzI4bbfDZFy2RYmZCpR4RqqJknGhhlAGSg3I+nwIq1VUyw6lJkKp0pC1463CShmkp0YGZ82Ho3AR24lAX+I57p7ZlGoi9Q+IofGnbnhToHlghYgnJJ5OuNuvVXrLnnBc5lFKUSnW+DADdWuhyxHZPZxUnZ+b2E9M732ImSJH0PYNGqeAl8lFIbr3azFEEl4hMRgeIkRN3SBKyCZu4726EjlKC94/YVebpTwHNzRFtXa8zdYxHmJLGKd+UhJoYkVYS1AI2uhWXKp9Rg6hhBAsbSFyHRgATgLiXKGoHkySGf0AkwZsoExWwUl4k+PyUyHozvvAuOaopdAjb9EEEH2ovn3gsqmEqe9PWyrnHKCHoFDxZUomZFwPAi+3kJZjUzgkkfEXEy06M1y1WlCFJgSwdHp1helJS8lFl689JQR2oJxz7vloNm96apnVjMlL3v3CtRfyGvJdGl22gmNgYntZpi2QvdBSR10ahMzhkyhyXpFZ9/ZiFDWmynzrpFbPrepvnkj62jQxe3sXGOXzEOyojPCslKgTC4zmRPx1B4DOvOARwHqVxxDJanDyOMrFDmrRLtAVI0kmq6YSw9UkZB6oSOTbGcZlCrGc7/Py/GvPFYTMw/BNuT+E+Rz8G2nG8oeVcSCltTKd7dCCI9sKY9HVpDwR8a44loJYtFAGEMijwV1atF78Ep7dHHFo1uAgj8MebtDl3rroh10y2koFX4mtnvhBlY0wntFdndITXzqESaCSHbALvhyf+DKQFvkwqVZ1fndmX61208ng5/qbgKKkjFtaaTQSaa0bRE/9xuSUNivF/oZC78NDmuKTmLD617tBXTlnnfCUKYgVhBJSgdSFD7LP5oIqJot0aL1jS2znxb/DX+EUvJLLcjtKjsEGltFViKKzjsnGYknmkpn9KZ8nheoDBoWqeMxFscJImav4bijg6qhvu5a66hcp17E1GEUmEoYdD1VI3cWrtUnR4ukRGn2cle/BjwDX+2/dBBZ+RUO10SSG3Jbz1Xne7QUVNlIbj5DS4l0KoY5BEXBqA5E5kGA0xDioT3YJTwOQpM35GFfeOJzF3f3TRexxpLKrlvq2tqg5DUqNhEO1ZQdEysZixqYnTVvREFHllfw7z6G6fnLx3YsMitOKVNi4aoNZfveSvkUybBRzKikk/hZewZwZQ7uX+qzBYKwNgjl9xP+CPPUkHQ6HoZjUXV/aFSf5Gr0ZfXQ3UxnfiL03XRKvB4PZvJZ4OTM5uKDjL2ypLthe2RxUvQ46/zV70NbWUGR9bE9vTVVuxkvMdTAtpjaqptBzl7d38/DL2RlUfKqfTLVtusmyREeIkZuSLoGgIwCkZwoFqNvyBTtj4CuFNwB/ZX/SOQpRhtjbrQk+uGEZdJZ7fZDiRMhywBHEMJiAN4ikqgJ6+YqP/sObkH4qUnq07ravh2U1QJLfvrdzJIW58Vu1mSQtFvLFp2oH1iBSj/+KpQ+FVjQITCqDBkPssw6Mnk9tRv3o+t5TSrkJlJrBfhGjEcJYipvDjyssJ1B8FO7jIU2hpLx2jNyQ2JKzJuE3VIqVG9LrpPtLo55IoPhTYDIqYq9QFEr+XvmpmkzlO03OgTb/chIJQiDiIiPpkZW0faQi5X284shbiyM/ULuBvCPKLYiNK0VETtuRyzqJis+NjGYpu7+pOZXVW0vMSppI0OEUFsFQQSLYoWekFr2DOIwHUTF7lNlyIobBiKqCrcv1NVR7hWeWWu9r/amcTRKFUxHTgqOTCsXLyQNd46hromO9KNronDWqJ4kV+0FVUEEkBwJyy6EfEQHc2r1+ImhoyDV3i+KKxj5u6skRHcln91PLA6Cd+HGscEtUKT5LitHWMceqtchgB6AEkRiSBH2wMWKPiQA6jSAwBFmDgpmILFiHSE+yb+wg6xbCF1bCcgmoGkQ2f9peU+AjhQTdEm/sbuvUKyGhu14jfR3PXZU3cGS7S0ymhtpKZmdZKJ3el4rK/NpKlwF74LYj1wRIvH6tnxx5mOqN+kR0Kr/Z16Df04Uo8YxV6bL1PsTZ0l6d6eANYBBBpH78iFOk0nVwYVqD2FMGGQrhII3SUYhQhws20f9XskMo1CJrIiIVhGYy5r2WmoMCtWIrd1NZ8dbKpQyRuo1C9yyhZHB8NGRQ15l7/hYYSGeno0QxsaO5Fd3pukuJHSbVttwpRSNejmAvYFebjDnCEoy5xqhroeevRL6+tzn+9+EUY8yrz06EgAE0BVCVDlEzLpxjAKIa8dqoRwdLleAQDnlCBQ4JtpZ1lKEY8q3yDKlGb8l1bbWD8RT0gTjfLgQjyU6V3c/dn5X64ougtUbh1U/NdmZ728JcqnBdXZ9eVW9Xrkc5oXU8/zHiVtF9WMyupI/WtColGJrToF1FI+1xtrDWMM8dtQr/zLO1NMnwpfVwpOKAoACAKQC9O8apEB0FMZwEeo2EK0s75x7L4hcMmUSUZ/XibLQimdeVAgHOwd4Nz+qTd2P21RSySJPPhRjX8W8xlTjXD549Sxi/XOmt+fQ36ucjWj/GkeU9f4+iqnE6S5sPZ1tqFSm1jFdP9GPvIyGuTIzbLAro3VXUtx9dr+tFJVj1QpCwBYnrEhRuEv06+48NgAQH4AsQLNDGwBzJERQDjG+IjcQdcfTuwK+fXKeG26iY1SMxCC2VuXm9Rv4My6GmMVQFAuiYYRWwthbv+AIReLFqxqT5VJiVF391CDt0LXZmZdZOKud4nrCfvFFDr2LJkJpY2kwWXm/CSCwxVEKdl6kgEbnt2WK38vrUPN8XeXRFYRHZSzu1zCQylF8myLY3FndTRKAEAeQzYYP1juPIhU/OzxyvhJLLm1GhbrQG3TiCNumxQliBYEshmqkw8F9TubIKEIt0BiFUmabdTqQRXTMIBlKMWer5IKlnqylY7XRGnTdmbO5MBY3GAaGCj65MI76jnQ9AxldZwCCirpkc07JqrwvkN5UyP7quiQ/BEa6RyJPdu0TCbJHzL7F7dkKqzxK39WeKAWQLoDhAAjSUAIwCkcJgjjf7hAGUd/3YJZ7ANWFMZlCbqzuh2IJ8kv5YjeEZdqWS/Zf2D8LoZ79fCYZm3Gz8ZA3ZSw39ONtXS678bdKQXvbWfjXwCIzoaOwpmBL6Eo76L1HKXA/FLY7UEoje98HYRDPwZJqTBsVsPjQ7FVLrb4pHtfF5FAImtO/UapvzC9vXzO+HAKeeeRlCCtG/DVk7BZmiLAFBpwkZnOItxHYY5oNN70MGBbAlbWVFV7ECfZSBCShGP/BWlChm8bHM/zBIoQC+3XDPMyBNVP6FBQ2sS64Fd81RRVqvJ3SRUbc5NoQ0SpSCoKWBjlZ7j7iKTCKtZseeuSCa+mppelB+X0kt5RShJ/+NNBHlTJBkjTVTK48dP0klX9d2ic96fvenxbPRw5IdMKg0IYW3BxJ5HTDpQsOYNU9bnOYAVA0xCngnmQDRGt7apEMeGZYEU+mOU5aBOCDkhicy9syctIsypMj9Y1EmetiyLBh8M8g8WwcDDRuQt5/Dc3D9z57U6J9LqNfk2pvbqFxxOkquxF8Btft5YiuWcu0kl57SoTcIlo6DZaoZc1jTvPJq+894819OQV417fhOdxr954LAIIZoaIdHl6+XLSoF1oygg3YFElxaqQTB6sxClMarObgx1UZxaGDGigiLSnSVuqklscJJYEAsTgvpdoxHXGUOw0Zaw6WH2YTtobWV+cabQd8pN/LcsKD5/qihslZ/K1TPrZhy066ToczPTEIqkC8ozBtiUU+d0qJ6vieWdP3fdTi/+n216ZXOGVrxx2aWtWV7jj+q1NtNdx+uEAIsUA/ReC/W1MRVWpapuGWCgCdNB9k1syDUrqf4QS4RYuneuoYhsNLZjaRJxKvyvJmbgaehSu9E6uOgnz+Z8Ip5nlokDFxLb1qr7EhvImX143o2qhSOEyYfHEfjqJGb1ySIRkZRSz9Kqx5Izf8if6keAloLfJOc8qk8rnkd/o2iWeRHOqCjU3M1/HGOgX4XQV5/DnNy9wvLPifRbj8LdLIdrI9YR6I1XRhkRmtqvQ2RyZSElHBXvzjUVNcUd3AYeRq1FXdzWXNTd/Y19nhtEe7ib6vyYdT5w5r1Zyrv0GOTk7Z+zNmc9NoKwyh0fRIRTZMoWNUdQ18otfyiPNgx5Hv6UyaujKRymGlHBtbQ+vV/6IUaF7CTGgLkUwhWIV5BdKU6lL0TcUdRdtZY90X6Wakofq01OhkY64g0xqUSGVFO0MdMSN5Tyd3G4CN5PGUp5yxg81lOM+5bKbnhUuc1uTW5DJk+iarPqGaLlJe2SidlEJ3BAPIVK0Ju5XJScvNb4wsTWZiSoCG8GWMpsusqibZHUiiW7LUJItFiptiuZd5NnmuZjr7Jq3aWXuhNrrQDHeys+aFOJ349OknlG6pLazE9tXHNAv5CuBmV9l2U/tGQk7s4vd/1EXMt78/Feqhy2PSj79CfevIsTJskyyRAXz54iSwxP6c9bMTdSer0EXuJw7vyxz/E7X5M31fLV+nviMcRHcYzO673ed4z7zMuIFLUlu6Yu7wGDNVNG9DjF0ePRT3mJQanTOIqgTxOvDx9rFTVmGRkmlOJYYXUsOc3GGQH14TqMmLrCo5mEYkpHGBZKj/ORN6/ocf/3ue06uW0qq95MTSnJ8dIZx0FEEaTxflhDCEkpwnOJgHoRQRpM83E8Og0oxmL5CYjS2ahbDk7d7XgZ9VVwi/jUay+N0qkwUCzRtwJGoNKSAryi+cFZZsbPuPukvpAM/UkUhOp5T3GDxJxXis/UAQiDUBVessKR2s6URl4xmkdzVW3kpXLZsXyuEgxxCcKJIyBRfE1hzk2iiHEgY0sRHeyqY/m0nJWxSyDBoutiJ5NWp4aq5uHwxtQVhlvDk9pYmRZ5r8kBqCML/OFMVOe5TYy9GbVY1dsChynXrPRaX5WVtu4PaZCYBGwYy9lVHs6rGjBA4btOk/Oij6hcyF5yxfB2/p04qZLh00o2+iaZWpzPGwo4b7L4dx6zIYhh3+0ra7RuF+txef7/nYvjQqXp9voJWSXBYl8Rdq+rXULMoF18qEkonHfZtZLREIqEO+icw6MV14b5fPSNHStlGt/Mq9AVHTKfOjeksaHByy2KOgqvcFgY3FERKnCty8auwhjYRqwSpH2vu4GWHjNemIL8d0W0+lKv5QpKIqVahOPtZiMs3q2nqgM4FscBytYzjq4Xe+DumE3gMMZW6M8ypd+PF3og1iHHailtMmX0QN/X5jNp8m6+5WkWSjeo2E4IvgrGlLfZRhLb9CjTENop4MLKWmamMEoUzoydoAxW9cdYkATuPxLBQGBzSPwbMVdQ9djdXqcfq7n+0BVOrdM7MYTAyYw5Ji7DSUQwv8B7G5cMBBwRwQIG1zd9DrVhuxQwnXGJ2dH3QGa1QTcTreE+Tw1N1WhQkl01haSi5m9JGp2wKPNTGVXBLrXIlhFdY+NPpBGNiDWcWrLjFsOjHdz/o/1BpFzlUuXwn8ibpGkfua1JFqZdEc7EwoembKz5euMFqaPqLdq9lcLks/Yyiq0G9RnQ6VIKNx5zhYHai3pL7Lycm9pQh4xtobgWUU8kwY4PAFh1L4ABAAXMCvsmBYKoAuOdBiIURSAMiPhTI0VMU0zB/Onlk3GYZLqDRr1syMWtQSAaS0zmq2T0pb0vzLk4UDaxDXR+AoGiN0zUTa2XMRSW1qfiqCf4rjQCqbLBZmaNQ0sh0Dq6P/4xQgHelQENgTHBdUF2ARFAwMDXARKBDoDmwP+tBmltRjwUmUpMoTexpC/nACA0Nos1ex6le6xvZ3PKkHUq8wpKwJnJ2yxe/9G9piQzadknmViEBl81V963Ly5c3vzptxESMpYBwrsBgw54P5cSYjogmkKIF5BenqDOosjqhHF94O4IagiXcS8pZ8HDUM6wlDqzlJCdEsqJG5+i3Sam/lM0N2tKAfL17nK+NXuh+7BPapR6by3VsuU1+zxWFzNspV9fh1phmlRqdtwuFYv2k7jrSQrvi1VAzIqfM5fXKaVF9HGRkzSEajnmVVVFrAQjTy2IIEsYijDRM3NeoEKI8nxYhBgT56lYA5MwBbgWsC6cFdiA1CxO5jnqMaMwSHHzmZTanWTfGFEAVz/NDb0wMljsk95qjXWZg5E30R08lrks2XT1uab6toXa5pF0Gsir+VCvtXbbNofS5tS37Yi3UtuVFJOT9dD8W5S3Z2EcsKdMKqkUSw7nlgWm8Zmp26jMrEhgQbF7tzx2d+tmbbvO9D8pdq0l2aUrXPUVJwqsEGC1Em963FETYIf9tC0Wei27DWDeL0UGI6PqYQywkCWctwpG1N0SFSk00MHgxG1JofU4kRXRtB4TzCsOzunsPi6N6Xl56PiG5OsvkHZI2W9Yjz9tL/8d+rarSfs284kL0pVpW5mVjgzeFo0RSoyODEqIzpkIlTBt6VK3VkZZ2nWr4Wva8/dbNbK3kMluKOWyqUSKXSmaTOWS+Y39xYxFd0kpoKWpp/uNwprFGExPyURsBgYBIfDksGozC8+GYsGB4Ij4VFZcYvTkpL8XKvFiv2Zvnwci3d6SpROUsy9eVl+YxT+y0p0ui02rRVLlDBQaYNguFEImKDw4UC5cmICxoVJuJSBreb7WgIN3Ay98Kbx8qa39bXVxa2Uhu7a4u5dW2ssprySVN/Z/vlbTft3rct172bV4rKHZGXnJ0SDstLRceFHARHgJBgFAmMh4KDgiePkRwy0SISyX9MhYx71/4rVOKG1Ga4VvdY3e90LeHJqymTzUTR2LLYtHC2+Jo6+IrNetN7p4d0N+PaF72vE69yKSEtaiN+Xl5mWkpOWt/3/s6+Kpi0piTXFEhI0dInxQYKEAWHA8PBgEgoYAoPCgWCnhoMOEhjzzyFkEOperO7cZL0VOwmr1FGsE24s0zT6JDOxo2eTsgou4EnyT2HNQSkyLRfFP/mnTbsV37pl0xUiG21T5lkHaiITXFwn8KtxDtBEvMzEuVreOkrub2ViziTDTw4YJEAgKEgoQEAoeFBIUcFhpYSPcHEnklknJPedSS75v97O3NzLr7bHdtouKyNnbkW7H5ur1y7dvDaMitUicNZdIGZLP+imx+ULd1/kZOfuxGOCk5OU4UmmmPWFIoPEvJCBLBRZrRAYScLKFKiBKxh6JDiBKLkJIElUmmaFk01LqrdrN3ybcai6IZbdVuRNwTEbqos9KxbX+7tlVITgi3dvEW1EZwRcI0U+sxUhBRSpjnBCxAtJgognjHHlEHFGrOciUu4KKkCjqiGyGzWkUlG+EGYFFcehNRGKTJLaZgrVpm9e57eXS6UqdrMZ8RV2VumNyZL5L1L2MprxN5iZ7z69tz7SNLtQm0lvzFkmjlTBhMwWw40YRZQopAQwJJnjjZxqSyi1MNSKdOV0sqUjxrvGP8hVKF6QrfkVXFay/Dt9EbXbTSRfia8mfro7JwVbyv9N+iJGv2Um49V8j9wjFxvSH/c7ZqkHsMWUUm0UyMLaIIIos05goSu4JXwLRSSMS81pRBqHluVKRS+t5OAQFbORntZtJHGEU8eZCICQKnwoTLkjLQInfBZvwoVWbHqf6kbDJnS88alhw/EWhCnxsIeApoo6fgFECsE4BXLQWjfxdHhRiN1amRGNyxSOIpLKGAoI4AWwAAanDPPsCwIVllBHZOavu/LVSLmyGLdCRljVzW8q6NbN+lSW6n4yYQqB2l309N76qPvvi/lpVcw1zC1XGko3sblpAKpJWbYrm7fmyshilMY1i5I3JjM/rxU6kbk2ffBUsaP3+pMipnSI5vlxJdCcl/WCxD0byk0ltizBD94jqPNYqnlnEsPY8xv0xdNQ+GL6T1XW+BWL8a30jsSBEFlE+1cZhsuGm129UHMTpluOpLG7mB5JALJb5uTyM7pVtNAP30eZ3ND0+PXKlwZM6dex2/R2+K1TH80odiOpaB/MD5K259p1b6cRBR7UVkNobnM0lkvtdYIitIZLefWKDIvqolF/CLSug86kQqkjcfb9k6ZfwhjPMWDh1iNvjhZ1LIWk70qiIO0q+DxFgOTiLc/VVldJR9blTyHaMEzqb6HvZbuxwrdv12CzW04Vdgz7Kd0c5KlNWPfV6Uo3Jcnuot2UpW6LxeiKZwJc+NlS7g2EnLoqOnkLJoCEVVI8WV9cVCaH/JpwokyhPZIrFmNbvUyegER2YuHmUDlYiH1UGvFW6YXDGD5+ISJQnm8we4Pt2tiAxgZ4Jfzc4ULfENdwnqhETme8GOJXhSfthwtn3DPo6qTEdL8TKx9rTKosaUKXiWH+im2TRFHyJurKl+V52OtLNVHyLdRZ7ksdUUV0W1Q90xIUTafEFdpZEa7kpb8QXpPfpUdrNehCd5EaV51GBoSrGIF04CcV4oyYo8OhRUck1+6zHghlj9d6xHSD9E6GUKYAPYXqvGuBLOEnnO1Xl8McYSnGMJYe4zT0n0uawOXCknwC69cCXRYiDGEbcaQkSRY6kOAbpk17MciNTt5DiIpq4jElsvEnlsYOSjhUxlDNegyPjKICGf9YxoeTXh9zMayGmeJJ9pGGMnOLc5EhVZPvGSYg5BfIJ88hbO1dsAme89cfNEuY49X70gyQgUaMoAA4AwU6IMEtS3xq8zPY4VgfIFc5EAcaBo/BPR4V/cX4xgPIzTqK/deiUU6kW7RFasyiYRKpUh0wttGCR12WCS7G97rrPnphpw0qClP5ZXsJmCKSUM8tD4stunhy6jf1tAKto5RSla3/yZCi7ad5adInd6hN7bU9VELhEr/8L2j/F52lR1D7i4LCtrQEBOm7PXK8BwBNb0xIXIsterCSpIcU8CgrsmxgX9Id+XWBbAIcaQhRPALoVYRhTqMbXs9yKFuR5m8AvBXqHTMkpEsjlX8IkTC0clS6lbTH2bSdcKn3EWazoutQQjut+kRHKlYV6QKutc9uVCOjBs1AIagHq2+wT5S1B6lV/dHXSk6WK8bLo5c0b0t3c2V9n5ui9tJYM+exU8JQBUB3cnFxSvCRcnRS3iYGbU9qo3rR9RiK0of4YOF3xABxnP1RLPLBXMAPkRwZuaJO2FtliHUavM7A4aT1OoYjdRisu0voSmuZcPL/JkML2Mk3DszarC376LslZIXk/rLLor0lYvR9UiSp4kFpiETkCSy6Z6iHxvEcfPwlUl7IrH8q5KZu/lSsml+OjN0BjBgZujYh09mTS69EmzMN+e0oB5X7MZo0giIsqPU1iB0iDqEldwdhAHf2jxvLv2td0E/zr/wkpyLSviJJUUQhGHsYvQgkDarNG/RdLxAU/G/tkaibSaM2lqc0qTFSTLU6FlsoJiEBhxa+l5XcwUXP4c7rxJ0WwaE1KT7NY4Ug6itzVW5W0uJKyioQBuCODd0LoKsgRW1mL31CPGrex7NW+7TmIwyEz/9r2UwhHwpsZt+EfCro/T7Oy9TwkNq6e7vldhyWdpfkBzPIaj52PqBVE+zGWuRkMuLJx2Hv/BfI91lJ41PcS3Ap35rBsgkmkE7tjCiGRv9ya41w+3uEQKdoook34t1TmpL1HralFBoy93Fb1RFD0pG3IAIA8Lt0EWhA8huZCrfELId8vBACim5SLoahOhxcAv5nibfthKLx2A5SQoAw+VZXGZOGyBr8XPnqnTJ2qf6Z9INX2A4rzFidXM+41Lzjidn+qi61Yz0Sd2+u0vMIgFLNlxAc6su813fm5ksKiv6CVe8Sv4FRbKpspkRpHmMFyEOaZDu8CFEaE/NAAAIghQpYwZFtF7iPxZacIfAc8Wx2iikRWzdSJOhI4qr5VCDX0syLqOQp1i0pwqtSctHujLcHiXVTo1Wlb/1RdvlC3ekRatQXalGVmopwm85Xr4JnToJBenNVrJ3X4eKj/9xoWmrlYOX2vPItl81jGRI4jTA4/FLvGsKnknIfF/Mg87pnLICS3qvHhTWlzIW1wByknfPGk6nt4S2DoepJ/G1JAsji1BmgnEB1uwPV0D5KwFVu+nkLUNYYQSfI/yOFaUPwShupOi4kVFFTKI4IS6cIriMjJ/QcxbxdVaLrAjdxwLwo1Evlu1TqEMX8SuCKdPzX1FNFlJMrq2crktYXlLaqcy7fYiO4kc1kEKo70gRLv0w2qLEbYcII9AAAFJqD5iCsERhkSYgRKRCEmicI4bu7iNrE2CbUojXIHs/2TZSJKTCUz7NKyqcEqpykL0udCFTmCj8CUeB0VWOTxQbjJ3lUgUWniGiZPWcV5MxFpBUd2bXUhUR8TGXkrqsW7auofa+3KB7PGFrEeiVfrQr9ldqrZadW9iJ0+6cuRmjtGiFyR4BTAJYd4lRmPZIHWJT/HCNAwkyE4JdV/SkXUWgbUI+sDswyH3tRmOROd22qbpmAQ0W+MZb/CMJgCuzDQQFwpMyYpGxQuoThX9aG5Y1+gzZsZJCAZYhQUkKuyFpDZr1JOMYsNWP0Zui3FFAR2+jACKkujN9v7aHSL5Tpjp8jRLmesQuwz/cMApuYUokogcRy0BQI2/MJlOoJl7FEtbFLIgULhxC4U/L2qK+NCXTiBVXaokj1edynSoj+RCs0VXxwCMy4jkEZ9KTcSjK1CAzdWJy3VyYQF8sm5yd/k4JRXcCxS8oWUvNYuTImyggTzH68+TnieyGQZBLHU4pIKowu4yHfJrmWN8r/3yqi6e0SUdOVnx4wJWYEOWzIzyXkDqzUzExijQ+wwFTp0+9Bsq4vmKjsRLZ9hUsDNU19veOgikhFtyFTzblj8+dUpGEQlY4ojQK+tQt+/B2w6qq9HQEVyxyNXhmmc2rDb5a21LlNf1z8iO2in9OJpHkqj+G8JozgYzCTXkjtA2yF3pBMH8UhA6eCsfs2l4EDqiLEu9PruCXrzzJyCodq+7rQ4eKSMjev28UIMFwZLSduIVya6L2EvWEDU2L5AqX35xkNz+kPjHRltzvJEgX1ikueBLchEBXOhChBRFC6MJevEFjMwP42df9M7k4N7spqaTfa3nlFHFOOdBFIr0w2sdA5qD7/T6Ki4p1l7o0oaOYs7+dIEFc0RtJEQJL0tS27haaMGSUcNuokcVhCjnCf0WI95s9lpGnzytRhM9FBpgGbvHQDAUYJqK/orLO7qvCiL19ZnQuO/+Ti+Wt5pEQ1qyvBJQJrYMgaWKbEV0T3WyMqOoaBrGAQ28iCTq9F1u8ngCCRkYEsUCH5hodl+PdK/0dfViXHNYWhjMEUSxAWgwhMt/VkwYENsj4PatwswDcfxix0nDu2CYmsIgH4Wcwakd7u0IqbLkajRpxDKMkR1XI0SEDOAn30bgwX9qpkZxPtVeZWmU5oLgEuJy/p8gU4ai9P8mMxDtViZhJ0GEpXgSum2sYKl+HAEnb9Sik4JiQzJGlph4HxZMnUYLS9lhmsToOEt+q6sWXwrfGVRSZb0q3t2CVGYvgkbvk8mftpZJse/6KI4kMi72YT+Ibin5StcvmT5Q2ao19su2jKcOkkKUniuxgbyomzx6ITDowwgDs9Mg1YJX6iNEp+5aoqo9QZpt++ZTToTnTCFdWEPMeEh43xc6vrLNiiJ1oig2/cOwX2D4yf1dIXI2h5QFp+//jFCAhXVP98/qn+qP7I/tf+2f7o/yD/jP/0/721P3YE9FD4+f/AjIcoiVgO+2CsrBEOZxLTiX4QP1wApvIKwiE0m5GkKL4D5YDDOWvcI4HDyFdvPQ3ZMZLY0gMRIP8342zT5GkESxz/pRIIjCyxzNOfXJAnZ8rodllB8OlKn9MqgLVA8uMYmErb7O+oXLRPsep5zzSGVMNjiQcpSwiOg1v0PeXXdmEzuwYZ9bJu7meN1+pFW/I7/5qbSu1yCkqzxat8yjJcihPx6f/XgRESA51MEVoeo8CW0sgTrjfRePMnsvTIiVPR8x2WPe/0XrFzl8e3HcKBKixzKqpBMYsWmCu2lRizc9aPeRoXS4JazsJE6WU9Np2aWeAnapQXW8hWdMJrZNlSizhpT3MqlhgC2R2b0T6r9hBh4hakBDkLjSScZ0isvODcyLX//s2SqtyHG1K07NHlSuCshXqcdUQkLIzYsG7FMtGyev+DBhztROd4Tt2gUPf56nYqSTF/aPHK85r+IoclFp0U2KNxIuBU50fsC8+vKgjKJVwcmV9VG2QGpyBv2cBFeBuGbtmbCJ+H5ifhGlEjo/E4r/WJ3Mou7EJnkcKL1LR1eZjg+nrx0XCgEGG7Yq+cETp0ZNOMAkKuPBEwTQqCw6YpDYkVElGE+VJEiyreUUNVCleeFHj0N0p5sWlZZgErOuII1L5aOVMzYjHq8QqGrw4chWhEZ6P4E8fpSHYrKcZTF769F5SR/CgkhCU9QGSIRMkSPIilpYBQ+TacNBx9gqPhoIiokPFkBQaLC4PHniAq4bDLpCmHnV3KhYQFGc1U/ConRG2Zqq4itjC1WSEwlb4jMzvX/mJWlWt5xeEYJVqI1CGIXsKIg+9ZhLq69u+O9K70kK+u5ZnrYrMFLHRiLjU6KSF6mTLk5GZCM/NVS40NS8sLDMrZtTAuI3pe+akhWUvGiR4xesF61eiVJ2SZMtapnKVBn0Kl/Lf93fvvBiR1/+9puHvkskkSRHPKyuqLuJJROZvPb213iEE717KKe06F8cGJOYprKXeykkfkrPxr5KlFGUFBC4IjsVn7htoIDsmEBe5cvESn0Ym5OycLXpEjVczE6SoKBs5aOEaxwVNWKRHpepyH7lVKqL91pflFUf6OtkcXxBL5JeTGO4XQbwUwz8xUBaBKas5/c+uh4GwKAbsxhCKX2Q8PWaVxKYvuk6269tC6lcnnrbRTckhZ0SEfxjEtsTNnP3dXMJhScUz09sxuJTS6MBAe1xm1PQSTWntWX9PLGoZCyjMmtxNrEw9+3gZHjUdHLTqpI1eq9Wo9Yrl3kmd4tx/jtXYvACGA/DIGmXb7xWvooYHYFodxfjxcM8kExzRXO3yBE2JvbZxjNzku/fl7OaQqGYaTraaTfPMMy6n4d0NaZdendLCyneuP2ERDXMMlGAlOzAsI7KluD8QHNZTmf/yqGYEd26sBYTVji58blqlKxsQjyHcKHT5KnuIc2TTGSPmOA2AAsgKxDhXnv0qkmfEcgCYAsJkIkU/IsrC7zrBAmmNcarZUgxB4CIxiXFOn86UQ+MIgKRxYbF2UNsebVkHQrIWrpH8kBjSmjTy9Lc4yYYTAcSGwVPH8CS4ry+7MaBrYL+WFte09BPcfDi1SW4tN2qNQ0s7lsFm8qNX5Pn6eJXiTP1knUBIAWRCGecPTFp9d2Q6gnje8WPROzE5/fBg0eTpYsGCRhTFQ7pF7kTo47Rf9oeQgHNpzttvartSK6cXNz1uw2mFeWOXHwPLsw6kYDCsQtWmr8YFzp4ZtkzD2KhifMCDEhSP6PTWESM0vbSca9Kqg/0VTN4KIji+N4JoPodyuPABGAaCpfU6qGFUMcsFYBADttQSAGwpZ1WHgRx7BRHHW2HQZBwIGM6iOI5xFviIAZCZAprDhjNq7yICMQdPgUCshUeFSQwpcoqFTB+sTNylySnZyYmhw5UOx8VsUqNJVK7S3HS+s7fucT/pYUF1ujropuphNZPeSCaTOTRVDeMMUGICcKj2Ie3OvjDhEQGwUEQ5w3AjQeNF0QjGG8Ifl2LxyPhAsK5VS8KL3zK3bJNsdu1+biLHryxxdjg1crR+PE5pU5X7lJTtnZUwKfYgVJeXRr0IjC0MoKRBjbCHzikxOLa34wGXSgLqDol4zr3zxuJBU9aKUTOTyKeSG9llJRlTJrlT/KXnIs5KXLfmg5Pilc0IVhHe2XikeFIlN1Juau123nrT4ulWZiUWjhO2co6LOmXjNBgaEygK1LD0ZJHFRyozZfOjZJQWC6ZTBf16sTKpglpxdEc5hYGaAdi+Mw/YYhKqJAvAlQcQrSsz8G7cQ0IROekp6BXHCBKP9MLr225Gzz7U95Onjf+4wqmaBsQ4OjlE8HIXAurhBA6nKxAuThE+FHYYhIfSXAUda0wGw8WDW4HStqB9arbjxGYT2u2VYgMU8DLVpmE7HZsIIjuXLDQSjD7LyflaoIvrD8Fm4MQeV86YnegjxktC8otrLAkhjXHIhkNsUEdngle8jaV2CtElSxmMiEgxrerx+EHSbsM4iq1bMVFsWy167P7KEpBJyCkkYrMNRsbpkVjXhWOLNqXTcSls8g4MpnGB8GN67NKlDal1gk7vLzgwGZvJdRoUuk94DchzW1qMf00Q+aeMBNFEmJj7kqqXAXUifKWhF5BKHlTaG2iVmtgmqM34TSAx3lZxonYGPkfvAIbV+j/2W92N5enPd6R4b69Jk7ieP10ulaUS3rN3xtH7uYeg/EW6vh6GNwUC7NXCsllcLBj4P5ONwqvoLhftFUwJBn+ERgmvyIjlRXy3zIt+c2jjVEotj6AkBNrICqyhCum1Yj/ie1YcpGS3kStJlePWimgxuDoJ5VLhERCKKYsLTOWXpCML9srDmrEbLzVRMKJGM7EtlMUkhBjllEZpFXujh+Hm4YxWMBRawjeTaVplQW2IkdTOdkeeO4CRDCraOTOaAvikoNQzkEEiKGV28gFe/y6tWuf3KtfxIRogSa2iBdEc80NoLElrRBnWLiPe84RXnS+Xi+yUdDTJM1InH+6iG8tl/FiyEqqKlqwD+iWr8nFDUzf9NvEuaTxeRByJscJnllmKPk3tFPpyzxcyls7HsaBK1CKK2+0kcj1Oex4sKtqqiLs5LtcTdYC5Vm75Jeei9Ij1NFUaCYo5MxJBYFt9FTj1aSFRIP4UENGCS/NxRvIR/QOSxvJ6pUIw4iBUvCKYLQzpCYjojAEcubFVLCgpn1WQvbcbS5vuxiGEjEf/y8QViLpzeFu26bCGN0VRIp2NepU4zFPCaENrN3nzvEysCOO3vOdtYspgrJbPpGjaYyK4HLvBL4bAmiBLM5fcWSHnGC0G24iHfHA4yBM4oA0WIbgiUMijDamDbdfBHNk7iXSzte2cucFFZbOM9absh0Rcry0DUd8IUzH25kiED9qCs3dRIn8LeYKDhRPaIb9qflKTn3vq5rEbRkY1ec1GrES2YpV8j9CyI87EPHPkWHKo1WcVCyU1C66k/5KmqKmx6tmfIQuUdzqLR5m25HKOGV5KacJNLlMOIV5AIVIRrdTyuIHiQbIu0fqSHgcbS1NWtQVq3SKxbPey/lLZnX+qqCtqlAyjoM8riVILtr9wqRwChNSKEeXiHTTrmm9f9tE2GjQ09MRDpsLVVeaLSWErTCFSenyj0JZopIxjGdaqgrXb9sGouLpI/CHT2bX5TWKOB4txUw7oYawYvmgx9VhQikfOFxxHMhDAV3kkYO/bao5BkG2OUl186tO7V9qnRxlxSsP7kodUn1iyD2NHOcQz155lh9x50xqJ+CJ1IxFSFUpfSCnJ1klnBOBlGZYF8xaX4klcEIv+nlqmaaXii6mQ3vFj30ndXJriEJRUShtYxIMJET5uj9jh742llI3B/Lkx1CQCeME6QoppAnfdFh3G4jqp89ur1eb4rpXba1qNsa6CFMgOogDmPxh4JQonB3WLO96fdCMIpyUWwo2Scl/zcMYhLNK+hd5s2rBYohtJkWQcToi0cVfBLQ8RcO/6xhTGtC/zlY0kj4TVhoLM31H2bfxTKHPORoL2RGdprwUTwwtoVhXUr8BUR6CM8yDgr49ZCgRibofHUkEETARz9a20offV4Xyg+tBRbIrCIy/N81ikKZ2I9zJyvz+r87okA2heIcSRnRONo8hMKpcEW8YiXCmJ21PNiPKHEPB13LxTfkIv4fFtGhS4vGtOJgUQ/BJZN5UO5qUAWwVirG4xDUzDxLgrmjD7vWECTR/wToRyyFA+jsJNpyL5AJpeYSwMI9BDJHxrKApil3ZVxPcpRPJV+iuxAoDrkNRB46K7MOIxSv6GZDWfA09g0GmyzPamIy3Qw2LMahqcSV7jo6YrpBqBBFhjlicCiIGa+zuEtPCIDyKhDJ1uClqkWe7AlgagdQ8CGtWVkIgwtyuQapuH1+pordVWjm7J78ZXydMvu5S3mAcSs1+LxcN622JRVQD8JeEuGktV09Ohefnn5MJZSU3qSVXZRGYBDA0NqLzOCqRTZoMoYAOoLllZezEdAvyRQGkIwukLit1QsCOUhVHYObIWoRPTJVNvJ0yiYxKlxjGzDIBPJhO5pfcSDLjYkjLmOrsx5nI94JXdcEryCQ/ZBuErl6jsufWBviiXKdXG88Xo4Upgz14gZczjtY2Taa/sj8DQTr2KvuTyzXj7dHPFymQk08S7UIgXvkgEiwFTrT0o80Mnvu17qG+XK6gb2YR7MybOEUido8yTrIrv2Jyr7HSnmcIn4YShuWc+VlU2a+ctQhlb5T1GoygY9dTusCZT04kjBUkjIS9FCzcZaS6dW0ZkyVBaIm2STzmvKUQrqR//9bZLe6p9vwtSOQNJQVNNW4G75QWjRrrln2Cd04MMjn8ZeGfBR0Cgv0DrWHiuGb6j8FDzZljumYJUqLVeqy1rpPNWRCrrbdxepC8hG25K2O06ijk1co2YWqyp9BXsSMN8toDOR6/MR5th8iCt9uxJZ1+v03mPHxllQFCJyhRLFc0fUaNhdXs/Mo8ykyuDRLBDo9lNoWMqYWHMs1Xbyzq95oEOkEGQBOyz+JfW5LvIKvsU3UaKwrqdohQDbk2QhHG0xZMFlHz8YmhUetbBOAr+bAzkvgoydvMdKC5NZQeZOk9IOHsQyVmK9mG2WiPWCBsbQnhym09CTKw1IuCJ0ahY3NUgJ7VRbIrCFwnhnpOW7QhhVxSI0mvGIMXTV8UaUFR/7+I/HOvbITzDeL+uBMrgoCbhq9PIol6RISMI3VUg3Ai4/R0NzVudKt4ph1oiq0jFeEzb/LC9rVMySYvcus01st5tGeyTTKA+Pegm6ikm/m4TnzBXXj/VVyi6VJbG/TtOJRZ2XSZJNayJXqNjIf0YJsMj+x8IgQQqiIECaeyj6AkL4PukPB+eRPw5R2RKbGEU8P1Ii0o4NQRxvdlhROi7tbnCGa6g8QzGTQgc0UURUD0ZwBFD4C1iazX9cFRNlqE3TMse0Cp5+O7R9c+W7pyV037DLS4U1vaTqM+pB41v8p+sBj6MzSoU2imH+W+FLOSeeC/ASEQkp6cpZCOvqDN6iFt5LD8i/7hlIV+R95IXEmoihKxTDn1LS9GY0/2iLBGikEUfBaLVdtPuBY2k7Z9e+fYrSeEY9/SEcL77lkU8nrlkP6i5eOKFDV1OsRO3WzHUfL8vWn91S1IqIGtrIOgiFDSAsfv/4xQgJUFQAWgAj//H/0wADAE4AVAAf//X/4f/+tBllqJ/3afRwzf5HkIdn2v+wireHMhOkIEVC9ugpLIJENfXphSRsort33JaZd3bXc76YpvclLwlQLohSJKzVQTCfJVJruZFPKCZ6Sd8M55P1JgWxSZz1u2D/lEnS1K1LQ3gs1I23PtEtsWckM6SiowjweUulEpRdkwbIHWCBIgwNKzK9oafqOtUkZYryUMUyLmsiFOnsQrbL6b8CtLuG/x6vOS8WhCfmYFYjDsJQdn6lsaezFJcZaIQ6saVhUPgkuDBwONhhtwTnkT3JASiWvMgVGbBpiqRItixowSDp4WfCRsdUE3nUhJ013lOmdY3i+y1fSa0zMhTq/9b2054Z3Lf/qMYkpIRQwhDRSIOSgGVFYAUH8z2AwKgdScKA6Jfo2C0aR8zSCKLhzIwslyW5jSdpFZVYcrJMmlNFYuAgyxGTpDMTFLMbHr0ls3bV+dkDXkOjAl8d1mDm7yZ61DkNLtp50N7XxVb3kSU9ZFM6iWNIXSX8HySCzIfBEQQ7pwoCMG80dA2MVCUCo2l64VPpqE1w04MCCFu4fIyia0k6XTn/mz1vyppnZSdvWRMP2py4uRG0ujwjYfBESr32U5T/9yTPjJOSXSu4stFTX5+V7WynZP5bGMdRBOc8gRVMfRQhnIymEhH6J7qBMGLpfNjCgQo6YxKUxNXorYQ7rK3clU06bTASzfpkaya43HBZ2UHjE3JitTRGhs0SzVaQMguYVZVN0L/v+dpNO3gketKIo3leh79uajtYVkrmE+jeRy6bUjFICG3eQyAt4fjVvR1AIyQgaBgE6+4RCMgJCWvZ37b3fTxn2BBhU05/U12G3vOHZB2pa0iELzgnF5oXFt4albhuLjxgxI3yxBkS42K1AyTUTfPsRd8BlWEHGU8Kn5Lq+QTyHtHPvfLUkBTIB5BKBV+LpaJZ67gpIqx2Dk7Jm0gJCk1cVCy7ScLqUo8MXcyb2JP1HJKHz0x12JpaiNboaV5uWqZG7jxMO3cUHqloiVVWtxL9mHiZaO2VYg4CVqICcQ+Nq9SJ3E2kaWj6VG77Yr0eX8wt8Cxwj7uJ5UKV4+iA3d6gLRasTuEBN6Ey0rzYrJWIWWPiL301rD1yZ+O2/IwZEi96Q90Xse9pdEAt/OmENqJuJcSclura4uJOYiQbpAZLmIVDeLC61BO4a3Xm9nqmV7rmL/5pv/vdPiNdN1riPA5TKDpMBkgLYtQ+RSCiCKACjhD8TVMVTIbAMMB7ZFk0R2hrBeuYVtnkCbDeY/MbvME5mljnWaEKkSlngu0ejio0HtVPt4xxo568wuRL1QjGpAIOmIyk8SsmixEc3w4BMkhee6Nb1DvlGpoMgLtPW95wI2AR6Vca73MHjsz3boq0mJUJ2jpwNhlRJSCnw/SQDSzosW5zWNKMjNSkDaMOg+RkrQ1uC7Bu0IZL8QLytRpqlPOK7foJNrlrUsokSpv9kys+29sUmMui6GaKnMJfob3eAiWuIqkmu+2nv/wVOWrRLXlkK9KE9PyXSi6HlM4pKPpdcELRXkbF8b9YI+VVa5ORFYUXZfwq4H2Rop+nEMaZRTX+iX0tInmzfHY6Ecp49YYVz4B/Ie6K6YRDiSdCzpW0BJl3e9KzqRSGTStyiJX2/IqlbHwrkZjXTvxcBIFkh7IqtEL9b5VeqVJeJTYXmYx0YrNpxoU0uE7/UGT7rzSSy314q5Nfl+Vv5V94yz5B9ax6wl33PhEKBctUOjIRPDaD34tHXKZc0RQHJtFw2Upj3BGp9s5UZCdWnFDLcTZCCW2E2EZWlFZSt3QRRL4ydGWzZu/TvKvNqZKV16IIhqtAnSH2/zMcpvFSiJbCKab4pqplBoexo3tvy0XGO9RMrTzWmopBdC2VyIvOOQkOpSG6FpwrIq6kbsqT7Reg6lmCOokK82xl4KQ9nHlFgX5Qa9JO1NUkJSIvz/ei1Cwcl8orQq0KMLoHsmNDRPg4xyqEk/E6nbsqBQAsqLogh3dQRME76hPlAL/KPl+oo85cPzO5YmFD6Np306SWG6DByVBtZ6cykSIU1IarFIxBp7z1juWhnfx/qSkZTPzkBMyNEArivjb8ALwVoPToJriAioPt+iEzrQJYmrtKGXUW++Eey6Mw5hT1CGd5X6T5kG8BQ7XPOZFPm0VA8sOUqPOrTa/rJWhGQI6sBkEGTeY6yYxbmVhe76mlejmJvEaT1PInra/O81doLGFoFQrUqz8tsuBShV11nW33PLijIvKgOpKyiIKgHMBB8qsAUwj/3w3jt6fg2T8w/DbBF2e8z/qCYvMf7TwpA+aKs6lT8+AqnEyXvv9fSLW4bwQif2NTKtncyiuotzPER8ENzTLRneLKsFxnFUndcS9qLXSbxIETjK9UB3YSsm/7KdZZwawp3PucZvSRsLlI8S2JwZO1pyrnkL2NRA4VKGZmzuHce1GjNlYBJwQApR9Vmol2U0Urj7ETXkuJva/3B3VaPEtCBzC8bUwXd4y13PFZFFNF+lBpF0mihf1CYenHCRnqcPmeDETyA4jloBG95wdvnKgjKfSVNdxaN5uYjWbgg6bV9m06mcchEBlv9a1Yp+VuI18j+T8rysC6oIQFeDf0KVDgE9P46ujT+0glAhKkYy4E3Kc6TiVmQXMuxNn4CVEGawTUBydizG1tbtlFbJrkwxIWj4SOKkaxQNEX7SCWN2uwFLyezeytWmdURzCeH7rycpnuxDqf4vjudczHec/mQztwea3hrNFGm39Yl51nnWX5Gr0IMsSFACUawWqC1A6lOF4CXEwBSgqBYBtiKQ1YdYJS4yCZCd9oe0QAf5+nk6uVqRFwJJNsqg7mrGXXHsYsbVJEHhBK8zR+IAtRAKXTRbc8NfGdDUIsXFIl4mdi+vSVsbEOpAESpLOFYmb6quptqlI+FyScrAmDBEiaqlX59iDF3/AC2NVH3JMC2+vY2XsFqAcD9LU3lHDWgroZCB6+KSqiSN0E3MsRyUc0tUAJC+W2TpacI0vGNb+DRLILRLs+xEMppuIesHXPKLdOzKIVng3NuhvYFuVtCw1L2KKer63vLi+olft3lz9ImaLmBgUvlEeSareu+U5YhfkyKwHtrit1wyEAdl4IFJPkDseu1bErZJweS38BWkuUiu9hrj/TWQlq3TdbKOa4T1vOSGERjRgkXk+DmcXm71EIKSjL3VQ5SYkip9NmanIrItG8EtvZ1avY+o0JDBkpn8yqv1uI/GgMlc9sZarmNe79cvi2yFP0Xc46AfAWt06QckoUFwECNhdg1ih/MRS8DCLpkzj1eJXIpFlOJdvRulYuuxUBsS9lVS/EgENzp+c4WRyIDRQPsdF1i2vzbNics91FlhpVmxv0Va9q/E2+HUtVdYp/oiGFawNXYpqwoUfx4cXhoVIsVAttVu6SfLs+e9LLY3gTZXY4Oq/g0DDpoeXepGfyICLEFow5Qy+tAuo0xU9SJP4xZlg2j4QmRw7Hxif1LJ0tSvLlJS1LZkM2sutz0dnTk8rZjEclvC9GauI9FfPVD0tBOY8BS1XVGydpV7WZ38Mdw5sou9lc9qLdadIckz9Y+vLGpTtOu/gqlC0GWpJsL5wqjaTJdd5bWceTexnVbwFW/Uov34TNwXKaaUOhK3Q6KUpPnu+5WqoFlX19gvMjavaOM3LDFk5SI3J1URcdfQWhzTeJry1FC0dFh+E1bXKexcqE78ZF3t/4z6HRqx20aQaDNkqSbQsupnUabeJkGwsT2btR+L5ccmvmTlWRWxi+slj0xOCNu+1UsRmldTXMdvSpdfrTYcK9uXZsoTBx0YTYlYM2PCTMGvrCUS54rlh5KEgnRKlvXIcNcNbtevC8oqn8oRO9XqlqsYprLi7k36KY2hXMoLJrHOcRBqCaEYSQDNsFR7WLQcE0RqNckLY5Ym4W8k9BMgxjHCO4qHGAfbBodFyVwXlZ6hwv7j2/jgQ5lMlGZQ46YqcsRVvrD6KyA4TEaq6QcWrXVssW/mRKspIm9siNP9zOeFlReLemq72WyCMYU1UHkLoV1/YBKZWoQwMHwFTeshOFEBkJtQIxpERFDh1vyxVESqk9QIvizWQc6jYCkoWGCMyek6ehqv9ZETDgVWQvJDEp1biBuI9rS2QgJCJdJ3TxsSNO3lj1QIeHIxFBH2LG20pUeu1n0t/pDPvFjKZn+gQTmJ4bQQw03vgCIP4SAEMAFTOHJTYzZSGBeUVTtvJAVs4v6CfyIRtEs0vZQ0O6EexIFInQr3yy/S5vElzWELEe0x6hq+SInu2qYGFkcSQhKg5U7Vgxe1RcFnJQppW/RidkKmzYXRPq9tN//3to8ARYuU0jX5FsZxTDeCeG8e/gnAZBRMgwgDIKnxBu/xoIBEzf/HsGIuQwvpcWJwzgwk8zjBYnoKuZgzctlVW96tUD6KeDqKHKf1IxW4WM6zhZO0ZbenroIn65YUMGSlnJehSTNd9atCJOi1ZNqCmKclkujQqwn0y619JCuigwlkZRjCqBBF91G4AmLPYKYDwVg/IYwqGAbmb03Oc0cgRld1PpPnEZlGEbympEqxpFkRBOMkfRV09rkWoa2XCfC59pLD8jN3Es5vyde79KBMOidSRrn9kTtqSj6nyI0KfYnYtX2lvvVK2GH/80ZiO6lWqVSiWTKNJbEEIYZw8jjyBSB6N9lPAJhwOSCcZA1JhqfFPy1CEOSWfya4qyYmhjNpnZhEY/rmXBCUsEqr5UqCBpGnTwOzZUXSIcFZST7v1SSkOpWZMTUYplfNMxM0Umy05M59MWZS6UfvyLAxY/NWHprbfLu7674r+zSVzaVQin8K4dyOpASnBxMo2MFAIjMJNlEFA/TScRY7UCUxIJ/NsIgIBFDydeZS9Iom92w3LGSrAppyNk2iL5aDgrYKV4/EpQRUvxG0ZstNwSvzNg8d9BQud9NyS3Q69d44V50ibmxfutvHPyxr6L7YUWgkld7VyKcSaL5rDmEknoQMmYtlMKQgDlJb8VMODtpcuOVOBEpT1tPlcFpLH8w90K35OflMJ0D1LrbVSteoprC8HJ6Q1QqNBCKzLRYEpZ9UtFzcrUUohKcFwl10PdTZFWtJQs2bfuRLsdGhbehj/L8FiMKJzKdQ/q+stxxtLZJHEIb/REydxd8xWZvXH+uISAwULnn8UHjdCvy1ilNYhifPhxo31BQ6mylclM9u4nbZ3vO/LFlqrcBKTKPq5e0t0DJcSpaUhL2GNIzZ0xVoVqkuAUOqBy1/wlBPFZ4GF+7BvDhlgRUX0YVicgs8uuq/YBtUW3624zWX3ntz1Jv1FK2GHfwp9grToUabhRDQuqkWyscJP+ZDRp1jAx+u1FAly4kjZOofd7tL1cKE0oUtFb5fbKyRaaqDN7N1TCSMFEwQXUE4dS56m4ROEkYiLcVGklFcnIuhVgswq6DcDCcIxVmWFHTRmIa7w+ltCV2u+48VdHYUOaY7n+IvxfPHnRloeTXrQv6JU1Ss1SFrWkNcmdOlVsbuzTqUcxKs0SGXRetYrLlhTspat2CQzliEojYNodh7BEKfIQBPCAptkGRwypELQioEXYos0DnIVkf2+Ju/1sIMR8KKaORNL46LY9jMmimdjbCRU+Q2/Y7nZ7zVmcv2YizNg52nl/s1Ep1QLmWDy27sKplTuJEIZoT2ifcjqlfJ4n1sUil6t+uCuSkFQh1vVlkQxCL5asW3iTawfP69gYS15luXOA6PpIZ1ivIbRGMd0QBTZL9fBFazAa5KA66NaD2VUdGUWfhZJtiy07Zindh6U+fYa7F3vga6U2LAkyJMVG36NF/ZS/IL1xndpHCFYSFs1J65jnKAApbv/4xQgKWVYAgwB7AFwAPwAwACwAYwByAK0A3AEqAWu0Ft4BmBgcY6o46fAPjN8oB8fYDMYQRnVMOyWwImi8oQUJErvis9jRXIoajmgOC/2hblUxF8tIMSx1qL5CCyOgpz1gezUTeahrGNh6C/V6NpNhRAKITAuksRgIZEayvsJPGQV/CrTr8bG1auUVKBm3Klfp0w6kb6oJy+IHvcsV1iFoTPatmUzZZ4Jj3ltUtJIuqdmyeLcgrblSG1ZpCcryUYaKUSlR0umGatrZbvr9hvxip7ZqWgeZkbpRicfs3sQXrXSO72Od8FfTIYTZdErF47L8YEcSA0os4KaIIMm6YVotxrKr6a6mR18aciMQxU9toYjLsbFNq0+ETq1RGhFOkaS3K5+eWpKV2DiXFlWPgwhoaWTvV7kljEY2o4GMSp1MmQlhidzxMLYQPaqdP9C9m1OY7CXQcEWuwg4AEcUglAEUGKy+qyigugr/PKGZyMXVWnSFtCMKyyMBZE4QwnloRbz+jb22MyF3ORBF0SWMmFNyXCSdLes0e4r4s+lJdIHF+WVYtHM+faCQ1lCa6njijnS3lIEyEyckZ8/4h6qcSlTZYEGiq1fTsu4kbZVEFSWe5odauomKI46+w3gozswHr4LBlvEMIWPSFwGnCCIDbIKqcsNGZZOlocdqtAnyQY5D9jG8o7lVR8EHlj7zuMOjS6s0yETL/gvOIYF2mYAjiET1a3CLwqnLQxkiZgi01YxpEKSwJJ8T1JIrPXrtIZld2TGlumD1XL0jUzVk7m6bnM3IJUg+zgQ5xOgRyELLFLLZ+c8SPEXD+kEAC2PhLGc8BzgGm2IJVngzygRy+VwWVoY65YYzc1GAzX3atIvRYLYyMA/JRIfJuabF6+0El7eNqdq2WLneRrf7CSw7EOAmIBIbCwwGxKQDldLyJQNmxYKiIjFBuHz8j9Nsft1zSICVASlZDft+lUUela/ezyVdVKvkjm2aG8ylsF19CyFUJoHEHECKE1jwsEjBqagvCATFDjKWGgWjkxcFw5BYHQgFzCzs46mEgnUwkFllqXjEg9///u1rpD9yGI1HQSDwJx2LxSJidelIKohEZs6EBOZiVSvTU+Pzp1Imp9Lc/PTi5IG2soi6lJmXsoiukK/T2/X7UqrVr7VJHvF4l6XZ0itE2cLx5ZSjl7hdMIsO7w8Mr69kMqNBxOwoCy3EFcSEUwhi2eR9PJ3EPWgzYEtGnxk9jwse3jGVl4sDUEIahmOBILSdCwzK3Tx6UmIxLypygzu9mFvpoWYgE5+IjUSlzMkPHR0xF3khIXlfCSfHzqFbstYtd9v1+lOZZVidEqJM7V7rxe7DXBwPRuaSqTyiSmpoN6aIQjCOcmZaJK0sSTbLHY7jJ1m4eiyHFl7kxDk0Md1HwtmQhEg0BmEo4CAJxQUKemdft6ULsrT0w/WmDlj7b8Vax0XFQQjITCY4Fr0jLiTiv0PCfeeEwYBK2v28063SXepqk6Y54neLU7TlbOHIwuf5FwZimslwRiET2Ajm1TIp/FoyJe8SlttkSz/9nvcwWvY/evE3qIjaS8s9xpu9IlKiU6GAyCkcCYLhc3UrEyG/40HZ0sTfhWSEBMQKlhkifMzMUDgVCk0C8SGSslXo9CrJ8wZjDsJ7egiK7u3XevytfZenCaoiz7PUu83LnNWoZR3E9QJ50PLoikV6Iqa7iQU2NO1Sw9W6tfNWk6RKjRvLV8MTuZ3ZTSmlQZlFB5WxKejGQ3EQqHAgMXy/BtqrKRZGejuwcjY7MHp4I3V0zNkIrFxCORqNCsL2KNayXijQQd+DPHWduEjp4liiKoUzOCuG0KriLO0Q5mirccN7swoVUcQvLS/FQVTKSMefEJLZJXLby+6BwYRvs2jQZBlqUs2q4urp+7sRS6k9rqoJy3zMaXxEE2NjeUSWTDwurXyyFZd3u0sh4SVU5EdoILQ/qbSRU51KKyMaseCIwGZNQ3JXwULMwuTtdtfMWOCh5VYrNiud6kiSIlyXP8R5hjDL+Wf7TBqwIXhmUskMY0jsX9IMJNpgoxpLKMsZwQlu91vZuNKq0VNjKTMPZZzu1tRBJL6sZn4qpiNiUFeRbM6bRLIn/Rvmm1q/3nf6pQS27i85Ec0M2u/uCebFsymEeXVZYkXRTvnGNeFblL8a0HM2Ec489Eo1g5bxG3XmudIzwkRljZEiGHT7PwqAmQEEF8qPFy+BjUykEGOCdkGDsNjbUZVll7rE5zzhih1T55Z4yPMVXERSMemxFzOfYycxK5ud5IhNRtVgobLPekXsxO1Ki+uQJJoBtKRgQsl41zN5y+0RAKzFogoyMQT6bmF27fUW1xv8drwW6KxaGyxO0n+6Wp3CENIvr6ASNj3jE3LCIaUtMxbA1j5HHByAZYqBCS6ohnyQsyfW+22F8RcnmgXMh9D7Kwjj4NcE4PwXAmwmAgD0RMlf5PqlpfXXV2d/5KlCtG/wukzvT1OjWBvG+EIymKbq/IS+qctGpNjaCuWUoDfdrfRCSyvvR5sNG1QXCbJtO4NGJHVEZrWbykTaDY7H9JThd2jtLWmfQVZ5rA33b9WxkRdWpGPPOrIHwAbrqaMIsCCS8+4WlX0xLjiieo9xJzJS4J6TsIDyYmSIM6Jo5AZodhuk2oqd4dZRSWtNHrkAzeiqtpg00Ve9ofoHwKASI2k2IpOsmpZfU1S9AazxtzwCLNoxnR1iwS2lVBQpQYjTfLI5vwbHJRBYPBFwwFuo0JukoxOVytThzPwlJZZEt5dSC20kK4ltakfsR1Ozbi+m6AFGHqQd+wJISJCQqpETaolbm33EbyybsJPEBOjzYIcpVPgS4W4ryWOP47T5E+qhJtVut9MdG1+5YwXqTC6JBrF8F87l4glHCkWRKffNvqNK+cPPnH56jc2C4PwYkMca3klwwNbfIxkLxVuonRxBDCeyaaKoZWwVuMLTEcZ5pTKIKgMIvMuakp8Gc0cl/1PP6OCroEwABZixdccMHuQGGgafUvfnhQg24TIIOnqn1Z6Dl+laPUCYV/pQNsO7MiaGnfRLUgmxTXPoGrBl7r7LzNlbGQshSNjECMlJCzk20qVbQihidmF6EwtAlK7w0t6rzSURyLoQnPqm3oQkFRfGNrqL5DKy8uAXJLivD4/3Gzo7kHISrzCunP/p8Q/faOeJyRkiqQn9JeggALQA9AoJ0VgOAC1/FcRJ4G3S5JvUjtp6+nJYJi3mhISSrKEidd3jCuQiN+rrLJETFuVNZLa5BRKa40bqnIG58ckXwR/dQ+g7aiKz8Z5Acw/DtSlRRWGRrNqYGx5pMk+nmaSazwT2PyaSHY6cEUUiLZU7BLah5Ove/JIsWw8yyZjxfjiw9miczZ6PUPtB9Xue/TmoFueugPaEzCtYoxNUw8u07eeeqy8PufCtAnl6pZDsTMKbe49ZLqilEo1rDXOBNU2lYlQRdd6e9/w6S0fYB6nDVTYcNN/i+LV/RHEEKZtN7+/WrfvgBNigSEiy+uUQnUb1G1AJVtm4VfVNXD7/LFaapyvclGzUWjodDZUd6AqPgf0nre2oiS1q2OIXWHFp8aNhB9jdSLsWwJJQ1su9EqAOqKrscmURoG4yS2MWUPfGsQWMBISOvasxPgzwDvT/LE4RtuYOZyrBKGfl384soW78i0bv8yc1LbdIaRKGWjE8R+j9m4K+vv+diRHVcrQHwlvUhO8J8pMtsFb/3fNcmcGuiL2f/LpN7wtxGUu7agMyRrRLB0Hg8N/cYSd6LxS7zSUqFJsaIfdYXanoYen5M9aalhcY3oRFadwAB7jRDVh3TSHrMCeuA8DKj3EN3AMfqij+gbh1PEk1U3w0tUeHBDaCaJM5D+qIOiMl30A9XyZZRZ3BWZKwVcymPiZjsP4DT7ulcEnilk0QvAeh9ePNKUSSH0CcVGpzCEJwFKHoUBNVTxhPOEoWzTsrC6qv7EyaDtE7/WK10aSshh1H/YbHhFm1LAjXZvYHZuelJ70Ybs5XwCXDLShSKTlgoNOWTlxK1TFGww3yVFo+vtrBwkAzY/w6ZpgZvNfLWBABfqVSyD+AsL0Mp0KWT67KKicw0bSQNzKux5RlF3vT0pPOX/JxDpKgv+u+STdKEmVlJszjE/o+izE7ItC10c9LPurkzYgqZLs7SAcxjn2owuLBI8mHgZmwOUaZRRB9ewOoHs/jj/AdparYvOlf/DpAHuWeRSK9E2Cw03OLPGQeuSwjrzY0FrQ3UUhp2I7caeZkNd2xAH1PIT9CIywalENAkhPhBEbWKnCP3efJ8/lHEKIe+dixTz6qbNZZYwuCworHVgQom7UYSxfezPLLYcwTUMnMuVLZI35NtlJIlhPbMnchboP+ZKQzLtPVtNRNJB2Ow4vNd08kt41Sm4rP2TE3GpNjj6ybVwpcCymjCGTG5546H7vcpBlMdwaacnoKonVflS02E82Pz1RyhRTbFJbhtM4LR5TDmSIKoHOJhfdTJCpYMYyhDEKhynOkxmsmyWle6WMM5UiUwoJ5LoAKPTLbL4skUlGy6xPWuMM6YIdqWUuVi+k0oTS2rq44Gv5Ho77gvi7ziTqozTPwe1vzVaqqb8krpYnq1kpdc34BZgVwDlhw0JBNgsJvrQk3bhjmgFVHGhIwSXeEpgH5K8pJZkUkD4bN2Cr6j5vsIwyCYfdDUhS5htggCpY5ce/Fn22oW1kS5Qre2STKwXvSNjEa8/tca0XMTQwJNTdyQj4gzNJDNK7VBONXXKTUeZ5DSoNBNan38HUT705auGerWGH3pVvq39YMF9ypxfm45Y/+acDiCZAesJLGDlNiJwl9zblHNaB0xwChXZikhYccVynII4X9eHyL2ch4fZNxojFVa5qH4ntGeRrBJpFkMYu0ybJKg406N6s9wqbuI5OQx9SGUJR0DkysBTDL78Yxt9bCs6btYjgEathTXGk5oSz4j0ZC8MafhKsmIHUfE3bkXXXuP7db1ZZtkuSpovkfY6QwwRargKsbIHfEv2SiKKVrOEbXlxjKhPTDFg6c7bp1R7SGMktCc/6QIO4kRwEiNJlvpZahnLGUbzKRWeMlDzpVN7QyEln5bcVTL+1GB+hD5yqy/5CM+wSvx3bIbt0y5UF9JvnPkEaSb9/TNXKKK9KOqmSOWLMfLDc9hNBGoCi0cjNvynplHjkXbRmS93kkF1qUmfoxfXnjgsRXRYyojoCuu491Ag9dZzAE6pgwI5Jk+H0AK9qC8dWgxciTiwqnabCVAyp+EYmbRNocBlKsxlxU27kvVctrZ5ruC8klx5V4E6NJR1SZgeB73stI2ca5EE923uSGrVZILvOl2y8n8G2w+YaaW7KXIBce18pjjqRQLPkcR3+F35UkKGz5najxWx277oOWVaY8rzOt+QczQSkXB++snqP/AQ/UOIjTTL1DUAESDCdk9MKVkdteDmdaCaAagxyuP5Rqo7GQlLgSlZSpAkkmeXQj0bA3OI0ozBgVj8dflxwm7KZspSwC2u6GwXDJpnJ5qr6LaELFmplrhZMC2pHNxkh4KCJlOCQgtCT+0410jGO+yI/5KV+l2fojxAiBZN0l1qGOKwDtMKXiuk1a0IPicyBi3y9hHvhgoCKkFo1lCuBAEUORYYC0ZgyJo1EqkEYNRWeD4oIIxGCHfVsS+8Xmmtm55+1Qw9KA8tRNEwUTR/I5+oqGaU2NJ2IkYQohGgnVm+1/WaOZTESFMJjiOVXa9FaZT5HoOnB4/a9/e9Whqo5/ol7jhyU3rfD0xx/0XnMsYSstA9aRNbmyoPunC1wqYI+IMWUj2txqRO6QxnmbSqRYQ36FA2S+7ps8jGwiO1sS6WiU0LKa15/02JmkrPfPXjZ8PHzlOXN1FahkzSZEmoutOIGKNR6ig20FqSpHRbOdISJUbYmLdRKBDlFYpiQptbjvkTI9afoWqiUeWpJkeMshRCitbJexTVPHJDXEcPcRgkSPihxjgPluLtqtZ1n904Xwk/S6UCstnY8+6PZQGRviK1Xs2lwQnE4JhbUGwqsvaqbKV1oSP0meov2ErHH5L+Xgfe+StZRZ6o6UBNdZHePk5EqMAjTiiKY6kaNJLkY6Egjan21mSH5XojD8ofRyEPI5K9v3Gm32/S7OcpQj3CN00693pE61eL9xDFEMNFE358ncbpOETVpRgnwl1xObKQslg6r55Vr+Z0FQErOHRAMgZngYn4QkoQFBaLi24W/FZsU5VAymwv4FE0wTnCuy0VHtY92iG0oktyWLw6HcHRxBm0GgWGsCIrhcM0Jyq8yatOZdSmBBzlRNoBM0Cjr+Fd6ZGsc0W6IUzTLG6VorylzWCRZbkySOwSLOPlpypAvZB8nPjp75LrPRE1euCBLRGaDcny4A3lf/+MUIC15KBWoFewV1BU0E0wRatKxcrqNPkng4PwymAyGWsBbq3QTri8zLk7jXxKzEMMghMcII7/T7kUE44Tyj94NMyYwLDUJuiI9PqayJUwRiylqki9Xoc4nCMh1Y1HXWhI6DXU2VX7rNcgsarpIO99zTgRNwruaqFwawTBtFQO4uNwQkm+ZREczdqRt6bOL28HoWxUYNISjCJWFkccm4+UGIg8lG1E0QqRRtZSkj1l+KzxoUf2wz7fqNVj9UjgXFvnYkZ9Ru66qI2CuEJ3Lw4iplcNLctCOjR6S4ZSo6ujezc9RnI2v7Rx61GjNMtgn63X61uKOnopflvojFQyB1zmEC0CiBCBLDEBfAjMjxaOaFnICNsy05TQuyAMDijJpiYOPKvYWTp+EpBlpqZ3sPqIg3ZeK/k77mtiOfox0/PDnO5X/cyEgJJMkzV1selssatWFSMxDZ2nZMrQmfEVsyqCG0dWxX4YkmtLoR/aoRcuWNze1gR5rii6UFLKKKU/7vuFlPf/xYHRrPamkGQzgiAlmYshkIUhmo7unkfv/bWteVLkSnjnjcl8fCmUkel4rHC1XR5Kcy/E/Uu07uqbCuyknffw+aeNBlTIH3GgIfraicYE5lorYNrVLLRnCIm1uGg6Lp8y+dmQnIK41zIyVvJxpIhjKDvjRiPIU/CXnjqr7SVSDZZeJV5rpzuGmwN+gy5BYEJjiomsJnc4PKcLIVugdJ9YykLCCcTSAUSwlkaMJXV8PY3HUNAimIh3kDEcIcnHvfCLobbzLg9onPEn146Thuy1nvGanyZcTCzL7B9rf5yNZLiGubmjkqSHhrK1likExDZrbQjkp3NBJcvvrbsn17datxqzcO3Pf05UPf156W+Y6dnfHLlVDCOOJ4Yf9oUjF9i+2EPj+YtDDBAA8wZgJsGYQY3k3LWKQ0G0u1c4Wh0qaDUCHVjDKJ4mYSK8X/xC/0dSJPIzUR31TOsWHl8JM3zrwydOeyvw3tQReinNTemPlPnbdVxklcsmxAZrBai/HyyOhvHg6u3rJnYNsG0gLa5t28FkiMX0yr70fbRH/Je3PARVGI7y+KX7S/ajpR7b3XbVPIl72XTWqGrrsb/BoSQMgCKBIBFARmMGQkvjeKloTGFoJJIlkxYIyFkUhEdjYKTIXniUy12FbIXhEEo2AxCAGoZC0uFpUP23/aNP3mpmxTpEtlXeksVqi3za4+lKFGISbjJcBFeZMtD7ci18QTzgeA5Pis3W6gjJAcstcSZqm/UzqaxvsOYve48hW8N1D2f+hv0ja1et7GcXskqCAXB4bFmRhY9AeUDw40PeAeqBzgSLWDUiyaX5lSvTNj5Ntd+K51dP8d56lq23E0OrJ6tBCGVkUCyKyjKyiZIktYlUeqKKNTFohB0LFT0jk71rLMZso/TJ4M5TL7ZZVRM5ifcEYIrGP/xJqdm/mTtZK9X6mqV/t/MlUjrHOeLEgwg8JHBRB5hRIostxBL0Ys12/MduYEtH+CSgNM3SKpSEOdIKsMUBkFEBxQQoU5SuO2Ck19uvCjEHOMVpXbtorsPOq8vyRMBIstITJ+lyJg2z32PT7401ha0tfvmkpaE+HteEiV6JwjuCHBQQiCzQYYgUYHlOEOMJV1Fzs5qqos7Tr2K8YZQlyjimllGFElPKOIFKLIaUjVLPLmzxFfhD6nHKSFeZMKe517MIPUSgtLSSz2n+L8WaWWJkekLJgF2WGyCTzTR6Iuu9H+lyJuOEFFAQMBw8EChYghxQhYQUNKLLc1SSa6qLr+U3YwRQklrjGkuJW4815FiBBpophSGuZkvnenVI+00pNS0i2NJVshGaWPcphpNSjcCapF/dUcbguiXLkVUoUKNHnLrT3UxhvYpUbdjm33aq16dHgYGxh4LhEaEEsVeVv1iRs8NmiqGSRPyzbmNKeDPSj5BJhKGyROmNwYcPBIQJDhg0hTJFcrAyyR9e3rUt6aKDFIoHhw0oJDRhoQSwzhEuuT+usENVMUdE6f1T/zil3pvjih3z37let3qMn1pY+r6da25irelYrNW7QGwD4eQMAOg4oGLtrrkYGhkpoLBMInTEMQrFpiKS8/l4C4XOstGUmJerLe4TAuJhALAoLulRSWoWpySudVDRJHZln2Qt268jrQaERYcKwERswjxxQW4WOHQ2eFSLJ+b7uxeQpbVWCiLSSyMfl8X6WBRZgQEluSlqdvzWFnP1p5zxy9PRizm0re2hXowL/OuukcrqQ6AGI+WyeGYUmMJ/GEqkg9Akdi1V8c64xg9hHb+kE2KScuGRQfXsxkN/o9Dc8HQQCs/btZbULT8jxq0Ew4OKICUZhiEozeySC4fHijJRixtQtUBEKBEeET6W9eRiMl/x2o8+zfIftQUdhSRmnRPYfathOnLLxnqJZTINN5yJmSWqa19DsWiLZhw6G7ljT5mTDDjLb/EqTesr+1xZi6R8dnf94MAVAA2HAO4GsbBUH8fWCMaEg9A0DoTXsUQUS/ozlGUeBKeGZ5Gse8u1B6CM8EAyFigwo7ms7nRklaBI+R1EuntroydLA8YLMG+4uqjb3+jUoTExcSZne87NsqoYDD491+MTmaILYVTB/MRSsVBwJukOahLPAZZTvum5Xihck6xHBe+0xwTucWzzU1M3U90xmNA5dnOamPAcUOg6Oin+mPoY2jjaLdXurWYs9SRWT2ksC+GgKkCjoRyQipLw9MCrfGU3yXd5A5x2EMq1TOz7YbHs2v5oEyUpuFkn2SMJmyPjqPjYtnVVJCd8yKXcV1+lzRZGCBsgR+elx90mJi+T+0Sb3pVq361WnQqP1kPZ4op8SNbr1Mq3BoSnwAgdwCetDkaz2MgrH+UB4Po8zGoY+IVCE/n+ATnXjsnKrw/bXV4ourm7S++RawV+91Z+vEb3vn301I3sdxqGVg62Tjarzu0UEMG14gSZtk8fGrqHUws2A1sVa2vXvEB4Pk3+NAJaMyfdQxuJiWsjgTM1pY1Lt+yIUm+xEa02BUSEJHbA7IaWKOdlEWu2LOqC2LjBg8ub5cSlhZ1Z9FK82KetukbUllfTF6BT/qZMAUKoA5HouMCs4DSw9KMEJ6wPp5LoA5ZjhQ1U/MB3wiZ51fWBSm06jRaxIa5MpF6LwppWki96pcchDNi3ORaummJS4D0DRHCiG+YfCQ2dDpsmJ8BTv0jh0xGUzsOpiUlvax3UlArx1FS5X12pQ5MzFY9reBCSMCRo8z1RdCeky8Rp0btuk2h5L65o59I07ospMXxA0wZeR7xFhxm5aBk+HYt+ac2KoRXW+1NY0XCPvRulXM8KP/Zrf6EDb9M0Nd1+yRJjLrerxs5s4T5yrS94eOW5Y7Nz74K8A+ZhqweE5SVQSEDD8txFgs/QAKpAGAUDNAKeH5gsOAmLjAJFSOs4ULVJmckrl4CScyENmZMci5m1Cl1p2pdzx85DU2I3kslCXjaDjuGLmlpgtwZe3qJHY4Jyk0KB+jAgELUbN06pPNu+MzrkjuZK99Jo3qqu2e0gZ44XL6jFF2g0lwUJzoj0wUJMc3WPZybT3UbkqSVo0x6hD3YYk6PGjAginBxAlhmGkoKxrvMGapCbM40Voi1q9TMzdlS6Q3vOPm8zm/uyxGH9fqJuv1Rrv3F9TZUXFYL8p+qu9br7YaQWtRtxxdY2biLMbL7wghHEyIIpIgg54xWKIFKiEHFYQy1RlIUYzLxLyGNRU9jzHq/oTjHq4sp9K/YWrfIQe8phwiCwhWdLRlYk5UELYNEpB3EUxbOzsP+lRTc4g6FMcEO5I2ctm6cSjq7nQj2bimcxRZjeZZTJ7amKRYo85O9OUmISrE4k8eh+T1Np8tMNHF0wWYeYeRmo3pykmE97ISYS5JD4i0bzi8hKOnGFkGO4wUJ5uI5FmX5kpLxiskobkKJshDUkRKyIk6YiTEWty5CiLgYUio6tzTiDk8iN28jFYwKAYFCSaxSWCcQpHIKJNyboeuJdFoj3JVaxBaovUK/yI2OjcUmXJY92a5daQSwh5DxCevpU9GWkkK4+lb6EKdpbLW6Tok6lelrofWrD80L0TPLqiBlCTIozC72yYh3T6CH8bJF0LEWldc3r6HVFYPE2r8fOP8u0/xDdukDpKjbG0Thtq92ieGCrCK0L9EB85dsNAiEj6vikgx7yugr4ttSXPSD2nxO+bkRuJl7UKApFDmhVH7B+EQSrDYWvlrKYzFhmdPzIEIFwWqmRX1STcuXjValfBqL5QsyYqcv0M1+5YSaCFBUUbT8fREIuUwFdWRdkib0c2TLkbzQQ1DbNbD2NAlmJluYlfQuf5c+WRCq17t0GUXLKWzLdpbCwHMSEHQTzFrqqDupeVzTF2JPU7OLgdyt5xZ8UfUg1UCBY76zMa1DO9NqE8mI5j0C2AvAYxK+v6arJIqrqp3p8r+X1qLBul35IrLSLmfqE+k/jTyfuxIJd8v7FjFOVyfi9EgDrGcbuhQavlpoaIItsLNlbRXpSY61pxwmq6q70eLI3dRAtxVtJPzkF4vIzwoh0x3w0CFoUx9H+3rSzUqoJYN0JIk47eqb384DdSxBOn3a3iTgkSUZb4MtWGYFSR0P+E+lKSRicWveeG5clKpDgYOxxOetYu6wiEyC4rEntdIs6t+25UhSxFmltm39VI7+aXMSI+uCQSaIvxxODm66U9Sm5v+JXroxSbZFlfK0YkiDuleh64y7jSo4Uc4mnopxwMMBNyvUyhJTaRQhzSPKmVoR99KUg80hP+YPqbw2YrTmxP3UoScNcOG0lw9cHgnoS9iGJ/TQki2uLWQkr7HZBGgzvec7+h93P/4xQgMSxL/2xHZTKIs606P5iVYQcuM4rTQR//8iaxx4kIZjTXa+wu10TUOU5Wn8QRCBd6nXn8g5JAYJQlU1sewTdHFeplJAm2ScIM7CWJC50uQYShQGCzRWkUV19Dm/dhfbR2hyiAamY6iPb5BiycZgG8O030YZU1GC1JjH5EJiKcTKswBeLQP82bYDWyhjvfQ5tydon4DBFEhzaMH4ehB7KFUB8abfPkhArnGY6hNBUGe0Fel0otrm27skmZHupTeM1tQ5npUbwln+R90Q7HH8xJAuZfjFtynazxTHMcrtEwjylYQRAYK9B9RAOMgxfBkdQMUqw2vnJqt561hgOM2zK6lKk0kEcd61ZJ4SCE1SLNkjh8Q5d2qa4dlPFsd4faSBwLiMOFNjFygyiqedqV56qYHdS+I84ijzUiaEFianlsJktLX6drtzYdYrF9TNQaj2CyP8RUv+pY6TVmqYLMJPZ86ViaNPX4k8WAbM5NEe4WSEv77yU6kigSrot2TdPVUI4+UTO+0+cMFgM+zZIe0aATy1gg5G8MeAzztFTBP7QKMxiZ5HfXN0aqyyqIR+1JKf2HYZhAyZoqmxpKZtSc9NICBIst5S2BmA3xulLelu0NyIqARwzoub0iwF4V9HUZo1yMd81VhWv7aqOMizol1j/09BQO8dkn6DK1Pd1otSgshh39F6uB83lajdT9OMGh91RbqMnGahmuixFo2rW0rAEg8rZvqNJ5mDTv9KhjU7ns52T9GLQqySJs5BzrW4kxM2iJEEgtMwokMltWxpaZm4wgCN0FVDPiZ2QF+qpCdPxFDjbfbC+tTU6UipRBBCMjg6wXS4Qzph8T9gYTvD3jA6xLlcJIt9FROVSXZ7N6OVFbZ2UXSGMuVnEilpybz/C1KOv8YVhkIE96o/iHTummO2zGs/zUyJ1lY+LrPTTNYgLWuBHFTXlapXcVqYTj9+MpcW1iSvGKnbew5RcPBysEMZMvaKuswxMCAhf/KO4aJNZqVVTqqh1ZT2C1K2750twmaz41FWmOsxLB1dikpqlycZXX9nKLLpa9A9bhxI9haOSTNu0e9kxS9DlK47etAY42ai2jxRvXbtfZaazRfeNYOFob07CnzuKE4ZjWWHQMqfNLQ/2edNo70rCx3vLMJ6LCVHIoI6moK2SkkBsGzOjdBDMYpsh8+rsCoY3G7JNiK7VOkO++g9iY1eG4FJWWebEwl38Cwhrn7PyginQ+ptVUefR9Yt9Zsdw0iXFaf836sw2zYKFJXV9v3LtuJdf0bktfQy8baU7NCfOVS7fFPVfagnBNCrlr9NvehZtlySrtCpQYKuEjdWMURzM8Sn/8pIPtNU9T1NqXEVwoDit/gEu/3EQpLSX5mWfh6r8Rdwy2XCZwXXtrsnk06B9rvc+61Sso3/mEwTO/Pke6HX2kp7CCmKRzXVulOT+0wEoyFKC+M0fCafFcY0nDaV8grGrUarMk3hRQqCgaI+D9YdR7nxPEhSIqHS2YuGTz+q4k8QdS52rm+gmbzKWVDQ/+JQiiYKgYLBZt31rQQpGKRWIe9KbQsSREvia5SHFoVZjloOYwvERiJvWps7VCOapYfX8922eoHG+xI1tWiqbfqpzOidCwK+eN+6itRLjdJWSl3U30B/htIMFlCgyIaoSSLlZJO/BgPuVdx4gojgQwWBZgPMoS4LCUIzh5yDRKIWAwidMMsRyCSXoQ9aSFLWaEYmPJii3SjSs06VmF7L0tS19A0jQKW0O0Z86H0Txaq7NMFHOJrke9ispEKWc5xYnZHcjNUdPGZa2EAjCBCjUN0WxwDW5QhxrvllFA7g2ooF6MkxNosW8JZQY61Id+xSqHV1Lsl3Oj9Atmo4Ns1ydWSUk0ET06LsRrKFYT2DRinKs0zWGYdDsE6FWRuATxmX3BIkSqemWhxCCEvCPfJYrd0KxhLzldaD0cqsj0k6sU/+fi3qg+IP7DDxHA6NSu+zRuUVXXysnL+bQrLuW1qZDU11W8fietthiQp5pmF3CeKZSnjFWi5xRXLTFavvPkAokCk6vO9UeriekfeuuXjGInP2Dic4r13iNQaGaj40LE62Kuis4PZDmCVKINxFKlioT2yfGxlcAyIwmaOsIN7nMFoUwhR9mOjC2JpXWbpF6h1AegoPwMkJdVDylNtcwaOTURFWbLYuQ5OBIIlL6/tdMd4yRrFVxM0k2vdcjYKSBU447dbFRFXcpMXOuUM2JYjqhOpEy2vLi8GEivN+kWadCQxaLSl+efOwMUgU7lDuIzVJMt0CqCOuaqEbuu/ntBEuJHJPInMCXzzTxyIdiYkDHM9AicCCjwlynbjs0Eyz5xxIwh2zaxW4mkcmMkoXzFEI4riln89SpVrPzQ526k8LIzIPmvMHfYfrVPZ4W22bbvgng+LiTXaknyRV6yJrwladErPtaRaY+Ove+EcVxMyclGoFia3i4OhOaS2eeK4uQEs3DpFCSLOf0TnqOro+DJFYkxLPbTgEBoMZZ9E5wOkYdQ3nnUE4EY4UxpCyihWdnlHXEzCbY7yiNx4ECAFkGc0pQrAkBUeQSRVnNRadIiGY2mh8LBq4EkM62KQmJJ1Ucg2HR7Ca0rTE1cFdn2+vyxmWxVXzwFBq2lsczmfAxKRHXfe3wxdMbbsxJPcgJD3O0Z+6p01z6UZVUY7MLSl3EdXfYKwJRS/Xyme126jPSpWWpx9HXUJjNrU0GkpL3Sy6/5lykkQiHzNRY9lkk/1AnLnre+u8Zo1YefohJGMvlfitERk/T19Xy2GxGUS+lqj88IzSVd+KrLYP1lbXf/hQRNsXpaEZ+UAUA6PLQWgbgh6AyFmWROFpmRFhkYZDcOz9wdCwZIhGNyWFgdFkfrM7U3FAmePwnK0LYTHRNObhSfqWwNAssdheM8xQLixSWx3u3bIKhAhFpuT3jgfbKScTuzIeGS8I17Jx7UoXQJXvfSR0m07N28q4ucJRarYKKLLIveUfexIUKry0tRol3E1MHWUcs6X2GudQVIEJD3xx5Ujd3oFU1Fm2JGR9sDgq21WlPeD5pNr3bVReiJuHpat3ybEzJCevfCBFKvexuOLcGDCZO3U17ojA2yakq+hZ5uh5j8MFHWeNPxTDKzFLLTAYMs99U/yIn0TBHL9dKKKsn77UKQtb0krg4Chw0AeEiAYcosWmlFGFelbxPigKDODwJBsBQMKksWbtKMhULF+Yc6YPNwcUxBoSbxxhRHlhZ9ig4rSTSV4CgiLGhKTBRCtJGr4wUpL1k9JAp1Em7yGCoh64RWyulRmVbbhnKi1vxSMzU7U1yM2sxa1GIlZK6Qq4qbnbiFZt3LOuVlMxtl63bZVF4YMRDhxYYwSOcsRqauFxAhF/PMQSKLmrd9WqqkzZfIbFdQw25zuMapep2jaXRbmsdGMvsyWo6Evt3I3tc0qZr5peif4lqozFqawl92KzXsZX+SS5LbchM93SacqJtppCuiE271VNiNS/vcxCKe9jJyuOQiAKNmNERCHx5RbMQgvz0NEhDSkQoQ+xTVqI0YV5UXISDLxJIzglBBpNElIwzEgljHWQL24gkbqgTZBazYhGJpTmFmF/q4JgrY7CEehe2NAS42Fp3CFtBWb0IozNBK3sW/XyUBCMMchIu32FjkJvstavgkhtCIp40gUQ36iXmZAgqoGJEXSbSRe5JQY5IQQ2TTUhK2NJEj1Fr+IaRarIFkHzAQmMNyBKq5qI8sURt0hVBkoUR7FCziWIKwPhEIRvB5FjsKS/VoSbfBFNqJIf0QodK1kM57RGwIQMSAhnDQgwwwIQTAx7BEMvYCFPkgCYNBYkci9B7Ig9IihteQiwTi7uIWiORKfpCsk02nl+WhDxuTp7X1kTZcWRJvCgpIbKKxUcpZ4kSTzsImeSZrEqb5EYpBSNoWghBIyLY0VAWyQx5JDOKQGjYxREszalom9ImN5ZITMXxIESzkISIYWpmRHoptBpkS5sxOlQoQzAt4Kih6GAbWuceGaRAlpoIEVEUIikSShkubEfjPxiSRqRIm5ogkcRHQuQkRQo5CMiQjE5iJrM8nkEmf+lZeLE/NkIiRR6kISvxi5SQ/RaftCL2eyVY4mS5Zyi4iHt4UT6ISQekqzU8kQn4qkrsFN8iZHihyaZLeKOtElgrWfFQpGdxM1YpGxGNCKUT42JS1SIy1qNqxFC5p1SkuURV0c2LtYlhN5yIhE5hg4SsiGN0opnIiWxPmRUzSTEJ+QoiVNEzEqz8QVj2hCKmOYIqWZNa29CEIoZ8lEKNIRZ0gnPPhFOcZNCVCb+REocaZ+SrbFjtiAinGbIIre8pqh9eVCL4s6yBco2FBZ4JSu//jFCA1MVP/4//j/+f/7//r/+P/6//j/+v/7//61JFeLgP/r/ofwA8AvgEAN/NACELkynJgkVkLegsWqIlpIsh6GUIa0SYiBK2vWYgQiMxQkPIQ8tJ5kMQjyoSgkTmkSfZQIm8QUIpQJMRBZkiCTvJERC5oq9BCFGJxMlYjIxDU6EO3tQkFjMIWciV5TMyJWOJHyEREVKJqIkGEp53KXVWIh7UlFKaBC2QSTGiKyElLS6nCbEMwqASPxQkkxHoKoyBIXC+TISIkkZlEJ/kzRtRemHlkhCLiYQZySQvkxWRARSCSUxDco19o0kijvCeiWKBWsyv9CwkBbRiAQAIAAAAMAMAAQAABAYAwYAEAIAYANASCBh4E3mgqg1Ik4ETDqUKsKgnwEhbZkRkwk7eSM0ITpaFiZavFYUItbYCyEBRmQRDYnYpEG0CUzSVGkiMmQRQNaZEQrxDuF0RKFoekEKfIXAVp2iKZTaukqJZWxLi1WMRWopSKFlhTFysCRZ8SIQ+KYkKLJJF2iBBC9OiYhIh/iyWRE2xJJUFLzCJiQUKorVOeTJNqoolp5RSsmWFMyFEhRJtiSUSYVpXI0kJEiCmzcR6R3pIll5REiCxLCVZKFi2iymXpE7lF3lVS3FkxFCLGtpXxCIpMUEiQyVAqB/mJkvPIImaSEQhgjYUiiSFrotYoKXrLWm0uFzYUIsoitBUUFSOSRY4cE3vBIokiBQ8RoExBmScSKyCFuxZYRBKZQXhCiVTm+fL+opCxW2hETpHChEtBKLmIokiiVVbshTBRUMNXConXphX9FKkRF2EKREFVrbg7enkERl5JELacImVELTKNAURb+UkJsTpnTRWRtHqSxQSJiMqkFkhJYk0zXCWBJCSJ/otKCSQtErSSFk5iIkciNpEQJhqgYlMjQiNmZCzUo98hIonezCxEsCIXaikFaFKJmUeLIXOQaRCpaCRIXJVVKRHTnLudv5KGcRMJFrYKUUSScW8eZTRwkJFiSIRJadMhEST1olBSFVIkSOk4W0rOlUyJIhshDVXI5LyoWoQyypLUtToVZOLy0olkLxZpZXSSiSBS8vTikTiMK2FlD3FaI1DyiLmKkEyKXqMiNJeTabSk0q9YjFkLLpEQgiOFkvVn3UompEQllqU8mL8poRCLKWgonAlWacUSLliIFLJ+sjCIyneFC1ywTERAiJrIRKEKiX+FrT85ENIfhkoI1ZQiiEpJCKTSIkiksplJKJUMmhIlrVS60mSUSJR9pIIiL41kTFxiLeBd1ET9SRFpZBRVSK6S7FhLZOIjvJEvnIIKZCVqEzCREmFtIQQUnqyqVVhiVsRStRXKN5qFxLtWislScEpKfpBZ5yMohLyaEDiwSLIW4shZNQykxVJKMlLCFhGIRLEQiiDQmHYKxEdwyxObyEIkuIla2hARCiCySEmQShNp9oQkWZykCYqKWfKQlWY8EkiJTxIIWUWLC4oqKtSiGC6YEiSa6iIQSG16QlpilIEQiRCJZIkZIT0ruhrWpagSZSJJRCIiqVMqlMVpIsiRcsqYSiySJkYvSwiJLUvXCCKV4jIoiLEyUydAvCEtFFa0iLE2JiEPhMgRbICB+Wr4iLCEQqMIicSihDZNULiGkZQqCHuEWCSWk0T9RMJkSe5JPyEQpMiYRFEBSQnYVLxJEY3CpJG9J6QK1o23gWnwvQhZETQiReiEmJXo0XUnvRp/8SniRSoFMQiZqWTJJqE0y7sIjoWlJiMlFamxeudfsup3hwrEJ98ilEQpCJUIIyqWiRHmrCShJ8kxLvj28kxAgmwqEtEJoCLW6P4lvu2M3vE9IpJETtEEhLE0f8NskRIYmyF8LikIR40FxMUTkUxxovcWFIpCPzIIhUOPFkVFCe2aSgIia41RtHQQRCEIcIgKWKSLTyIsjE/GiSUoQ+JCFWSYIsVoIgInGulgj2oKj8pJMJuKTckkvLfKKeQkQUokcWitnetSoiIUqUesTYikbaqYSNtiELLC0ZDaMopOmJFKNaCkEiT1yowIiyDLcwmVHmpJ3Olf6kmqCEFEL8giCLWqaBwzZ401SLEVKQSQSd4RCLfIk0ioR2IGlgQWFJEmiILRyFCJdctzSJREsjtItWLJ2kdd0RoihXJSIW4uQiEQjkq5EFOPFDWJxNpihIKCYziL+whdY10CbRQSRRVtGKNMsgOcS8UoRk0EFhRS3MiFCZJFkKWITIlNhuRsiUJEKVFqICJOGtSNFOEVZYEiumxCqPUTF2aUhSCsgkWZZJFC2TCQmOP/4dQgOA3+eEgACAEigNtsISdQeGsRCSMiH0IkqYrgIHIIMkhD0zWeRpbJkiptEmEYXerRE09ySBJWxQULINmQSRm8iESxyISRmYcgQEkxnQLeTNCII/KHUa+JTyDZoIhERGjKk86YkJnm9EULbpHHFC1uoizEKxSPkSIj0QgsZv2WSpmRcUMxCd8i4p8TQLi5HIRWxP8nFCMXszIJ6y5z62QhE3v0IibdCy8kEhTORaSW087pJCKPc1EQnj3kk5ENCBRsuL5HJNAmxntEjxMyiSaNYRCOlD/5JFmMaEBYRLVwlpGVm2SMJa55raYtk0Rw1pUWPIFF6bCE5TQUaR8kdVFXqYxDkwlmTYpIRGImceRSR9PIRKe22iCQLjY6kJXstFlLDIpDEVLSyaSCgX/pTSokhBmG8pLG4j1iRyRInUyNxWlCh6rIg1myWnIhF440hUFjSm5PK7SbCFUaKSCjyZw0mJSba2QoTBlpEoyGPqUV31GiUG6M=\" type=\"audio/flac\" />\n",
              "                    Your browser does not support the audio element.\n",
              "                </audio>\n",
              "              "
            ]
          },
          "metadata": {},
          "execution_count": 16
        }
      ]
    },
    {
      "cell_type": "code",
      "source": [
        "def fetch_sound_text_mapping(data_dir):\n",
        "  all_files = os.listdir(data_dir)\n",
        "\n",
        "  flac_files = [os.path.join(data_dir, f) for f in all_files if f.endswith(\".flac\")]\n",
        "  txt_files = [os.path.join(data_dir, f) for f in all_files if f.endswith(\".txt\")]\n",
        "\n",
        "  txt_samples = {}\n",
        "  for f in txt_files:\n",
        "    txt_samples.update(read_txt_file(f))\n",
        "\n",
        "  speech_samples = {}\n",
        "  for f in flac_files:\n",
        "    speech_samples.update(read_flac_file(f))\n",
        "\n",
        "  assert len(txt_samples) == len(speech_samples)\n",
        "\n",
        "  samples = [(speech_samples[file_id], txt_samples[file_id]) for file_id in speech_samples.keys() if len(speech_samples[file_id]) < AUDIO_MAXLEN]\n",
        "  return samples"
      ],
      "metadata": {
        "id": "3C5-EpQ0nmLN"
      },
      "execution_count": 17,
      "outputs": []
    },
    {
      "cell_type": "markdown",
      "source": [
        "trying out on few samples"
      ],
      "metadata": {
        "id": "2kgjGNPZoI7U"
      }
    },
    {
      "cell_type": "code",
      "source": [
        "samples = fetch_sound_text_mapping(data_dir)\n",
        "samples[:5]"
      ],
      "metadata": {
        "colab": {
          "base_uri": "https://localhost:8080/"
        },
        "id": "h49YmGu8n_ZO",
        "outputId": "3ed8a331-6363-4ebe-9eb1-926114312fbb"
      },
      "execution_count": 18,
      "outputs": [
        {
          "output_type": "execute_result",
          "data": {
            "text/plain": [
              "[(array([-0.0007019 , -0.00057983, -0.00033569, ..., -0.00021362,\n",
              "         -0.00015259, -0.00012207]),\n",
              "  'IT IS FROM HER ACTION IN THAT MATTER THAT MY SUSPICION SPRINGS'),\n",
              " (array([-0.00112915, -0.00131226, -0.00158691, ...,  0.00067139,\n",
              "          0.00091553,  0.00100708]),\n",
              "  \"IT MIGHT JUST AS WELL BE SOME ONE ELSE'S WEDDING SO UNIMPORTANT IS THE PART WHICH I AM SET TO PLAY IN IT\"),\n",
              " (array([-0.00036621, -0.00015259, -0.00012207, ..., -0.0005188 ,\n",
              "         -0.00048828, -0.00048828]),\n",
              "  'THERE WERE NO SIGNS OF FALTERING ABOUT HER FLOW OF LANGUAGE'),\n",
              " (array([-0.00073242, -0.00054932, -0.00045776, ...,  0.        ,\n",
              "          0.00024414,  0.00042725]),\n",
              "  \"I WAS PERSUADED THAT SOMEBODY BESIDES THAT COUSIN GOT A PROFIT OUT OF MARY ANN'S ENGAGEMENT RING BUT I HANDED OVER THE AMOUNT\"),\n",
              " (array([-1.22070312e-04,  3.05175781e-05,  6.10351562e-05, ...,\n",
              "         -4.27246094e-04, -6.10351562e-04, -9.15527344e-04]),\n",
              "  'IT IS MOST DELIGHTFUL')]"
            ]
          },
          "metadata": {},
          "execution_count": 18
        }
      ]
    },
    {
      "cell_type": "markdown",
      "source": [
        "Let's pre-process the data now !!!\n",
        "\n",
        "We will first define the tokenizer & processor using gsoc-wav2vec2 package. Then, we will do very simple pre-processing. processor will normalize raw speech w.r.to frames axis and tokenizer will convert our model outputs into the string (using the defined vocabulary) & will take care of the removal of special tokens (depending on your tokenizer configuration)"
      ],
      "metadata": {
        "id": "9741VEnKo7CC"
      }
    },
    {
      "cell_type": "code",
      "source": [
        "from wav2vec2 import Wav2Vec2Processor\n",
        "tokenizer = Wav2Vec2Processor(is_tokenizer=True)\n",
        "processor = Wav2Vec2Processor(is_tokenizer=False)\n",
        "\n",
        "def preprocess_text(text):\n",
        "  label = tokenizer(text)\n",
        "  return tf.constant(label, dtype=tf.int32)\n",
        "\n",
        "def preprocess_speech(audio):\n",
        "  audio = tf.constant(audio, dtype=tf.float32)\n",
        "  return processor(tf.transpose(audio))"
      ],
      "metadata": {
        "colab": {
          "base_uri": "https://localhost:8080/"
        },
        "id": "AsCFwP-AoK9o",
        "outputId": "d875a585-f788-4663-b942-2673a13d688c"
      },
      "execution_count": 19,
      "outputs": [
        {
          "output_type": "stream",
          "name": "stdout",
          "text": [
            "Downloading `vocab.json` from https://github.com/vasudevgupta7/gsoc-wav2vec2/raw/main/data/vocab.json ... DONE\n"
          ]
        }
      ]
    },
    {
      "cell_type": "code",
      "source": [
        "def inputs_generator():\n",
        "  for speech, text in samples:\n",
        "    yield preprocess_speech(speech), preprocess_text(text)"
      ],
      "metadata": {
        "id": "XwT5OlGRo_eV"
      },
      "execution_count": 20,
      "outputs": []
    },
    {
      "cell_type": "markdown",
      "source": [
        "Setting up tf.data.Dataset\n",
        "Following cell will setup tf.data.Dataset object using its .from_generator(...) method. We will be using the generator object, we defined in the above cell.\n",
        "\n",
        "Note: For distributed training (especially on TPUs), .from_generator(...) doesn't work currently and it is recommended to train on data stored in .tfrecord format (Note: The TFRecords should ideally be stored inside a GCS Bucket in order for the TPUs to work to the fullest extent).\n",
        "\n",
        "You can refer to the script for more details on how to convert LibriSpeech data into tfrecords."
      ],
      "metadata": {
        "id": "eNwPNKYtpTXp"
      }
    },
    {
      "cell_type": "code",
      "source": [
        "output_signature = (\n",
        "    tf.TensorSpec(shape=(None),  dtype=tf.float32),\n",
        "    tf.TensorSpec(shape=(None), dtype=tf.int32),\n",
        ")\n",
        "\n",
        "dataset = tf.data.Dataset.from_generator(inputs_generator, output_signature=output_signature)"
      ],
      "metadata": {
        "id": "Ta8CAV4_pIPt"
      },
      "execution_count": 21,
      "outputs": []
    },
    {
      "cell_type": "code",
      "source": [
        "BUFFER_SIZE = len(flac_files)\n",
        "SEED = 42\n",
        "\n",
        "dataset = dataset.shuffle(BUFFER_SIZE, seed=SEED)"
      ],
      "metadata": {
        "id": "WS7xdO_HpccF"
      },
      "execution_count": 22,
      "outputs": []
    },
    {
      "cell_type": "markdown",
      "source": [
        "We will pass the dataset into multiple batches, so let's prepare batches in the following cell. Now, all the sequences in a batch should be padded to a constant length. We will use the.padded_batch(...) method for that purpose."
      ],
      "metadata": {
        "id": "9y3EPLPlpkSv"
      }
    },
    {
      "cell_type": "code",
      "source": [
        "dataset = dataset.padded_batch(BATCH_SIZE, padded_shapes=(AUDIO_MAXLEN, LABEL_MAXLEN), padding_values=(0.0, 0))"
      ],
      "metadata": {
        "id": "wjnJ2c8mpffm"
      },
      "execution_count": 23,
      "outputs": []
    },
    {
      "cell_type": "code",
      "source": [
        "dataset = dataset.prefetch(tf.data.AUTOTUNE)"
      ],
      "metadata": {
        "id": "T65EMz9ipm42"
      },
      "execution_count": 24,
      "outputs": []
    },
    {
      "cell_type": "code",
      "source": [
        "num_train_batches = 10\n",
        "num_val_batches = 4\n",
        "\n",
        "train_dataset = dataset.take(num_train_batches)\n",
        "val_dataset = dataset.skip(num_train_batches).take(num_val_batches)"
      ],
      "metadata": {
        "id": "W17016tlp-X6"
      },
      "execution_count": 25,
      "outputs": []
    },
    {
      "cell_type": "markdown",
      "source": [
        "Model Training"
      ],
      "metadata": {
        "id": "pFos436VqgF9"
      }
    },
    {
      "cell_type": "code",
      "source": [
        "model.compile(optimizer, loss=loss_fn)"
      ],
      "metadata": {
        "id": "cmqR7RcqqXLq"
      },
      "execution_count": 26,
      "outputs": []
    },
    {
      "cell_type": "code",
      "source": [
        "history = model.fit(train_dataset, validation_data=val_dataset, epochs=3)\n",
        "history.history"
      ],
      "metadata": {
        "colab": {
          "base_uri": "https://localhost:8080/"
        },
        "id": "R9mEZ3nlqiAp",
        "outputId": "0b0f7404-fff8-4acd-86f2-951f1ab63395"
      },
      "execution_count": 27,
      "outputs": [
        {
          "output_type": "stream",
          "name": "stdout",
          "text": [
            "Epoch 1/3\n",
            "WARNING:tensorflow:From /usr/local/lib/python3.7/dist-packages/tensorflow/python/ops/ctc_ops.py:1443: alias_inplace_add (from tensorflow.python.ops.inplace_ops) is deprecated and will be removed in a future version.\n",
            "Instructions for updating:\n",
            "Prefer tf.tensor_scatter_nd_add, which offers the same functionality with well-defined read-write semantics.\n"
          ]
        },
        {
          "output_type": "stream",
          "name": "stderr",
          "text": [
            "WARNING:tensorflow:From /usr/local/lib/python3.7/dist-packages/tensorflow/python/ops/ctc_ops.py:1443: alias_inplace_add (from tensorflow.python.ops.inplace_ops) is deprecated and will be removed in a future version.\n",
            "Instructions for updating:\n",
            "Prefer tf.tensor_scatter_nd_add, which offers the same functionality with well-defined read-write semantics.\n"
          ]
        },
        {
          "output_type": "stream",
          "name": "stdout",
          "text": [
            "WARNING:tensorflow:From /usr/local/lib/python3.7/dist-packages/tensorflow/python/ops/ctc_ops.py:1426: alias_inplace_update (from tensorflow.python.ops.inplace_ops) is deprecated and will be removed in a future version.\n",
            "Instructions for updating:\n",
            "Prefer tf.tensor_scatter_nd_update, which offers the same functionality with well-defined read-write semantics.\n"
          ]
        },
        {
          "output_type": "stream",
          "name": "stderr",
          "text": [
            "WARNING:tensorflow:From /usr/local/lib/python3.7/dist-packages/tensorflow/python/ops/ctc_ops.py:1426: alias_inplace_update (from tensorflow.python.ops.inplace_ops) is deprecated and will be removed in a future version.\n",
            "Instructions for updating:\n",
            "Prefer tf.tensor_scatter_nd_update, which offers the same functionality with well-defined read-write semantics.\n"
          ]
        },
        {
          "output_type": "stream",
          "name": "stdout",
          "text": [
            "WARNING:tensorflow:Gradients do not exist for variables ['wav2vec2/masked_spec_embed:0'] when minimizing the loss. If you're using `model.compile()`, did you forget to provide a `loss`argument?\n"
          ]
        },
        {
          "output_type": "stream",
          "name": "stderr",
          "text": [
            "WARNING:tensorflow:Gradients do not exist for variables ['wav2vec2/masked_spec_embed:0'] when minimizing the loss. If you're using `model.compile()`, did you forget to provide a `loss`argument?\n"
          ]
        },
        {
          "output_type": "stream",
          "name": "stdout",
          "text": [
            "WARNING:tensorflow:Gradients do not exist for variables ['wav2vec2/masked_spec_embed:0'] when minimizing the loss. If you're using `model.compile()`, did you forget to provide a `loss`argument?\n"
          ]
        },
        {
          "output_type": "stream",
          "name": "stderr",
          "text": [
            "WARNING:tensorflow:Gradients do not exist for variables ['wav2vec2/masked_spec_embed:0'] when minimizing the loss. If you're using `model.compile()`, did you forget to provide a `loss`argument?\n"
          ]
        },
        {
          "output_type": "stream",
          "name": "stdout",
          "text": [
            "10/10 [==============================] - 37s 2s/step - loss: 1358.8097 - val_loss: 872.3135\n",
            "Epoch 2/3\n",
            "10/10 [==============================] - 20s 2s/step - loss: 827.9127 - val_loss: 519.2057\n",
            "Epoch 3/3\n",
            "10/10 [==============================] - 19s 2s/step - loss: 761.6920 - val_loss: 817.7881\n"
          ]
        },
        {
          "output_type": "execute_result",
          "data": {
            "text/plain": [
              "{'loss': [1358.8096923828125, 827.9127197265625, 761.6920166015625],\n",
              " 'val_loss': [872.3134765625, 519.2056884765625, 817.7880859375]}"
            ]
          },
          "metadata": {},
          "execution_count": 27
        }
      ]
    },
    {
      "cell_type": "markdown",
      "source": [
        "Let's save our model with .save(...) method to be able to perform inference later. "
      ],
      "metadata": {
        "id": "JD_-gqcrqxiW"
      }
    },
    {
      "cell_type": "code",
      "source": [
        "save_dir = \"finetuned-wav2vec2\"\n",
        "model.save(save_dir, include_optimizer=False)"
      ],
      "metadata": {
        "colab": {
          "base_uri": "https://localhost:8080/"
        },
        "id": "Jb_KogDgql_G",
        "outputId": "fb77d87d-fec6-46ae-cde1-c9e1f3d576fe"
      },
      "execution_count": 28,
      "outputs": [
        {
          "output_type": "stream",
          "name": "stderr",
          "text": [
            "WARNING:absl:Found untraced functions such as restored_function_body, restored_function_body, restored_function_body, restored_function_body, restored_function_body while saving (showing 5 of 342). These functions will not be directly callable after loading.\n"
          ]
        },
        {
          "output_type": "stream",
          "name": "stdout",
          "text": [
            "INFO:tensorflow:Assets written to: finetuned-wav2vec2/assets\n"
          ]
        },
        {
          "output_type": "stream",
          "name": "stderr",
          "text": [
            "INFO:tensorflow:Assets written to: finetuned-wav2vec2/assets\n"
          ]
        }
      ]
    },
    {
      "cell_type": "markdown",
      "source": [
        "Word error rate (WER) is a common metric for measuring the performance of an automatic speech recognition system. The WER is derived from the Levenshtein distance, working at the word level. Word error rate can then be computed as: WER = (S + D + I) / N = (S + D + I) / (S + D + C) where S is the number of substitutions, D is the number of deletions, I is the number of insertions, C is the number of correct words, N is the number of words in the reference (N=S+D+C). This value indicates the percentage of words that were incorrectly predicted."
      ],
      "metadata": {
        "id": "ASviQnMHso4L"
      }
    },
    {
      "cell_type": "code",
      "source": [
        "!pip install -q datasets\n",
        "\n",
        "from datasets import load_metric\n",
        "metric = load_metric(\"wer\")"
      ],
      "metadata": {
        "id": "_43zLXdirAW3"
      },
      "execution_count": 30,
      "outputs": []
    },
    {
      "cell_type": "code",
      "source": [
        "@tf.function(jit_compile=True)\n",
        "def eval_fwd(batch):\n",
        "  logits = model(batch, training=False)\n",
        "  return tf.argmax(logits, axis=-1)"
      ],
      "metadata": {
        "id": "lKIverm3vLMj"
      },
      "execution_count": 31,
      "outputs": []
    },
    {
      "cell_type": "markdown",
      "source": [
        "evaluation on validation data"
      ],
      "metadata": {
        "id": "jPjc5enawIH6"
      }
    },
    {
      "cell_type": "code",
      "source": [
        "from tqdm.auto import tqdm\n",
        "\n",
        "for speech, labels in tqdm(val_dataset, total=num_val_batches):\n",
        "    predictions  = eval_fwd(speech)\n",
        "    predictions = [tokenizer.decode(pred) for pred in predictions.numpy().tolist()]\n",
        "    references = [tokenizer.decode(label, group_tokens=False) for label in labels.numpy().tolist()]\n",
        "    metric.add_batch(references=references, predictions=predictions)"
      ],
      "metadata": {
        "colab": {
          "base_uri": "https://localhost:8080/",
          "height": 49,
          "referenced_widgets": [
            "66f61f2cdb8d41db8b0b41063f446cb9",
            "239bde773e7b4200b56825389000fd9e",
            "28f5f42cd82f465cab2834ebb5499e9e",
            "b039c0734f2142618299afa599d7f501",
            "09a2b566750549139bc20142f57387a8",
            "ac33a7a2a502483791b9527dfb61eb50",
            "35fa659c8ec5461d9ac452f89becbcb6",
            "18c7eb06945244b59fb918f7f5c27ef3",
            "ee3000e6a7c943ebbee456955045c61c",
            "64f02183b9394c8891f4a5654d9885b1",
            "2c5ed76d1c25483589317c8ff4a2ba3b"
          ]
        },
        "id": "ocDnsNU7v8yE",
        "outputId": "4301a233-bba2-4712-d0aa-e8a4725e536d"
      },
      "execution_count": 32,
      "outputs": [
        {
          "output_type": "display_data",
          "data": {
            "text/plain": [
              "  0%|          | 0/4 [00:00<?, ?it/s]"
            ],
            "application/vnd.jupyter.widget-view+json": {
              "version_major": 2,
              "version_minor": 0,
              "model_id": "66f61f2cdb8d41db8b0b41063f446cb9"
            }
          },
          "metadata": {}
        }
      ]
    },
    {
      "cell_type": "code",
      "source": [
        "metric.compute()"
      ],
      "metadata": {
        "colab": {
          "base_uri": "https://localhost:8080/"
        },
        "id": "XbfIaGI3wLAe",
        "outputId": "76e4c92e-716c-4897-e7bb-67b04a2252cf"
      },
      "execution_count": 33,
      "outputs": [
        {
          "output_type": "execute_result",
          "data": {
            "text/plain": [
              "1.0"
            ]
          },
          "metadata": {},
          "execution_count": 33
        }
      ]
    },
    {
      "cell_type": "markdown",
      "source": [
        "Inference"
      ],
      "metadata": {
        "id": "FoTNLO2vwdwl"
      }
    },
    {
      "cell_type": "code",
      "source": [
        "finetuned_model = tf.keras.models.load_model(save_dir)\n",
        "!wget https://github.com/vasudevgupta7/gsoc-wav2vec2/raw/main/data/SA2.wav\n",
        "import numpy as np\n",
        "\n",
        "speech, _ = sf.read(\"SA2.wav\")\n",
        "speech = np.pad(speech, (0, AUDIO_MAXLEN - len(speech)))\n",
        "speech = tf.expand_dims(processor(tf.constant(speech)), 0)\n",
        "\n",
        "outputs = finetuned_model(speech)\n",
        "outputs"
      ],
      "metadata": {
        "colab": {
          "base_uri": "https://localhost:8080/"
        },
        "id": "b9ihdjLkwUyx",
        "outputId": "9a346470-370a-4091-c959-7277ef437657"
      },
      "execution_count": 34,
      "outputs": [
        {
          "output_type": "stream",
          "name": "stdout",
          "text": [
            "WARNING:tensorflow:No training configuration found in save file, so the model was *not* compiled. Compile it manually.\n"
          ]
        },
        {
          "output_type": "stream",
          "name": "stderr",
          "text": [
            "WARNING:tensorflow:No training configuration found in save file, so the model was *not* compiled. Compile it manually.\n"
          ]
        },
        {
          "output_type": "stream",
          "name": "stdout",
          "text": [
            "--2022-07-07 08:24:23--  https://github.com/vasudevgupta7/gsoc-wav2vec2/raw/main/data/SA2.wav\n",
            "Resolving github.com (github.com)... 20.205.243.166\n",
            "Connecting to github.com (github.com)|20.205.243.166|:443... connected.\n",
            "HTTP request sent, awaiting response... 302 Found\n",
            "Location: https://raw.githubusercontent.com/vasudevgupta7/gsoc-wav2vec2/main/data/SA2.wav [following]\n",
            "--2022-07-07 08:24:23--  https://raw.githubusercontent.com/vasudevgupta7/gsoc-wav2vec2/main/data/SA2.wav\n",
            "Resolving raw.githubusercontent.com (raw.githubusercontent.com)... 185.199.111.133, 185.199.109.133, 185.199.108.133, ...\n",
            "Connecting to raw.githubusercontent.com (raw.githubusercontent.com)|185.199.111.133|:443... connected.\n",
            "HTTP request sent, awaiting response... 200 OK\n",
            "Length: 94252 (92K) [audio/wav]\n",
            "Saving to: ‘SA2.wav’\n",
            "\n",
            "SA2.wav             100%[===================>]  92.04K  --.-KB/s    in 0.002s  \n",
            "\n",
            "2022-07-07 08:24:25 (46.5 MB/s) - ‘SA2.wav’ saved [94252/94252]\n",
            "\n"
          ]
        },
        {
          "output_type": "execute_result",
          "data": {
            "text/plain": [
              "<tf.Tensor: shape=(1, 768, 32), dtype=float32, numpy=\n",
              "array([[[ 0.9268575 , -0.82134336, -0.08236028, ..., -1.0640054 ,\n",
              "         -0.7868407 , -0.5740926 ],\n",
              "        [ 0.9274203 , -0.8210297 , -0.08172926, ..., -1.0638304 ,\n",
              "         -0.7880098 , -0.5723727 ],\n",
              "        [ 0.9278157 , -0.82224953, -0.07799153, ..., -1.0646136 ,\n",
              "         -0.7883819 , -0.57123953],\n",
              "        ...,\n",
              "        [ 0.9231877 , -0.8248101 , -0.08464065, ..., -1.0613258 ,\n",
              "         -0.7787218 , -0.5690993 ],\n",
              "        [ 0.9235312 , -0.8247275 , -0.08395161, ..., -1.0613401 ,\n",
              "         -0.77876025, -0.56889355],\n",
              "        [ 0.9236906 , -0.8242859 , -0.08403508, ..., -1.061506  ,\n",
              "         -0.7788548 , -0.56927687]]], dtype=float32)>"
            ]
          },
          "metadata": {},
          "execution_count": 34
        }
      ]
    },
    {
      "cell_type": "code",
      "source": [
        "predictions = tf.argmax(outputs, axis=-1)\n",
        "predictions = [tokenizer.decode(pred) for pred in predictions.numpy().tolist()]\n",
        "predictions"
      ],
      "metadata": {
        "colab": {
          "base_uri": "https://localhost:8080/"
        },
        "id": "OSlWptu8wljZ",
        "outputId": "8e31f699-bf95-4797-d34c-f69e92bec9cb"
      },
      "execution_count": 35,
      "outputs": [
        {
          "output_type": "execute_result",
          "data": {
            "text/plain": [
              "['R']"
            ]
          },
          "metadata": {},
          "execution_count": 35
        }
      ]
    },
    {
      "cell_type": "code",
      "source": [
        "from google.colab import files\n",
        "files.download(\"/content/finetuned-wav2vec2\")"
      ],
      "metadata": {
        "colab": {
          "base_uri": "https://localhost:8080/",
          "height": 34
        },
        "id": "vb7IrpV_wu8A",
        "outputId": "3c5696e6-a4ab-4a02-fd6e-71cc1501eaaa"
      },
      "execution_count": 36,
      "outputs": [
        {
          "output_type": "display_data",
          "data": {
            "text/plain": [
              "<IPython.core.display.Javascript object>"
            ],
            "application/javascript": [
              "\n",
              "    async function download(id, filename, size) {\n",
              "      if (!google.colab.kernel.accessAllowed) {\n",
              "        return;\n",
              "      }\n",
              "      const div = document.createElement('div');\n",
              "      const label = document.createElement('label');\n",
              "      label.textContent = `Downloading \"${filename}\": `;\n",
              "      div.appendChild(label);\n",
              "      const progress = document.createElement('progress');\n",
              "      progress.max = size;\n",
              "      div.appendChild(progress);\n",
              "      document.body.appendChild(div);\n",
              "\n",
              "      const buffers = [];\n",
              "      let downloaded = 0;\n",
              "\n",
              "      const channel = await google.colab.kernel.comms.open(id);\n",
              "      // Send a message to notify the kernel that we're ready.\n",
              "      channel.send({})\n",
              "\n",
              "      for await (const message of channel.messages) {\n",
              "        // Send a message to notify the kernel that we're ready.\n",
              "        channel.send({})\n",
              "        if (message.buffers) {\n",
              "          for (const buffer of message.buffers) {\n",
              "            buffers.push(buffer);\n",
              "            downloaded += buffer.byteLength;\n",
              "            progress.value = downloaded;\n",
              "          }\n",
              "        }\n",
              "      }\n",
              "      const blob = new Blob(buffers, {type: 'application/binary'});\n",
              "      const a = document.createElement('a');\n",
              "      a.href = window.URL.createObjectURL(blob);\n",
              "      a.download = filename;\n",
              "      div.appendChild(a);\n",
              "      a.click();\n",
              "      div.remove();\n",
              "    }\n",
              "  "
            ]
          },
          "metadata": {}
        },
        {
          "output_type": "display_data",
          "data": {
            "text/plain": [
              "<IPython.core.display.Javascript object>"
            ],
            "application/javascript": [
              "download(\"download_3b4912c4-d89a-4bc6-9368-4f98fb04bed9\", \"finetuned-wav2vec2\", 4096)"
            ]
          },
          "metadata": {}
        }
      ]
    },
    {
      "cell_type": "code",
      "source": [
        "from google.colab import files\n",
        "files.download(\"/content/data\")"
      ],
      "metadata": {
        "colab": {
          "base_uri": "https://localhost:8080/",
          "height": 34
        },
        "id": "C3hU3Bynxda8",
        "outputId": "bcf7d9d4-7e96-4cce-9aff-de12f18365ca"
      },
      "execution_count": 38,
      "outputs": [
        {
          "output_type": "display_data",
          "data": {
            "text/plain": [
              "<IPython.core.display.Javascript object>"
            ],
            "application/javascript": [
              "\n",
              "    async function download(id, filename, size) {\n",
              "      if (!google.colab.kernel.accessAllowed) {\n",
              "        return;\n",
              "      }\n",
              "      const div = document.createElement('div');\n",
              "      const label = document.createElement('label');\n",
              "      label.textContent = `Downloading \"${filename}\": `;\n",
              "      div.appendChild(label);\n",
              "      const progress = document.createElement('progress');\n",
              "      progress.max = size;\n",
              "      div.appendChild(progress);\n",
              "      document.body.appendChild(div);\n",
              "\n",
              "      const buffers = [];\n",
              "      let downloaded = 0;\n",
              "\n",
              "      const channel = await google.colab.kernel.comms.open(id);\n",
              "      // Send a message to notify the kernel that we're ready.\n",
              "      channel.send({})\n",
              "\n",
              "      for await (const message of channel.messages) {\n",
              "        // Send a message to notify the kernel that we're ready.\n",
              "        channel.send({})\n",
              "        if (message.buffers) {\n",
              "          for (const buffer of message.buffers) {\n",
              "            buffers.push(buffer);\n",
              "            downloaded += buffer.byteLength;\n",
              "            progress.value = downloaded;\n",
              "          }\n",
              "        }\n",
              "      }\n",
              "      const blob = new Blob(buffers, {type: 'application/binary'});\n",
              "      const a = document.createElement('a');\n",
              "      a.href = window.URL.createObjectURL(blob);\n",
              "      a.download = filename;\n",
              "      div.appendChild(a);\n",
              "      a.click();\n",
              "      div.remove();\n",
              "    }\n",
              "  "
            ]
          },
          "metadata": {}
        },
        {
          "output_type": "display_data",
          "data": {
            "text/plain": [
              "<IPython.core.display.Javascript object>"
            ],
            "application/javascript": [
              "download(\"download_e958d979-3891-4fd5-998e-85920859ec85\", \"data\", 4096)"
            ]
          },
          "metadata": {}
        }
      ]
    },
    {
      "cell_type": "code",
      "source": [
        ""
      ],
      "metadata": {
        "id": "NO4n6cQcyd9w"
      },
      "execution_count": null,
      "outputs": []
    }
  ]
}