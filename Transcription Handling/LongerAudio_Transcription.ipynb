{
  "cells": [
    {
      "cell_type": "markdown",
      "metadata": {
        "id": "XY-ADs7mVw8v"
      },
      "source": [
        "# TRANSCRIBING AUDIO FILES WITH WAV2VEC2\n"
      ]
    },
    {
      "cell_type": "markdown",
      "metadata": {
        "id": "-VtYvK2XWTqo"
      },
      "source": [
        "*This is the simplest trial of the Wav2Vec2 model, involving a 62s clip of John F Kennedy's famous inaugural speech in 1961*"
      ]
    },
    {
      "cell_type": "markdown",
      "metadata": {
        "id": "spV2CZABWtHt"
      },
      "source": [
        "*if you want to use your own audio clips, make sure to downsample them to 16kHz as the Wav2Vec2 model used here was pretrained and fine-tuned on 16kHz sampled speech audio.*\n",
        "\n",
        "I used Audacity to split up the audio files in this repo.\n",
        "https://www.audacityteam.org/"
      ]
    },
    {
      "cell_type": "code",
      "execution_count": null,
      "metadata": {
        "id": "0lqvWU5TM8nQ",
        "colab": {
          "base_uri": "https://localhost:8080/"
        },
        "outputId": "04ea2ba9-219a-4f47-abe3-76723998dd17"
      },
      "outputs": [
        {
          "output_type": "stream",
          "name": "stdout",
          "text": [
            "\u001b[K     |████████████████████████████████| 4.4 MB 29.0 MB/s \n",
            "\u001b[K     |████████████████████████████████| 6.6 MB 42.7 MB/s \n",
            "\u001b[K     |████████████████████████████████| 101 kB 11.1 MB/s \n",
            "\u001b[K     |████████████████████████████████| 596 kB 58.5 MB/s \n",
            "\u001b[?25h"
          ]
        }
      ],
      "source": [
        "!pip install -q transformers"
      ]
    },
    {
      "cell_type": "code",
      "execution_count": null,
      "metadata": {
        "id": "2t-TVDgRWP4s"
      },
      "outputs": [],
      "source": [
        "import librosa\n",
        "import pandas as pd\n",
        "import torch\n",
        "from transformers import Wav2Vec2ForCTC, Wav2Vec2Tokenizer"
      ]
    },
    {
      "cell_type": "code",
      "execution_count": null,
      "metadata": {
        "colab": {
          "base_uri": "https://localhost:8080/",
          "height": 319,
          "referenced_widgets": [
            "fa72301f2f7b429e911f6fdfc1319623",
            "980eb0d638354d34b2fe9e7d7f0d0fa8",
            "c8b32a9db11b4d53a597a0ce022ef1a0",
            "c4523092534642f183818b520d807cd8",
            "f4a980fdb7714a5c881e38af1b53a01d",
            "fe0ac5ba8f414d3b9befe86a3c034807",
            "ecd3808c83074fbfb7a95c69a2acfee2",
            "fa6a42131e92479dab5d723b9cc9d0dc",
            "881b7d03a65b4f3b9b229a25e16f89fc",
            "df9fda17812f472b922121fe393a0b75",
            "7ab4beeebe0546d294a982e8d1ff6e52",
            "31d1be43d595460da09863a1d03ac2af",
            "d2d33d5e2cc94945aa675aba790b7972",
            "4c8a01517c2743258fece30fa3e81b2a",
            "3e1ee9b950c24f11963deb9fc378a2aa",
            "c943a676081045cb8381f9ea21af7614",
            "cc45b57cda65483c89ff2c95c5d3142f",
            "1277e51d4e92455dbb29cfcc0fa4c3ad",
            "dd2c3a95e9f94cdf892924c23cb0cc4c",
            "7b25e3f639884142bd516aab90a98b4f",
            "fd2d24d07cba4235b801d6af4d16294f",
            "3a381a7cfc74495484aafc7765e9b836",
            "e1988b9367914144b5b300a245f56fb7",
            "6ba6afe86e7745ad88ff40020f6ca55e",
            "805e03e6c014408da2a5e81a9b29827f",
            "ab6d06438aef40e6b7ec58aeee5037f3",
            "94b7ca29a4cc4d9db129b44666fcb7fa",
            "5e0e0d9738f241a4a4974aea49641d6f",
            "85ba36ca443f4f9687300417121a5b0b",
            "35395e0555ac40ff81e8238066b11285",
            "117b429a382b40c9b1e3d6c39723799e",
            "c90e68ddd76a4bb3a335900026a67c92",
            "59a827c2dbaf41a5952f902ff16671b6",
            "3aecff840d2a4f4aa8cf2e283cd822cd",
            "350d146bb69e4c92a472e53f4436b23c",
            "2967f7338f384cc9bff25615257c3ebc",
            "c460f48c9fec4cb39b2ad6f3b2e90faf",
            "aafebdb232b14d1690bc0e3ebda4614a",
            "82c4b869a259405cbb8fa275bcc3b232",
            "5cae07c91af2443ba8c0a321ad8c2cf9",
            "762768c722644b94addd351592821687",
            "da2e615b7ef04e859668d66af98e9e3c",
            "a217c218693044d1bda74141c372ca5f",
            "0804fb33dfb946a18f8a1ed74984c35f",
            "69acc96f90c642c2ad73413b84c606fe",
            "83ed75b9134445edaf91a2bfb98805d8",
            "4bff85ee0cf24b3886d43e2e02ea7ace",
            "765980f0efc34c4eadfd607769c6504b",
            "11bde418e6884415bcd46e48d125cda7",
            "dd5e90e10aef44d39f22fd5238951ad4",
            "ad3da438ed9d475dbf2c5be0e38e332d",
            "56dbc5ad0fba4aef84202ee4da757261",
            "4dca85d6ae684f02997e2aa5f1699292",
            "fc171383ed17473392c119dadbc8533b",
            "0718c3f9b7c94ba29123dc18ed221749"
          ]
        },
        "id": "wqSiXrftXP68",
        "outputId": "c6e826a0-467f-4571-aeff-6af6dfad8649"
      },
      "outputs": [
        {
          "output_type": "display_data",
          "data": {
            "text/plain": [
              "Downloading:   0%|          | 0.00/291 [00:00<?, ?B/s]"
            ],
            "application/vnd.jupyter.widget-view+json": {
              "version_major": 2,
              "version_minor": 0,
              "model_id": "fa72301f2f7b429e911f6fdfc1319623"
            }
          },
          "metadata": {}
        },
        {
          "output_type": "display_data",
          "data": {
            "text/plain": [
              "Downloading:   0%|          | 0.00/163 [00:00<?, ?B/s]"
            ],
            "application/vnd.jupyter.widget-view+json": {
              "version_major": 2,
              "version_minor": 0,
              "model_id": "31d1be43d595460da09863a1d03ac2af"
            }
          },
          "metadata": {}
        },
        {
          "output_type": "display_data",
          "data": {
            "text/plain": [
              "Downloading:   0%|          | 0.00/85.0 [00:00<?, ?B/s]"
            ],
            "application/vnd.jupyter.widget-view+json": {
              "version_major": 2,
              "version_minor": 0,
              "model_id": "e1988b9367914144b5b300a245f56fb7"
            }
          },
          "metadata": {}
        },
        {
          "output_type": "display_data",
          "data": {
            "text/plain": [
              "Downloading:   0%|          | 0.00/1.56k [00:00<?, ?B/s]"
            ],
            "application/vnd.jupyter.widget-view+json": {
              "version_major": 2,
              "version_minor": 0,
              "model_id": "3aecff840d2a4f4aa8cf2e283cd822cd"
            }
          },
          "metadata": {}
        },
        {
          "output_type": "stream",
          "name": "stderr",
          "text": [
            "The tokenizer class you load from this checkpoint is not the same type as the class this function is called from. It may result in unexpected tokenization. \n",
            "The tokenizer class you load from this checkpoint is 'Wav2Vec2CTCTokenizer'. \n",
            "The class this function is called from is 'Wav2Vec2Tokenizer'.\n",
            "/usr/local/lib/python3.7/dist-packages/transformers/models/wav2vec2/tokenization_wav2vec2.py:757: FutureWarning: The class `Wav2Vec2Tokenizer` is deprecated and will be removed in version 5 of Transformers. Please use `Wav2Vec2Processor` or `Wav2Vec2CTCTokenizer` instead.\n",
            "  FutureWarning,\n"
          ]
        },
        {
          "output_type": "display_data",
          "data": {
            "text/plain": [
              "Downloading:   0%|          | 0.00/360M [00:00<?, ?B/s]"
            ],
            "application/vnd.jupyter.widget-view+json": {
              "version_major": 2,
              "version_minor": 0,
              "model_id": "69acc96f90c642c2ad73413b84c606fe"
            }
          },
          "metadata": {}
        },
        {
          "output_type": "stream",
          "name": "stderr",
          "text": [
            "Some weights of Wav2Vec2ForCTC were not initialized from the model checkpoint at facebook/wav2vec2-base-960h and are newly initialized: ['wav2vec2.masked_spec_embed']\n",
            "You should probably TRAIN this model on a down-stream task to be able to use it for predictions and inference.\n"
          ]
        }
      ],
      "source": [
        "tokenizer = Wav2Vec2Tokenizer.from_pretrained(\"facebook/wav2vec2-base-960h\")\n",
        "model = Wav2Vec2ForCTC.from_pretrained(\"facebook/wav2vec2-base-960h\")"
      ]
    },
    {
      "cell_type": "code",
      "execution_count": null,
      "metadata": {
        "id": "aH9YeQLEXVJ8"
      },
      "outputs": [],
      "source": [
        "# Make sure the numbering of your split audio files start at \"1\", and not \"01\", or \"001\".\n",
        "\n",
        "def split(x, y):\n",
        "    speech = {}\n",
        "    input_values = {}\n",
        "    logits = {}\n",
        "    predicted_ids = {}\n",
        "    transcribe = {}\n",
        "    for i in range(x, y+1):\n",
        "        speech[i], rate = librosa.load(\n",
        "            \"/content/drive/MyDrive/Transcription-Suite/audio/poet/amanda_gorman-%d.flac\" % i, sr=16000\n",
        "        )\n",
        "        input_values[i] = tokenizer(speech[i], return_tensors=\"pt\").input_values\n",
        "        logits[i] = model(input_values[i]).logits\n",
        "        predicted_ids[i] = torch.argmax(logits[i], dim=-1)\n",
        "        transcribe[i] = tokenizer.decode(predicted_ids[i][0])\n",
        "    return transcribe"
      ]
    },
    {
      "cell_type": "code",
      "execution_count": null,
      "metadata": {
        "id": "HHLvDEEZXhsd"
      },
      "outputs": [],
      "source": [
        "def transcript(num_clips):\n",
        "    trans = {}\n",
        "    for j in range(1, num_clips):\n",
        "        if num_clips - j > 0:\n",
        "            trans[j] = pd.DataFrame.from_dict(\n",
        "                split(j, j + 1), orient=\"index\"\n",
        "            ).rename(columns={0: \"Transcribed_Text\"})\n",
        "        else:\n",
        "            pass\n",
        "    return (\n",
        "        pd.concat(trans)\n",
        "        .drop_duplicates(subset=[\"Transcribed_Text\"])\n",
        "        .reset_index(drop=True)\n",
        "    )"
      ]
    },
    {
      "cell_type": "code",
      "execution_count": null,
      "metadata": {
        "colab": {
          "background_save": true
        },
        "id": "El6_cj-RXoSS",
        "outputId": "1e224454-6d23-4320-d6ad-1e7be67e6307"
      },
      "outputs": [
        {
          "name": "stdout",
          "output_type": "stream",
          "text": [
            "CPU times: user 3min 3s, sys: 6.95 s, total: 3min 10s\n",
            "Wall time: 3min 13s\n"
          ]
        }
      ],
      "source": [
        "%%time\n",
        "df = transcript(num_clips = 10)"
      ]
    },
    {
      "cell_type": "code",
      "execution_count": null,
      "metadata": {
        "id": "Ndd7eQToXwaP",
        "colab": {
          "base_uri": "https://localhost:8080/"
        },
        "outputId": "e09517e4-c7fa-43d0-fdc7-eca9c972ade5"
      },
      "outputs": [
        {
          "output_type": "execute_result",
          "data": {
            "text/plain": [
              "(10, 1)"
            ]
          },
          "metadata": {},
          "execution_count": 12
        }
      ],
      "source": [
        "# results\n",
        "df.shape"
      ]
    },
    {
      "cell_type": "code",
      "source": [
        "df.head(10)"
      ],
      "metadata": {
        "colab": {
          "base_uri": "https://localhost:8080/",
          "height": 834
        },
        "id": "lE8TLio3bdzT",
        "outputId": "961efb60-69c7-4550-d074-94e4ce78c256"
      },
      "execution_count": null,
      "outputs": [
        {
          "output_type": "execute_result",
          "data": {
            "text/plain": [
              "                                    Transcribed_Text\n",
              "0  MISTER PRESIDENT DOCTOR BYDEN MADAM VICE PRESI...\n",
              "1  IS ISN'T ALWAYS JUST IS AND YET THE DAWN IS HO...\n",
              "2  FOR ONE AND YES WE ARE FAR FROM POLISHED FAR F...\n",
              "3  PUT OUR FUTSARE FIRST WE MUST FIRST PUT OUR DI...\n",
              "4  EVER AGAIN SO DIVISION SKIPSER TELLS US TO INV...\n",
              "5  HAR IT WE'VE SEEN A FOREST THAT WOULD SHATTER ...\n",
              "6  CEPTION WE DID NOT FEEL PREPARED TO BE THE EIR...\n",
              "7  VOLENCE BUT BOLD FIERCE AND FREE WE WILL NOT B...\n",
              "8  BETTER THAN ONE WE WERE LEFT WITHEVERY BREATH ...\n",
              "9  AND BEAUTIFUL WHEN DAY COMES WE STEP OUT OF TH..."
            ],
            "text/html": [
              "\n",
              "  <div id=\"df-70a5efeb-560a-456f-b289-d5b7c0843601\">\n",
              "    <div class=\"colab-df-container\">\n",
              "      <div>\n",
              "<style scoped>\n",
              "    .dataframe tbody tr th:only-of-type {\n",
              "        vertical-align: middle;\n",
              "    }\n",
              "\n",
              "    .dataframe tbody tr th {\n",
              "        vertical-align: top;\n",
              "    }\n",
              "\n",
              "    .dataframe thead th {\n",
              "        text-align: right;\n",
              "    }\n",
              "</style>\n",
              "<table border=\"1\" class=\"dataframe\">\n",
              "  <thead>\n",
              "    <tr style=\"text-align: right;\">\n",
              "      <th></th>\n",
              "      <th>Transcribed_Text</th>\n",
              "    </tr>\n",
              "  </thead>\n",
              "  <tbody>\n",
              "    <tr>\n",
              "      <th>0</th>\n",
              "      <td>MISTER PRESIDENT DOCTOR BYDEN MADAM VICE PRESI...</td>\n",
              "    </tr>\n",
              "    <tr>\n",
              "      <th>1</th>\n",
              "      <td>IS ISN'T ALWAYS JUST IS AND YET THE DAWN IS HO...</td>\n",
              "    </tr>\n",
              "    <tr>\n",
              "      <th>2</th>\n",
              "      <td>FOR ONE AND YES WE ARE FAR FROM POLISHED FAR F...</td>\n",
              "    </tr>\n",
              "    <tr>\n",
              "      <th>3</th>\n",
              "      <td>PUT OUR FUTSARE FIRST WE MUST FIRST PUT OUR DI...</td>\n",
              "    </tr>\n",
              "    <tr>\n",
              "      <th>4</th>\n",
              "      <td>EVER AGAIN SO DIVISION SKIPSER TELLS US TO INV...</td>\n",
              "    </tr>\n",
              "    <tr>\n",
              "      <th>5</th>\n",
              "      <td>HAR IT WE'VE SEEN A FOREST THAT WOULD SHATTER ...</td>\n",
              "    </tr>\n",
              "    <tr>\n",
              "      <th>6</th>\n",
              "      <td>CEPTION WE DID NOT FEEL PREPARED TO BE THE EIR...</td>\n",
              "    </tr>\n",
              "    <tr>\n",
              "      <th>7</th>\n",
              "      <td>VOLENCE BUT BOLD FIERCE AND FREE WE WILL NOT B...</td>\n",
              "    </tr>\n",
              "    <tr>\n",
              "      <th>8</th>\n",
              "      <td>BETTER THAN ONE WE WERE LEFT WITHEVERY BREATH ...</td>\n",
              "    </tr>\n",
              "    <tr>\n",
              "      <th>9</th>\n",
              "      <td>AND BEAUTIFUL WHEN DAY COMES WE STEP OUT OF TH...</td>\n",
              "    </tr>\n",
              "  </tbody>\n",
              "</table>\n",
              "</div>\n",
              "      <button class=\"colab-df-convert\" onclick=\"convertToInteractive('df-70a5efeb-560a-456f-b289-d5b7c0843601')\"\n",
              "              title=\"Convert this dataframe to an interactive table.\"\n",
              "              style=\"display:none;\">\n",
              "        \n",
              "  <svg xmlns=\"http://www.w3.org/2000/svg\" height=\"24px\"viewBox=\"0 0 24 24\"\n",
              "       width=\"24px\">\n",
              "    <path d=\"M0 0h24v24H0V0z\" fill=\"none\"/>\n",
              "    <path d=\"M18.56 5.44l.94 2.06.94-2.06 2.06-.94-2.06-.94-.94-2.06-.94 2.06-2.06.94zm-11 1L8.5 8.5l.94-2.06 2.06-.94-2.06-.94L8.5 2.5l-.94 2.06-2.06.94zm10 10l.94 2.06.94-2.06 2.06-.94-2.06-.94-.94-2.06-.94 2.06-2.06.94z\"/><path d=\"M17.41 7.96l-1.37-1.37c-.4-.4-.92-.59-1.43-.59-.52 0-1.04.2-1.43.59L10.3 9.45l-7.72 7.72c-.78.78-.78 2.05 0 2.83L4 21.41c.39.39.9.59 1.41.59.51 0 1.02-.2 1.41-.59l7.78-7.78 2.81-2.81c.8-.78.8-2.07 0-2.86zM5.41 20L4 18.59l7.72-7.72 1.47 1.35L5.41 20z\"/>\n",
              "  </svg>\n",
              "      </button>\n",
              "      \n",
              "  <style>\n",
              "    .colab-df-container {\n",
              "      display:flex;\n",
              "      flex-wrap:wrap;\n",
              "      gap: 12px;\n",
              "    }\n",
              "\n",
              "    .colab-df-convert {\n",
              "      background-color: #E8F0FE;\n",
              "      border: none;\n",
              "      border-radius: 50%;\n",
              "      cursor: pointer;\n",
              "      display: none;\n",
              "      fill: #1967D2;\n",
              "      height: 32px;\n",
              "      padding: 0 0 0 0;\n",
              "      width: 32px;\n",
              "    }\n",
              "\n",
              "    .colab-df-convert:hover {\n",
              "      background-color: #E2EBFA;\n",
              "      box-shadow: 0px 1px 2px rgba(60, 64, 67, 0.3), 0px 1px 3px 1px rgba(60, 64, 67, 0.15);\n",
              "      fill: #174EA6;\n",
              "    }\n",
              "\n",
              "    [theme=dark] .colab-df-convert {\n",
              "      background-color: #3B4455;\n",
              "      fill: #D2E3FC;\n",
              "    }\n",
              "\n",
              "    [theme=dark] .colab-df-convert:hover {\n",
              "      background-color: #434B5C;\n",
              "      box-shadow: 0px 1px 3px 1px rgba(0, 0, 0, 0.15);\n",
              "      filter: drop-shadow(0px 1px 2px rgba(0, 0, 0, 0.3));\n",
              "      fill: #FFFFFF;\n",
              "    }\n",
              "  </style>\n",
              "\n",
              "      <script>\n",
              "        const buttonEl =\n",
              "          document.querySelector('#df-70a5efeb-560a-456f-b289-d5b7c0843601 button.colab-df-convert');\n",
              "        buttonEl.style.display =\n",
              "          google.colab.kernel.accessAllowed ? 'block' : 'none';\n",
              "\n",
              "        async function convertToInteractive(key) {\n",
              "          const element = document.querySelector('#df-70a5efeb-560a-456f-b289-d5b7c0843601');\n",
              "          const dataTable =\n",
              "            await google.colab.kernel.invokeFunction('convertToInteractive',\n",
              "                                                     [key], {});\n",
              "          if (!dataTable) return;\n",
              "\n",
              "          const docLinkHtml = 'Like what you see? Visit the ' +\n",
              "            '<a target=\"_blank\" href=https://colab.research.google.com/notebooks/data_table.ipynb>data table notebook</a>'\n",
              "            + ' to learn more about interactive tables.';\n",
              "          element.innerHTML = '';\n",
              "          dataTable['output_type'] = 'display_data';\n",
              "          await google.colab.output.renderOutput(dataTable, element);\n",
              "          const docLink = document.createElement('div');\n",
              "          docLink.innerHTML = docLinkHtml;\n",
              "          element.appendChild(docLink);\n",
              "        }\n",
              "      </script>\n",
              "    </div>\n",
              "  </div>\n",
              "  "
            ]
          },
          "metadata": {},
          "execution_count": 13
        }
      ]
    },
    {
      "cell_type": "code",
      "source": [
        "df[\"Transcribed_Text\"]"
      ],
      "metadata": {
        "colab": {
          "base_uri": "https://localhost:8080/"
        },
        "id": "FOsCpULRbnOs",
        "outputId": "c18505dd-98da-4fb7-9dbb-b8aed6e4dcb1"
      },
      "execution_count": null,
      "outputs": [
        {
          "output_type": "execute_result",
          "data": {
            "text/plain": [
              "0    MISTER PRESIDENT DOCTOR BYDEN MADAM VICE PRESI...\n",
              "1    IS ISN'T ALWAYS JUST IS AND YET THE DAWN IS HO...\n",
              "2    FOR ONE AND YES WE ARE FAR FROM POLISHED FAR F...\n",
              "3    PUT OUR FUTSARE FIRST WE MUST FIRST PUT OUR DI...\n",
              "4    EVER AGAIN SO DIVISION SKIPSER TELLS US TO INV...\n",
              "5    HAR IT WE'VE SEEN A FOREST THAT WOULD SHATTER ...\n",
              "6    CEPTION WE DID NOT FEEL PREPARED TO BE THE EIR...\n",
              "7    VOLENCE BUT BOLD FIERCE AND FREE WE WILL NOT B...\n",
              "8    BETTER THAN ONE WE WERE LEFT WITHEVERY BREATH ...\n",
              "9    AND BEAUTIFUL WHEN DAY COMES WE STEP OUT OF TH...\n",
              "Name: Transcribed_Text, dtype: object"
            ]
          },
          "metadata": {},
          "execution_count": 14
        }
      ]
    },
    {
      "cell_type": "code",
      "source": [
        "# Output the transcript to a text file\n",
        "\n",
        "#poet = df[\"Transcribed_Text\"].apply(''.join)\n",
        "#poet.to_csv(\"../transcripts/amanda_gorman1.txt\", sep=\"\\t\", index=False)"
      ],
      "metadata": {
        "id": "EFWhS8q4cNEs"
      },
      "execution_count": null,
      "outputs": []
    },
    {
      "cell_type": "markdown",
      "source": [
        "*This is the second trial on transcribing longer audio clips with Wav2Vec2. With clips beyond 10 minutes (I've tried up to audio clips around 21 minutes)*"
      ],
      "metadata": {
        "id": "hk5nIo6ycia3"
      }
    },
    {
      "cell_type": "markdown",
      "source": [
        "Longer audio clips tend to crash notebooks using the Wav2Vec2 model, so I used a work around to transcribe Amanda Gorman's evocative inauguration poem (5 minutes 34 seconds)\n",
        "\n"
      ],
      "metadata": {
        "id": "NHFxJPvJmEi0"
      }
    },
    {
      "cell_type": "code",
      "source": [
        "# from google.colab import drive\n",
        "# drive.mount('/content/drive/')\n"
      ],
      "metadata": {
        "id": "RUn3Ww3AcaKr"
      },
      "execution_count": null,
      "outputs": []
    },
    {
      "cell_type": "code",
      "source": [
        "import librosa\n",
        "import pandas as pd\n",
        "import os\n",
        "import torch\n",
        "from transformers import Wav2Vec2ForCTC, Wav2Vec2Tokenizer"
      ],
      "metadata": {
        "id": "yKsvlE7ciHTS"
      },
      "execution_count": null,
      "outputs": []
    },
    {
      "cell_type": "code",
      "source": [
        "os.chdir(\"/content/drive/My Drive/Colab Notebooks\")"
      ],
      "metadata": {
        "id": "Gfzuxj8aiJwK"
      },
      "execution_count": null,
      "outputs": []
    },
    {
      "cell_type": "code",
      "source": [
        "#load tokenizer and pre-trained model\n",
        "tokenizer = Wav2Vec2Tokenizer.from_pretrained(\"facebook/wav2vec2-base-960h\")\n",
        "model = Wav2Vec2ForCTC.from_pretrained(\"facebook/wav2vec2-base-960h\")"
      ],
      "metadata": {
        "colab": {
          "base_uri": "https://localhost:8080/"
        },
        "id": "uMlFdUQ3iQb9",
        "outputId": "f4eedccd-2fa4-440f-952c-3b6274da0971"
      },
      "execution_count": null,
      "outputs": [
        {
          "output_type": "stream",
          "name": "stderr",
          "text": [
            "The tokenizer class you load from this checkpoint is not the same type as the class this function is called from. It may result in unexpected tokenization. \n",
            "The tokenizer class you load from this checkpoint is 'Wav2Vec2CTCTokenizer'. \n",
            "The class this function is called from is 'Wav2Vec2Tokenizer'.\n",
            "/usr/local/lib/python3.7/dist-packages/transformers/models/wav2vec2/tokenization_wav2vec2.py:757: FutureWarning: The class `Wav2Vec2Tokenizer` is deprecated and will be removed in version 5 of Transformers. Please use `Wav2Vec2Processor` or `Wav2Vec2CTCTokenizer` instead.\n",
            "  FutureWarning,\n",
            "Some weights of Wav2Vec2ForCTC were not initialized from the model checkpoint at facebook/wav2vec2-base-960h and are newly initialized: ['wav2vec2.masked_spec_embed']\n",
            "You should probably TRAIN this model on a down-stream task to be able to use it for predictions and inference.\n"
          ]
        }
      ]
    },
    {
      "cell_type": "code",
      "source": [
        "def split(x, y):\n",
        "    speech = {}\n",
        "    input_values = {}\n",
        "    logits = {}\n",
        "    predicted_ids = {}\n",
        "    transcribe = {}\n",
        "    for i in range(x, y+1):\n",
        "        speech[i], rate = librosa.load(\n",
        "            \"/content/drive/MyDrive/Transcription-Suite/audio/lhl_wef/lhl_wef-%d.flac\" % i, sr=16000\n",
        "        )\n",
        "        input_values[i] = tokenizer(speech[i], return_tensors=\"pt\").input_values\n",
        "        logits[i] = model(input_values[i]).logits\n",
        "        predicted_ids[i] = torch.argmax(logits[i], dim=-1)\n",
        "        transcribe[i] = tokenizer.decode(predicted_ids[i][0])\n",
        "    return transcribe"
      ],
      "metadata": {
        "id": "w71finC9iS_i"
      },
      "execution_count": null,
      "outputs": []
    },
    {
      "cell_type": "code",
      "source": [
        "def transcript(num_clips):\n",
        "    trans = {}\n",
        "    for j in range(1, num_clips):\n",
        "        if num_clips - j > 0:\n",
        "            trans[j] = pd.DataFrame.from_dict(\n",
        "                split(j, j + 1), orient=\"index\"\n",
        "            ).rename(columns={0: \"Transcribed_Text\"})\n",
        "        else:\n",
        "            pass\n",
        "    return (\n",
        "        pd.concat(trans)\n",
        "        .drop_duplicates(subset=[\"Transcribed_Text\"])\n",
        "        .reset_index(drop=True)\n",
        "    )"
      ],
      "metadata": {
        "id": "NbZp8UYti-B0"
      },
      "execution_count": null,
      "outputs": []
    },
    {
      "cell_type": "code",
      "source": [
        "%%time\n",
        "df = transcript(num_clips = 13)"
      ],
      "metadata": {
        "id": "hfYoXDZFjdD7"
      },
      "execution_count": null,
      "outputs": []
    },
    {
      "cell_type": "markdown",
      "source": [
        "*transcribe a 12.5 minutes speech by the Singapore Prime Minister, to see how the model deals with an Asian accent.*"
      ],
      "metadata": {
        "id": "NEvXcmV3l58A"
      }
    },
    {
      "cell_type": "markdown",
      "source": [
        "# TRANSCRIBING LONG AUDIO FILES WITH WAV2VEC2 - ALT VERSION OPTIMALY\n"
      ],
      "metadata": {
        "id": "qyg2RrnKmOpH"
      }
    },
    {
      "cell_type": "markdown",
      "source": [
        "Requirements:\n",
        "\n",
        "*   transformers >= 4.3\n",
        "*   librosa\n",
        "\n"
      ],
      "metadata": {
        "id": "EelmBzLgmSgu"
      }
    },
    {
      "cell_type": "markdown",
      "source": [
        "I switched to the wav2vec2-large-960h-lv60-self model. In earlier notebooks/codeblocks, I used the base version."
      ],
      "metadata": {
        "id": "QNt6JAhbmeVA"
      }
    },
    {
      "cell_type": "code",
      "source": [
        "!pip install -q transformers\n",
        "import librosa\n",
        "import torch\n",
        "from transformers import Wav2Vec2ForCTC, Wav2Vec2Tokenizer"
      ],
      "metadata": {
        "id": "fT3Cqa4ZjfoD"
      },
      "execution_count": null,
      "outputs": []
    },
    {
      "cell_type": "code",
      "source": [
        ""
      ],
      "metadata": {
        "id": "a69teLYAmiv0"
      },
      "execution_count": null,
      "outputs": []
    },
    {
      "cell_type": "code",
      "source": [
        "wer_model1=[]"
      ],
      "metadata": {
        "id": "ZawYD7c-mpUs"
      },
      "execution_count": null,
      "outputs": []
    },
    {
      "cell_type": "code",
      "source": [
        "!pip install -q transformers\n",
        "wer_model1=[]\n",
        "def model(audio_file):\n",
        "  import librosa\n",
        "  import torch\n",
        "  from transformers import Wav2Vec2ForCTC, Wav2Vec2Tokenizer\n",
        "  def asr_transcript(tokenizer, model, audio_file):\n",
        "      transcript = \"\"\n",
        "\n",
        "      # Stream over 20 seconds chunks\n",
        "      stream = librosa.stream(\n",
        "          audio_file, block_length=20, frame_length=16000, hop_length=16000\n",
        "      )\n",
        "\n",
        "      for speech in stream:\n",
        "          if len(speech.shape) > 1:\n",
        "              speech = speech[:, 0] + speech[:, 1]\n",
        "\n",
        "          input_values = tokenizer(speech, return_tensors=\"pt\").input_values\n",
        "          logits = model(input_values).logits\n",
        "\n",
        "          predicted_ids = torch.argmax(logits, dim=-1)\n",
        "          transcription = tokenizer.decode(predicted_ids[0])\n",
        "          transcript += transcription.lower() + \" \"\n",
        "          \n",
        "      return transcript\n",
        "  tokenizer_transcribe = Wav2Vec2Tokenizer.from_pretrained(\"facebook/wav2vec2-large-960h-lv60-self\")\n",
        "\n",
        "  model_transcribe = Wav2Vec2ForCTC.from_pretrained(\"facebook/wav2vec2-large-960h-lv60-self\")\n",
        "\n",
        "  poet = asr_transcript(tokenizer_transcribe, model_transcribe, audio_file)\n",
        "\n",
        "  wer_model1.append(poet)"
      ],
      "metadata": {
        "id": "rz9BZ3ibnFhm"
      },
      "execution_count": null,
      "outputs": []
    },
    {
      "cell_type": "markdown",
      "source": [
        ""
      ],
      "metadata": {
        "id": "yBJNI-Lho6dZ"
      }
    },
    {
      "cell_type": "code",
      "source": [
        "# import IPython.display as display\n",
        "# display.Audio(audio_file , autoplay=True)"
      ],
      "metadata": {
        "id": "QnJ4bufWoUJe"
      },
      "execution_count": null,
      "outputs": []
    },
    {
      "cell_type": "code",
      "source": [
        "model(\"/content/audio0.flac\")"
      ],
      "metadata": {
        "id": "ivYxPN2Qpi3U",
        "colab": {
          "base_uri": "https://localhost:8080/"
        },
        "outputId": "3e7810d8-3766-4124-f6b3-9082e0292840"
      },
      "execution_count": null,
      "outputs": [
        {
          "output_type": "stream",
          "name": "stderr",
          "text": [
            "The tokenizer class you load from this checkpoint is not the same type as the class this function is called from. It may result in unexpected tokenization. \n",
            "The tokenizer class you load from this checkpoint is 'Wav2Vec2CTCTokenizer'. \n",
            "The class this function is called from is 'Wav2Vec2Tokenizer'.\n",
            "/usr/local/lib/python3.7/dist-packages/transformers/models/wav2vec2/tokenization_wav2vec2.py:757: FutureWarning: The class `Wav2Vec2Tokenizer` is deprecated and will be removed in version 5 of Transformers. Please use `Wav2Vec2Processor` or `Wav2Vec2CTCTokenizer` instead.\n",
            "  FutureWarning,\n",
            "Some weights of Wav2Vec2ForCTC were not initialized from the model checkpoint at facebook/wav2vec2-large-960h-lv60-self and are newly initialized: ['wav2vec2.masked_spec_embed']\n",
            "You should probably TRAIN this model on a down-stream task to be able to use it for predictions and inference.\n"
          ]
        }
      ]
    },
    {
      "cell_type": "code",
      "source": [
        "model(\"/content/audio1.flac\")"
      ],
      "metadata": {
        "colab": {
          "base_uri": "https://localhost:8080/"
        },
        "id": "YSgqFrVdDrok",
        "outputId": "e4c1f8ab-de2c-4c4d-b799-59a779810a3b"
      },
      "execution_count": null,
      "outputs": [
        {
          "output_type": "stream",
          "name": "stderr",
          "text": [
            "The tokenizer class you load from this checkpoint is not the same type as the class this function is called from. It may result in unexpected tokenization. \n",
            "The tokenizer class you load from this checkpoint is 'Wav2Vec2CTCTokenizer'. \n",
            "The class this function is called from is 'Wav2Vec2Tokenizer'.\n",
            "/usr/local/lib/python3.7/dist-packages/transformers/models/wav2vec2/tokenization_wav2vec2.py:757: FutureWarning: The class `Wav2Vec2Tokenizer` is deprecated and will be removed in version 5 of Transformers. Please use `Wav2Vec2Processor` or `Wav2Vec2CTCTokenizer` instead.\n",
            "  FutureWarning,\n",
            "Some weights of Wav2Vec2ForCTC were not initialized from the model checkpoint at facebook/wav2vec2-large-960h-lv60-self and are newly initialized: ['wav2vec2.masked_spec_embed']\n",
            "You should probably TRAIN this model on a down-stream task to be able to use it for predictions and inference.\n"
          ]
        }
      ]
    },
    {
      "cell_type": "code",
      "source": [
        "# model(\"/content/audio2.flac\")"
      ],
      "metadata": {
        "id": "qQBRnA7rEU2o"
      },
      "execution_count": null,
      "outputs": []
    },
    {
      "cell_type": "code",
      "source": [
        "wer_model1"
      ],
      "metadata": {
        "colab": {
          "base_uri": "https://localhost:8080/"
        },
        "id": "9ULPH_CJEYmg",
        "outputId": "61a056d6-7bce-48c4-9318-06fcf9ecd7cf"
      },
      "execution_count": null,
      "outputs": [
        {
          "output_type": "execute_result",
          "data": {
            "text/plain": [
              "['i will look for you i will find you and i will kill you ',\n",
              " 'a year ago weere hit with a virus that was met with silence and spread unchecked denials for days weeks then months that led to more deaths more infections more stress and more loneliness photos and viteos from ']"
            ]
          },
          "metadata": {},
          "execution_count": 17
        }
      ]
    },
    {
      "cell_type": "code",
      "source": [
        "wer_model1.append(\n",
        "  \"london has a diverse range of people and cultures and more than three hundred languages are spoken in the region the world makes it easy to create vidios and audio files with life like audio from text get started with british english text to speech free select from one of our text to speech british english male and female voices below and enter some text to create the audio \",\n",
        "  )"
      ],
      "metadata": {
        "id": "GsX070z3FdWE"
      },
      "execution_count": null,
      "outputs": []
    },
    {
      "cell_type": "code",
      "source": [
        "wer_model1"
      ],
      "metadata": {
        "colab": {
          "base_uri": "https://localhost:8080/"
        },
        "id": "HBHAsrQpGyHd",
        "outputId": "31144d93-e4b4-4333-c92f-bbabfa0545c6"
      },
      "execution_count": null,
      "outputs": [
        {
          "output_type": "execute_result",
          "data": {
            "text/plain": [
              "['i will look for you i will find you and i will kill you ',\n",
              " 'a year ago weere hit with a virus that was met with silence and spread unchecked denials for days weeks then months that led to more deaths more infections more stress and more loneliness photos and viteos from ',\n",
              " \"mister president doctor byden madam vice president mister mhof americans and the world when day comes we ask ourselves where can we find light in this never ending shade the loss we carry a sea we must wade we've braved the belly of the beast we've learned that quiet isn't always peace in the norms and notions of what just is isn't always just is and yet the on as ours before we knew it somehow we do it somehow we've weathered and witnessed a nation that isn't broken but simply unfinished we the successors of a country and a time were a skinny black girl descended from slaves and raised by a single mother can dream of becoming president only to find herself reciting for one and yes we are far from polished far from pestine but that doesn't mean we are striving to form a union that is perfect we are striving to forge our union with purpose to compose a country committed to all cultures colors characters and conditions of man and so we lift our gaze not to what stands between us but what stands for us we close the divide because we know to put our future first we must first put our differences aside we lay down our arms so we can reach out our arms to one another we seek harm to none and harmony for all let the globe if nothing else say this is true that even as we grieved we grew that even as we hurt we hoped that even as we tired we tried that will forever be tied together victorious not because we will never again know defeat but because we will never again so division scripture tells us to envision that everyone shall sit under ther own vine and fig tree and no one shall make them afraid if we're to live up to our own time then victory won't lie in the blade but in all the bridges we've made that is the promised glade the hill we climb if only we dare it because being american is more than a pride we inherit it's the past we step into and how we repair it we've seen a forest that would shatter ou nation rather than share it would dest our country if it meant delaying democracy and this effort very nearly succeeded but while democracy can be periodically delayed it can never be permanently defeated in this truth in this faith we trust for while we have our eyes on the future history has its eyes on us this is the era of just redemption we feared at iis deception we did not feel prepared to be the heirs of such a terrifying hour but within it we found the power to author a new chapter to offer hope and laughter to selfe so while once we asked how could we possibly prevail over catastrophe now we assert how could catastrophe possibly prevail over us we will not march back to what was but move to what shall be a country that is bruised but whole benevolent but bold fierce and free we will not be turned around or interrupted by intimidation because we know our inaction and inertia will be the inheritance of the next generation our blunders become their dance but one thing is certain if we merge mercy with might in might with right then love becomes our legacy in change our children's birthright so let us leave behind a country better the one we left with every breath from my bronze pounded chest we will raise this wounded world into a wondrous one we will rise from the gold limbed hills of the west we will rise from the wind swept northeast where our forefathers first realized revolution we will rise from the lake rimmed cities of the midwestern states we will rise from the sun baked south ubl rebuild reconcile and recover ind every known nook of our nation an every corner called our country our people diverse and beautiful will emerge battered and beautiful when day comes we step out of the shade aflame and unafraid the new bllooms as we free it for there is always light if only we're brave enough to see it if only we're brave enough to be it \",\n",
              " 'london has a diverse range of people and cultures and more than three hundred languages are spoken in the region the world makes it easy to create vidios and audio files with life like audio from text get started with british english text to speech free select from one of our text to speech british english male and female voices below and enter some text to create the audio ']"
            ]
          },
          "metadata": {},
          "execution_count": 23
        }
      ]
    },
    {
      "cell_type": "code",
      "source": [
        "model(\"/content/audio5.flac\")"
      ],
      "metadata": {
        "colab": {
          "base_uri": "https://localhost:8080/"
        },
        "id": "yiQuJ6wFIGV6",
        "outputId": "2e6480fe-6971-46bd-e5cb-108e82cc9d09"
      },
      "execution_count": null,
      "outputs": [
        {
          "output_type": "stream",
          "name": "stderr",
          "text": [
            "The tokenizer class you load from this checkpoint is not the same type as the class this function is called from. It may result in unexpected tokenization. \n",
            "The tokenizer class you load from this checkpoint is 'Wav2Vec2CTCTokenizer'. \n",
            "The class this function is called from is 'Wav2Vec2Tokenizer'.\n",
            "/usr/local/lib/python3.7/dist-packages/transformers/models/wav2vec2/tokenization_wav2vec2.py:757: FutureWarning: The class `Wav2Vec2Tokenizer` is deprecated and will be removed in version 5 of Transformers. Please use `Wav2Vec2Processor` or `Wav2Vec2CTCTokenizer` instead.\n",
            "  FutureWarning,\n",
            "Some weights of Wav2Vec2ForCTC were not initialized from the model checkpoint at facebook/wav2vec2-large-960h-lv60-self and are newly initialized: ['wav2vec2.masked_spec_embed']\n",
            "You should probably TRAIN this model on a down-stream task to be able to use it for predictions and inference.\n"
          ]
        }
      ]
    },
    {
      "cell_type": "code",
      "source": [
        "wer_model1"
      ],
      "metadata": {
        "colab": {
          "base_uri": "https://localhost:8080/"
        },
        "id": "IauMDZq1IYMM",
        "outputId": "3933d679-b981-4faa-c4f0-6318c5602f3e"
      },
      "execution_count": null,
      "outputs": [
        {
          "output_type": "execute_result",
          "data": {
            "text/plain": [
              "['i will look for you i will find you and i will kill you ',\n",
              " 'a year ago weere hit with a virus that was met with silence and spread unchecked denials for days weeks then months that led to more deaths more infections more stress and more loneliness photos and viteos from ',\n",
              " \"mister president doctor byden madam vice president mister mhof americans and the world when day comes we ask ourselves where can we find light in this never ending shade the loss we carry a sea we must wade we've braved the belly of the beast we've learned that quiet isn't always peace in the norms and notions of what just is isn't always just is and yet the on as ours before we knew it somehow we do it somehow we've weathered and witnessed a nation that isn't broken but simply unfinished we the successors of a country and a time were a skinny black girl descended from slaves and raised by a single mother can dream of becoming president only to find herself reciting for one and yes we are far from polished far from pestine but that doesn't mean we are striving to form a union that is perfect we are striving to forge our union with purpose to compose a country committed to all cultures colors characters and conditions of man and so we lift our gaze not to what stands between us but what stands for us we close the divide because we know to put our future first we must first put our differences aside we lay down our arms so we can reach out our arms to one another we seek harm to none and harmony for all let the globe if nothing else say this is true that even as we grieved we grew that even as we hurt we hoped that even as we tired we tried that will forever be tied together victorious not because we will never again know defeat but because we will never again so division scripture tells us to envision that everyone shall sit under ther own vine and fig tree and no one shall make them afraid if we're to live up to our own time then victory won't lie in the blade but in all the bridges we've made that is the promised glade the hill we climb if only we dare it because being american is more than a pride we inherit it's the past we step into and how we repair it we've seen a forest that would shatter ou nation rather than share it would dest our country if it meant delaying democracy and this effort very nearly succeeded but while democracy can be periodically delayed it can never be permanently defeated in this truth in this faith we trust for while we have our eyes on the future history has its eyes on us this is the era of just redemption we feared at iis deception we did not feel prepared to be the heirs of such a terrifying hour but within it we found the power to author a new chapter to offer hope and laughter to selfe so while once we asked how could we possibly prevail over catastrophe now we assert how could catastrophe possibly prevail over us we will not march back to what was but move to what shall be a country that is bruised but whole benevolent but bold fierce and free we will not be turned around or interrupted by intimidation because we know our inaction and inertia will be the inheritance of the next generation our blunders become their dance but one thing is certain if we merge mercy with might in might with right then love becomes our legacy in change our children's birthright so let us leave behind a country better the one we left with every breath from my bronze pounded chest we will raise this wounded world into a wondrous one we will rise from the gold limbed hills of the west we will rise from the wind swept northeast where our forefathers first realized revolution we will rise from the lake rimmed cities of the midwestern states we will rise from the sun baked south ubl rebuild reconcile and recover ind every known nook of our nation an every corner called our country our people diverse and beautiful will emerge battered and beautiful when day comes we step out of the shade aflame and unafraid the new bllooms as we free it for there is always light if only we're brave enough to see it if only we're brave enough to be it \",\n",
              " 'london has a diverse range of people and cultures and more than three hundred languages are spoken in the region the world makes it easy to create vidios and audio files with life like audio from text get started with british english text to speech free select from one of our text to speech british english male and female voices below and enter some text to create the audio ',\n",
              " 'ha cottacos obok catashaao atgoso co i not etage aooe o ',\n",
              " \"populism is an issue in many countries many develop countries particularly and i think they can see some of the reasons for it because there is a divide between the elites and the masses of the population the populatioplat population feel that the system has not been fair to them they have not got their share of the efforts they have put into it that they have been left behind at least relatively and not just that it has been unequal but that they are not getting the respect and the status which they feel that they deserve as citizens in the country certainly i think that sentiment is very strong in donald trump's supporters you would see that in the people who voted for brexet in england you would see that in the yellow vests in france in the national front a national party supporters who vote for marie le pen and you see that in other countries too i would say even in hong kong that you could describe the what the demonstrators and protesters want as a kind of populism that system not working for me let's express our unhappiness we can spend a long time discussing what went wrong which led to that in the countries where i think what in singapore we have tried very hard to do to avoid being in that position is to have a government which focuses very much on the basic needs of the people so we talkd about housing just now how we make sure that everybody in singapore can afford to buy a house with maybe twenty per cent of his income and between him and his wife they can afford to buy a house and have an asset we talk briefly about health care how we've got a health care system which provides good service good health services to everybody and even if you are poor there are schemes to help you and you will not be denied medical care which you need it's not free is not automatic but it is available and it works we didn't talk about education but education is a very important part of it to make sure that everybody feels that if you can make the effort if you will make the effort you can do and you can advance in life and your family can go with you and advance in life and having graduated from school or university or polytechnic that there'll be opportunities for you to continue to upbrade yourself renew your skills learn new jobs and equip yourself to cope with new demands because you graduate at the age of twenty but you may be working for fifty sixty years after that and you need to uptat your skirts you can't read sixty years time depending on what you learnt sixty years ago is not te the world will have changed many times so in ways we have tried to make sure that people have basic needs met aspirations achievable and a sense that this is theirs this is their country that they they have every reason to be proud of it and they will defend their system and they will defend their and if we can do that and that they can adopt this system as this is my system it works for me there's no need for you to go and vote for a team which will pull a system down because the system is working for you why do you want to pull it down but it calls for high quality political leadership high quality civil service and not just competence but conviction and commitment that you believe you are doing this for a purpose which is not just to advance your own career or make your own fortune  \"]"
            ]
          },
          "metadata": {},
          "execution_count": 27
        }
      ]
    },
    {
      "cell_type": "code",
      "source": [
        "model(\"/content/audio6.flac\")"
      ],
      "metadata": {
        "colab": {
          "base_uri": "https://localhost:8080/"
        },
        "id": "EFGLizwIIq33",
        "outputId": "d0f582b8-c3b4-4311-ba7e-bba7b86c76b4"
      },
      "execution_count": null,
      "outputs": [
        {
          "output_type": "stream",
          "name": "stderr",
          "text": [
            "The tokenizer class you load from this checkpoint is not the same type as the class this function is called from. It may result in unexpected tokenization. \n",
            "The tokenizer class you load from this checkpoint is 'Wav2Vec2CTCTokenizer'. \n",
            "The class this function is called from is 'Wav2Vec2Tokenizer'.\n",
            "/usr/local/lib/python3.7/dist-packages/transformers/models/wav2vec2/tokenization_wav2vec2.py:757: FutureWarning: The class `Wav2Vec2Tokenizer` is deprecated and will be removed in version 5 of Transformers. Please use `Wav2Vec2Processor` or `Wav2Vec2CTCTokenizer` instead.\n",
            "  FutureWarning,\n",
            "Some weights of Wav2Vec2ForCTC were not initialized from the model checkpoint at facebook/wav2vec2-large-960h-lv60-self and are newly initialized: ['wav2vec2.masked_spec_embed']\n",
            "You should probably TRAIN this model on a down-stream task to be able to use it for predictions and inference.\n"
          ]
        }
      ]
    },
    {
      "cell_type": "code",
      "source": [
        "model(\"/content/audio7.flac\")"
      ],
      "metadata": {
        "colab": {
          "base_uri": "https://localhost:8080/"
        },
        "id": "moWMe94rI5Zf",
        "outputId": "d98cec38-8ec6-4940-a778-a51fec2ec6af"
      },
      "execution_count": null,
      "outputs": [
        {
          "output_type": "stream",
          "name": "stderr",
          "text": [
            "The tokenizer class you load from this checkpoint is not the same type as the class this function is called from. It may result in unexpected tokenization. \n",
            "The tokenizer class you load from this checkpoint is 'Wav2Vec2CTCTokenizer'. \n",
            "The class this function is called from is 'Wav2Vec2Tokenizer'.\n",
            "/usr/local/lib/python3.7/dist-packages/transformers/models/wav2vec2/tokenization_wav2vec2.py:757: FutureWarning: The class `Wav2Vec2Tokenizer` is deprecated and will be removed in version 5 of Transformers. Please use `Wav2Vec2Processor` or `Wav2Vec2CTCTokenizer` instead.\n",
            "  FutureWarning,\n",
            "Some weights of Wav2Vec2ForCTC were not initialized from the model checkpoint at facebook/wav2vec2-large-960h-lv60-self and are newly initialized: ['wav2vec2.masked_spec_embed']\n",
            "You should probably TRAIN this model on a down-stream task to be able to use it for predictions and inference.\n"
          ]
        }
      ]
    },
    {
      "cell_type": "code",
      "source": [
        "wer_model1"
      ],
      "metadata": {
        "colab": {
          "base_uri": "https://localhost:8080/"
        },
        "id": "tknoWLdcLM2k",
        "outputId": "4afbffef-aa38-4e43-dc07-5026f377f0ef"
      },
      "execution_count": null,
      "outputs": [
        {
          "output_type": "execute_result",
          "data": {
            "text/plain": [
              "['i will look for you i will find you and i will kill you ',\n",
              " 'a year ago weere hit with a virus that was met with silence and spread unchecked denials for days weeks then months that led to more deaths more infections more stress and more loneliness photos and viteos from ',\n",
              " \"mister president doctor byden madam vice president mister mhof americans and the world when day comes we ask ourselves where can we find light in this never ending shade the loss we carry a sea we must wade we've braved the belly of the beast we've learned that quiet isn't always peace in the norms and notions of what just is isn't always just is and yet the on as ours before we knew it somehow we do it somehow we've weathered and witnessed a nation that isn't broken but simply unfinished we the successors of a country and a time were a skinny black girl descended from slaves and raised by a single mother can dream of becoming president only to find herself reciting for one and yes we are far from polished far from pestine but that doesn't mean we are striving to form a union that is perfect we are striving to forge our union with purpose to compose a country committed to all cultures colors characters and conditions of man and so we lift our gaze not to what stands between us but what stands for us we close the divide because we know to put our future first we must first put our differences aside we lay down our arms so we can reach out our arms to one another we seek harm to none and harmony for all let the globe if nothing else say this is true that even as we grieved we grew that even as we hurt we hoped that even as we tired we tried that will forever be tied together victorious not because we will never again know defeat but because we will never again so division scripture tells us to envision that everyone shall sit under ther own vine and fig tree and no one shall make them afraid if we're to live up to our own time then victory won't lie in the blade but in all the bridges we've made that is the promised glade the hill we climb if only we dare it because being american is more than a pride we inherit it's the past we step into and how we repair it we've seen a forest that would shatter ou nation rather than share it would dest our country if it meant delaying democracy and this effort very nearly succeeded but while democracy can be periodically delayed it can never be permanently defeated in this truth in this faith we trust for while we have our eyes on the future history has its eyes on us this is the era of just redemption we feared at iis deception we did not feel prepared to be the heirs of such a terrifying hour but within it we found the power to author a new chapter to offer hope and laughter to selfe so while once we asked how could we possibly prevail over catastrophe now we assert how could catastrophe possibly prevail over us we will not march back to what was but move to what shall be a country that is bruised but whole benevolent but bold fierce and free we will not be turned around or interrupted by intimidation because we know our inaction and inertia will be the inheritance of the next generation our blunders become their dance but one thing is certain if we merge mercy with might in might with right then love becomes our legacy in change our children's birthright so let us leave behind a country better the one we left with every breath from my bronze pounded chest we will raise this wounded world into a wondrous one we will rise from the gold limbed hills of the west we will rise from the wind swept northeast where our forefathers first realized revolution we will rise from the lake rimmed cities of the midwestern states we will rise from the sun baked south ubl rebuild reconcile and recover ind every known nook of our nation an every corner called our country our people diverse and beautiful will emerge battered and beautiful when day comes we step out of the shade aflame and unafraid the new bllooms as we free it for there is always light if only we're brave enough to see it if only we're brave enough to be it \",\n",
              " 'london has a diverse range of people and cultures and more than three hundred languages are spoken in the region the world makes it easy to create vidios and audio files with life like audio from text get started with british english text to speech free select from one of our text to speech british english male and female voices below and enter some text to create the audio ',\n",
              " 'ha cottacos obok catashaao atgoso co i not etage aooe o ',\n",
              " \"populism is an issue in many countries many develop countries particularly and i think they can see some of the reasons for it because there is a divide between the elites and the masses of the population the populatioplat population feel that the system has not been fair to them they have not got their share of the efforts they have put into it that they have been left behind at least relatively and not just that it has been unequal but that they are not getting the respect and the status which they feel that they deserve as citizens in the country certainly i think that sentiment is very strong in donald trump's supporters you would see that in the people who voted for brexet in england you would see that in the yellow vests in france in the national front a national party supporters who vote for marie le pen and you see that in other countries too i would say even in hong kong that you could describe the what the demonstrators and protesters want as a kind of populism that system not working for me let's express our unhappiness we can spend a long time discussing what went wrong which led to that in the countries where i think what in singapore we have tried very hard to do to avoid being in that position is to have a government which focuses very much on the basic needs of the people so we talkd about housing just now how we make sure that everybody in singapore can afford to buy a house with maybe twenty per cent of his income and between him and his wife they can afford to buy a house and have an asset we talk briefly about health care how we've got a health care system which provides good service good health services to everybody and even if you are poor there are schemes to help you and you will not be denied medical care which you need it's not free is not automatic but it is available and it works we didn't talk about education but education is a very important part of it to make sure that everybody feels that if you can make the effort if you will make the effort you can do and you can advance in life and your family can go with you and advance in life and having graduated from school or university or polytechnic that there'll be opportunities for you to continue to upbrade yourself renew your skills learn new jobs and equip yourself to cope with new demands because you graduate at the age of twenty but you may be working for fifty sixty years after that and you need to uptat your skirts you can't read sixty years time depending on what you learnt sixty years ago is not te the world will have changed many times so in ways we have tried to make sure that people have basic needs met aspirations achievable and a sense that this is theirs this is their country that they they have every reason to be proud of it and they will defend their system and they will defend their and if we can do that and that they can adopt this system as this is my system it works for me there's no need for you to go and vote for a team which will pull a system down because the system is working for you why do you want to pull it down but it calls for high quality political leadership high quality civil service and not just competence but conviction and commitment that you believe you are doing this for a purpose which is not just to advance your own career or make your own fortune  \",\n",
              " \"critical that vaccines are rolled out quickly across the world but even with vaccines the pendemic is far from being quelled the new variants discovered in the uk and south africa and brazil are worrying and further mutations will surely emerge until a large part of the world's population is vaccinated we still need strong public health measures everywhere to suppress the spread of the wireless and keep population safe what will the post covet nineteen world look like will countries emerge more resolved to build a more resilient but still globalized world or are we headed towards a less integrated global economy a less stable international order the answer depends on the decisions that countries take now even before cove nineteen globalization was already under pressure confidence in multi laturalin \"]"
            ]
          },
          "metadata": {},
          "execution_count": 29
        }
      ]
    },
    {
      "cell_type": "code",
      "source": [
        ""
      ],
      "metadata": {
        "id": "mHQRu9mjLjTZ"
      },
      "execution_count": null,
      "outputs": []
    }
  ],
  "metadata": {
    "accelerator": "GPU",
    "colab": {
      "name": "LongerAudio-Transcription.ipynb",
      "provenance": [],
      "collapsed_sections": []
    },
    "gpuClass": "standard",
    "kernelspec": {
      "display_name": "Python 3",
      "name": "python3"
    },
    "language_info": {
      "name": "python"
    },
    "widgets": {
      "application/vnd.jupyter.widget-state+json": {
        "fa72301f2f7b429e911f6fdfc1319623": {
          "model_module": "@jupyter-widgets/controls",
          "model_name": "HBoxModel",
          "model_module_version": "1.5.0",
          "state": {
            "_dom_classes": [],
            "_model_module": "@jupyter-widgets/controls",
            "_model_module_version": "1.5.0",
            "_model_name": "HBoxModel",
            "_view_count": null,
            "_view_module": "@jupyter-widgets/controls",
            "_view_module_version": "1.5.0",
            "_view_name": "HBoxView",
            "box_style": "",
            "children": [
              "IPY_MODEL_980eb0d638354d34b2fe9e7d7f0d0fa8",
              "IPY_MODEL_c8b32a9db11b4d53a597a0ce022ef1a0",
              "IPY_MODEL_c4523092534642f183818b520d807cd8"
            ],
            "layout": "IPY_MODEL_f4a980fdb7714a5c881e38af1b53a01d"
          }
        },
        "980eb0d638354d34b2fe9e7d7f0d0fa8": {
          "model_module": "@jupyter-widgets/controls",
          "model_name": "HTMLModel",
          "model_module_version": "1.5.0",
          "state": {
            "_dom_classes": [],
            "_model_module": "@jupyter-widgets/controls",
            "_model_module_version": "1.5.0",
            "_model_name": "HTMLModel",
            "_view_count": null,
            "_view_module": "@jupyter-widgets/controls",
            "_view_module_version": "1.5.0",
            "_view_name": "HTMLView",
            "description": "",
            "description_tooltip": null,
            "layout": "IPY_MODEL_fe0ac5ba8f414d3b9befe86a3c034807",
            "placeholder": "​",
            "style": "IPY_MODEL_ecd3808c83074fbfb7a95c69a2acfee2",
            "value": "Downloading: 100%"
          }
        },
        "c8b32a9db11b4d53a597a0ce022ef1a0": {
          "model_module": "@jupyter-widgets/controls",
          "model_name": "FloatProgressModel",
          "model_module_version": "1.5.0",
          "state": {
            "_dom_classes": [],
            "_model_module": "@jupyter-widgets/controls",
            "_model_module_version": "1.5.0",
            "_model_name": "FloatProgressModel",
            "_view_count": null,
            "_view_module": "@jupyter-widgets/controls",
            "_view_module_version": "1.5.0",
            "_view_name": "ProgressView",
            "bar_style": "success",
            "description": "",
            "description_tooltip": null,
            "layout": "IPY_MODEL_fa6a42131e92479dab5d723b9cc9d0dc",
            "max": 291,
            "min": 0,
            "orientation": "horizontal",
            "style": "IPY_MODEL_881b7d03a65b4f3b9b229a25e16f89fc",
            "value": 291
          }
        },
        "c4523092534642f183818b520d807cd8": {
          "model_module": "@jupyter-widgets/controls",
          "model_name": "HTMLModel",
          "model_module_version": "1.5.0",
          "state": {
            "_dom_classes": [],
            "_model_module": "@jupyter-widgets/controls",
            "_model_module_version": "1.5.0",
            "_model_name": "HTMLModel",
            "_view_count": null,
            "_view_module": "@jupyter-widgets/controls",
            "_view_module_version": "1.5.0",
            "_view_name": "HTMLView",
            "description": "",
            "description_tooltip": null,
            "layout": "IPY_MODEL_df9fda17812f472b922121fe393a0b75",
            "placeholder": "​",
            "style": "IPY_MODEL_7ab4beeebe0546d294a982e8d1ff6e52",
            "value": " 291/291 [00:00&lt;00:00, 7.46kB/s]"
          }
        },
        "f4a980fdb7714a5c881e38af1b53a01d": {
          "model_module": "@jupyter-widgets/base",
          "model_name": "LayoutModel",
          "model_module_version": "1.2.0",
          "state": {
            "_model_module": "@jupyter-widgets/base",
            "_model_module_version": "1.2.0",
            "_model_name": "LayoutModel",
            "_view_count": null,
            "_view_module": "@jupyter-widgets/base",
            "_view_module_version": "1.2.0",
            "_view_name": "LayoutView",
            "align_content": null,
            "align_items": null,
            "align_self": null,
            "border": null,
            "bottom": null,
            "display": null,
            "flex": null,
            "flex_flow": null,
            "grid_area": null,
            "grid_auto_columns": null,
            "grid_auto_flow": null,
            "grid_auto_rows": null,
            "grid_column": null,
            "grid_gap": null,
            "grid_row": null,
            "grid_template_areas": null,
            "grid_template_columns": null,
            "grid_template_rows": null,
            "height": null,
            "justify_content": null,
            "justify_items": null,
            "left": null,
            "margin": null,
            "max_height": null,
            "max_width": null,
            "min_height": null,
            "min_width": null,
            "object_fit": null,
            "object_position": null,
            "order": null,
            "overflow": null,
            "overflow_x": null,
            "overflow_y": null,
            "padding": null,
            "right": null,
            "top": null,
            "visibility": null,
            "width": null
          }
        },
        "fe0ac5ba8f414d3b9befe86a3c034807": {
          "model_module": "@jupyter-widgets/base",
          "model_name": "LayoutModel",
          "model_module_version": "1.2.0",
          "state": {
            "_model_module": "@jupyter-widgets/base",
            "_model_module_version": "1.2.0",
            "_model_name": "LayoutModel",
            "_view_count": null,
            "_view_module": "@jupyter-widgets/base",
            "_view_module_version": "1.2.0",
            "_view_name": "LayoutView",
            "align_content": null,
            "align_items": null,
            "align_self": null,
            "border": null,
            "bottom": null,
            "display": null,
            "flex": null,
            "flex_flow": null,
            "grid_area": null,
            "grid_auto_columns": null,
            "grid_auto_flow": null,
            "grid_auto_rows": null,
            "grid_column": null,
            "grid_gap": null,
            "grid_row": null,
            "grid_template_areas": null,
            "grid_template_columns": null,
            "grid_template_rows": null,
            "height": null,
            "justify_content": null,
            "justify_items": null,
            "left": null,
            "margin": null,
            "max_height": null,
            "max_width": null,
            "min_height": null,
            "min_width": null,
            "object_fit": null,
            "object_position": null,
            "order": null,
            "overflow": null,
            "overflow_x": null,
            "overflow_y": null,
            "padding": null,
            "right": null,
            "top": null,
            "visibility": null,
            "width": null
          }
        },
        "ecd3808c83074fbfb7a95c69a2acfee2": {
          "model_module": "@jupyter-widgets/controls",
          "model_name": "DescriptionStyleModel",
          "model_module_version": "1.5.0",
          "state": {
            "_model_module": "@jupyter-widgets/controls",
            "_model_module_version": "1.5.0",
            "_model_name": "DescriptionStyleModel",
            "_view_count": null,
            "_view_module": "@jupyter-widgets/base",
            "_view_module_version": "1.2.0",
            "_view_name": "StyleView",
            "description_width": ""
          }
        },
        "fa6a42131e92479dab5d723b9cc9d0dc": {
          "model_module": "@jupyter-widgets/base",
          "model_name": "LayoutModel",
          "model_module_version": "1.2.0",
          "state": {
            "_model_module": "@jupyter-widgets/base",
            "_model_module_version": "1.2.0",
            "_model_name": "LayoutModel",
            "_view_count": null,
            "_view_module": "@jupyter-widgets/base",
            "_view_module_version": "1.2.0",
            "_view_name": "LayoutView",
            "align_content": null,
            "align_items": null,
            "align_self": null,
            "border": null,
            "bottom": null,
            "display": null,
            "flex": null,
            "flex_flow": null,
            "grid_area": null,
            "grid_auto_columns": null,
            "grid_auto_flow": null,
            "grid_auto_rows": null,
            "grid_column": null,
            "grid_gap": null,
            "grid_row": null,
            "grid_template_areas": null,
            "grid_template_columns": null,
            "grid_template_rows": null,
            "height": null,
            "justify_content": null,
            "justify_items": null,
            "left": null,
            "margin": null,
            "max_height": null,
            "max_width": null,
            "min_height": null,
            "min_width": null,
            "object_fit": null,
            "object_position": null,
            "order": null,
            "overflow": null,
            "overflow_x": null,
            "overflow_y": null,
            "padding": null,
            "right": null,
            "top": null,
            "visibility": null,
            "width": null
          }
        },
        "881b7d03a65b4f3b9b229a25e16f89fc": {
          "model_module": "@jupyter-widgets/controls",
          "model_name": "ProgressStyleModel",
          "model_module_version": "1.5.0",
          "state": {
            "_model_module": "@jupyter-widgets/controls",
            "_model_module_version": "1.5.0",
            "_model_name": "ProgressStyleModel",
            "_view_count": null,
            "_view_module": "@jupyter-widgets/base",
            "_view_module_version": "1.2.0",
            "_view_name": "StyleView",
            "bar_color": null,
            "description_width": ""
          }
        },
        "df9fda17812f472b922121fe393a0b75": {
          "model_module": "@jupyter-widgets/base",
          "model_name": "LayoutModel",
          "model_module_version": "1.2.0",
          "state": {
            "_model_module": "@jupyter-widgets/base",
            "_model_module_version": "1.2.0",
            "_model_name": "LayoutModel",
            "_view_count": null,
            "_view_module": "@jupyter-widgets/base",
            "_view_module_version": "1.2.0",
            "_view_name": "LayoutView",
            "align_content": null,
            "align_items": null,
            "align_self": null,
            "border": null,
            "bottom": null,
            "display": null,
            "flex": null,
            "flex_flow": null,
            "grid_area": null,
            "grid_auto_columns": null,
            "grid_auto_flow": null,
            "grid_auto_rows": null,
            "grid_column": null,
            "grid_gap": null,
            "grid_row": null,
            "grid_template_areas": null,
            "grid_template_columns": null,
            "grid_template_rows": null,
            "height": null,
            "justify_content": null,
            "justify_items": null,
            "left": null,
            "margin": null,
            "max_height": null,
            "max_width": null,
            "min_height": null,
            "min_width": null,
            "object_fit": null,
            "object_position": null,
            "order": null,
            "overflow": null,
            "overflow_x": null,
            "overflow_y": null,
            "padding": null,
            "right": null,
            "top": null,
            "visibility": null,
            "width": null
          }
        },
        "7ab4beeebe0546d294a982e8d1ff6e52": {
          "model_module": "@jupyter-widgets/controls",
          "model_name": "DescriptionStyleModel",
          "model_module_version": "1.5.0",
          "state": {
            "_model_module": "@jupyter-widgets/controls",
            "_model_module_version": "1.5.0",
            "_model_name": "DescriptionStyleModel",
            "_view_count": null,
            "_view_module": "@jupyter-widgets/base",
            "_view_module_version": "1.2.0",
            "_view_name": "StyleView",
            "description_width": ""
          }
        },
        "31d1be43d595460da09863a1d03ac2af": {
          "model_module": "@jupyter-widgets/controls",
          "model_name": "HBoxModel",
          "model_module_version": "1.5.0",
          "state": {
            "_dom_classes": [],
            "_model_module": "@jupyter-widgets/controls",
            "_model_module_version": "1.5.0",
            "_model_name": "HBoxModel",
            "_view_count": null,
            "_view_module": "@jupyter-widgets/controls",
            "_view_module_version": "1.5.0",
            "_view_name": "HBoxView",
            "box_style": "",
            "children": [
              "IPY_MODEL_d2d33d5e2cc94945aa675aba790b7972",
              "IPY_MODEL_4c8a01517c2743258fece30fa3e81b2a",
              "IPY_MODEL_3e1ee9b950c24f11963deb9fc378a2aa"
            ],
            "layout": "IPY_MODEL_c943a676081045cb8381f9ea21af7614"
          }
        },
        "d2d33d5e2cc94945aa675aba790b7972": {
          "model_module": "@jupyter-widgets/controls",
          "model_name": "HTMLModel",
          "model_module_version": "1.5.0",
          "state": {
            "_dom_classes": [],
            "_model_module": "@jupyter-widgets/controls",
            "_model_module_version": "1.5.0",
            "_model_name": "HTMLModel",
            "_view_count": null,
            "_view_module": "@jupyter-widgets/controls",
            "_view_module_version": "1.5.0",
            "_view_name": "HTMLView",
            "description": "",
            "description_tooltip": null,
            "layout": "IPY_MODEL_cc45b57cda65483c89ff2c95c5d3142f",
            "placeholder": "​",
            "style": "IPY_MODEL_1277e51d4e92455dbb29cfcc0fa4c3ad",
            "value": "Downloading: 100%"
          }
        },
        "4c8a01517c2743258fece30fa3e81b2a": {
          "model_module": "@jupyter-widgets/controls",
          "model_name": "FloatProgressModel",
          "model_module_version": "1.5.0",
          "state": {
            "_dom_classes": [],
            "_model_module": "@jupyter-widgets/controls",
            "_model_module_version": "1.5.0",
            "_model_name": "FloatProgressModel",
            "_view_count": null,
            "_view_module": "@jupyter-widgets/controls",
            "_view_module_version": "1.5.0",
            "_view_name": "ProgressView",
            "bar_style": "success",
            "description": "",
            "description_tooltip": null,
            "layout": "IPY_MODEL_dd2c3a95e9f94cdf892924c23cb0cc4c",
            "max": 163,
            "min": 0,
            "orientation": "horizontal",
            "style": "IPY_MODEL_7b25e3f639884142bd516aab90a98b4f",
            "value": 163
          }
        },
        "3e1ee9b950c24f11963deb9fc378a2aa": {
          "model_module": "@jupyter-widgets/controls",
          "model_name": "HTMLModel",
          "model_module_version": "1.5.0",
          "state": {
            "_dom_classes": [],
            "_model_module": "@jupyter-widgets/controls",
            "_model_module_version": "1.5.0",
            "_model_name": "HTMLModel",
            "_view_count": null,
            "_view_module": "@jupyter-widgets/controls",
            "_view_module_version": "1.5.0",
            "_view_name": "HTMLView",
            "description": "",
            "description_tooltip": null,
            "layout": "IPY_MODEL_fd2d24d07cba4235b801d6af4d16294f",
            "placeholder": "​",
            "style": "IPY_MODEL_3a381a7cfc74495484aafc7765e9b836",
            "value": " 163/163 [00:00&lt;00:00, 6.34kB/s]"
          }
        },
        "c943a676081045cb8381f9ea21af7614": {
          "model_module": "@jupyter-widgets/base",
          "model_name": "LayoutModel",
          "model_module_version": "1.2.0",
          "state": {
            "_model_module": "@jupyter-widgets/base",
            "_model_module_version": "1.2.0",
            "_model_name": "LayoutModel",
            "_view_count": null,
            "_view_module": "@jupyter-widgets/base",
            "_view_module_version": "1.2.0",
            "_view_name": "LayoutView",
            "align_content": null,
            "align_items": null,
            "align_self": null,
            "border": null,
            "bottom": null,
            "display": null,
            "flex": null,
            "flex_flow": null,
            "grid_area": null,
            "grid_auto_columns": null,
            "grid_auto_flow": null,
            "grid_auto_rows": null,
            "grid_column": null,
            "grid_gap": null,
            "grid_row": null,
            "grid_template_areas": null,
            "grid_template_columns": null,
            "grid_template_rows": null,
            "height": null,
            "justify_content": null,
            "justify_items": null,
            "left": null,
            "margin": null,
            "max_height": null,
            "max_width": null,
            "min_height": null,
            "min_width": null,
            "object_fit": null,
            "object_position": null,
            "order": null,
            "overflow": null,
            "overflow_x": null,
            "overflow_y": null,
            "padding": null,
            "right": null,
            "top": null,
            "visibility": null,
            "width": null
          }
        },
        "cc45b57cda65483c89ff2c95c5d3142f": {
          "model_module": "@jupyter-widgets/base",
          "model_name": "LayoutModel",
          "model_module_version": "1.2.0",
          "state": {
            "_model_module": "@jupyter-widgets/base",
            "_model_module_version": "1.2.0",
            "_model_name": "LayoutModel",
            "_view_count": null,
            "_view_module": "@jupyter-widgets/base",
            "_view_module_version": "1.2.0",
            "_view_name": "LayoutView",
            "align_content": null,
            "align_items": null,
            "align_self": null,
            "border": null,
            "bottom": null,
            "display": null,
            "flex": null,
            "flex_flow": null,
            "grid_area": null,
            "grid_auto_columns": null,
            "grid_auto_flow": null,
            "grid_auto_rows": null,
            "grid_column": null,
            "grid_gap": null,
            "grid_row": null,
            "grid_template_areas": null,
            "grid_template_columns": null,
            "grid_template_rows": null,
            "height": null,
            "justify_content": null,
            "justify_items": null,
            "left": null,
            "margin": null,
            "max_height": null,
            "max_width": null,
            "min_height": null,
            "min_width": null,
            "object_fit": null,
            "object_position": null,
            "order": null,
            "overflow": null,
            "overflow_x": null,
            "overflow_y": null,
            "padding": null,
            "right": null,
            "top": null,
            "visibility": null,
            "width": null
          }
        },
        "1277e51d4e92455dbb29cfcc0fa4c3ad": {
          "model_module": "@jupyter-widgets/controls",
          "model_name": "DescriptionStyleModel",
          "model_module_version": "1.5.0",
          "state": {
            "_model_module": "@jupyter-widgets/controls",
            "_model_module_version": "1.5.0",
            "_model_name": "DescriptionStyleModel",
            "_view_count": null,
            "_view_module": "@jupyter-widgets/base",
            "_view_module_version": "1.2.0",
            "_view_name": "StyleView",
            "description_width": ""
          }
        },
        "dd2c3a95e9f94cdf892924c23cb0cc4c": {
          "model_module": "@jupyter-widgets/base",
          "model_name": "LayoutModel",
          "model_module_version": "1.2.0",
          "state": {
            "_model_module": "@jupyter-widgets/base",
            "_model_module_version": "1.2.0",
            "_model_name": "LayoutModel",
            "_view_count": null,
            "_view_module": "@jupyter-widgets/base",
            "_view_module_version": "1.2.0",
            "_view_name": "LayoutView",
            "align_content": null,
            "align_items": null,
            "align_self": null,
            "border": null,
            "bottom": null,
            "display": null,
            "flex": null,
            "flex_flow": null,
            "grid_area": null,
            "grid_auto_columns": null,
            "grid_auto_flow": null,
            "grid_auto_rows": null,
            "grid_column": null,
            "grid_gap": null,
            "grid_row": null,
            "grid_template_areas": null,
            "grid_template_columns": null,
            "grid_template_rows": null,
            "height": null,
            "justify_content": null,
            "justify_items": null,
            "left": null,
            "margin": null,
            "max_height": null,
            "max_width": null,
            "min_height": null,
            "min_width": null,
            "object_fit": null,
            "object_position": null,
            "order": null,
            "overflow": null,
            "overflow_x": null,
            "overflow_y": null,
            "padding": null,
            "right": null,
            "top": null,
            "visibility": null,
            "width": null
          }
        },
        "7b25e3f639884142bd516aab90a98b4f": {
          "model_module": "@jupyter-widgets/controls",
          "model_name": "ProgressStyleModel",
          "model_module_version": "1.5.0",
          "state": {
            "_model_module": "@jupyter-widgets/controls",
            "_model_module_version": "1.5.0",
            "_model_name": "ProgressStyleModel",
            "_view_count": null,
            "_view_module": "@jupyter-widgets/base",
            "_view_module_version": "1.2.0",
            "_view_name": "StyleView",
            "bar_color": null,
            "description_width": ""
          }
        },
        "fd2d24d07cba4235b801d6af4d16294f": {
          "model_module": "@jupyter-widgets/base",
          "model_name": "LayoutModel",
          "model_module_version": "1.2.0",
          "state": {
            "_model_module": "@jupyter-widgets/base",
            "_model_module_version": "1.2.0",
            "_model_name": "LayoutModel",
            "_view_count": null,
            "_view_module": "@jupyter-widgets/base",
            "_view_module_version": "1.2.0",
            "_view_name": "LayoutView",
            "align_content": null,
            "align_items": null,
            "align_self": null,
            "border": null,
            "bottom": null,
            "display": null,
            "flex": null,
            "flex_flow": null,
            "grid_area": null,
            "grid_auto_columns": null,
            "grid_auto_flow": null,
            "grid_auto_rows": null,
            "grid_column": null,
            "grid_gap": null,
            "grid_row": null,
            "grid_template_areas": null,
            "grid_template_columns": null,
            "grid_template_rows": null,
            "height": null,
            "justify_content": null,
            "justify_items": null,
            "left": null,
            "margin": null,
            "max_height": null,
            "max_width": null,
            "min_height": null,
            "min_width": null,
            "object_fit": null,
            "object_position": null,
            "order": null,
            "overflow": null,
            "overflow_x": null,
            "overflow_y": null,
            "padding": null,
            "right": null,
            "top": null,
            "visibility": null,
            "width": null
          }
        },
        "3a381a7cfc74495484aafc7765e9b836": {
          "model_module": "@jupyter-widgets/controls",
          "model_name": "DescriptionStyleModel",
          "model_module_version": "1.5.0",
          "state": {
            "_model_module": "@jupyter-widgets/controls",
            "_model_module_version": "1.5.0",
            "_model_name": "DescriptionStyleModel",
            "_view_count": null,
            "_view_module": "@jupyter-widgets/base",
            "_view_module_version": "1.2.0",
            "_view_name": "StyleView",
            "description_width": ""
          }
        },
        "e1988b9367914144b5b300a245f56fb7": {
          "model_module": "@jupyter-widgets/controls",
          "model_name": "HBoxModel",
          "model_module_version": "1.5.0",
          "state": {
            "_dom_classes": [],
            "_model_module": "@jupyter-widgets/controls",
            "_model_module_version": "1.5.0",
            "_model_name": "HBoxModel",
            "_view_count": null,
            "_view_module": "@jupyter-widgets/controls",
            "_view_module_version": "1.5.0",
            "_view_name": "HBoxView",
            "box_style": "",
            "children": [
              "IPY_MODEL_6ba6afe86e7745ad88ff40020f6ca55e",
              "IPY_MODEL_805e03e6c014408da2a5e81a9b29827f",
              "IPY_MODEL_ab6d06438aef40e6b7ec58aeee5037f3"
            ],
            "layout": "IPY_MODEL_94b7ca29a4cc4d9db129b44666fcb7fa"
          }
        },
        "6ba6afe86e7745ad88ff40020f6ca55e": {
          "model_module": "@jupyter-widgets/controls",
          "model_name": "HTMLModel",
          "model_module_version": "1.5.0",
          "state": {
            "_dom_classes": [],
            "_model_module": "@jupyter-widgets/controls",
            "_model_module_version": "1.5.0",
            "_model_name": "HTMLModel",
            "_view_count": null,
            "_view_module": "@jupyter-widgets/controls",
            "_view_module_version": "1.5.0",
            "_view_name": "HTMLView",
            "description": "",
            "description_tooltip": null,
            "layout": "IPY_MODEL_5e0e0d9738f241a4a4974aea49641d6f",
            "placeholder": "​",
            "style": "IPY_MODEL_85ba36ca443f4f9687300417121a5b0b",
            "value": "Downloading: 100%"
          }
        },
        "805e03e6c014408da2a5e81a9b29827f": {
          "model_module": "@jupyter-widgets/controls",
          "model_name": "FloatProgressModel",
          "model_module_version": "1.5.0",
          "state": {
            "_dom_classes": [],
            "_model_module": "@jupyter-widgets/controls",
            "_model_module_version": "1.5.0",
            "_model_name": "FloatProgressModel",
            "_view_count": null,
            "_view_module": "@jupyter-widgets/controls",
            "_view_module_version": "1.5.0",
            "_view_name": "ProgressView",
            "bar_style": "success",
            "description": "",
            "description_tooltip": null,
            "layout": "IPY_MODEL_35395e0555ac40ff81e8238066b11285",
            "max": 85,
            "min": 0,
            "orientation": "horizontal",
            "style": "IPY_MODEL_117b429a382b40c9b1e3d6c39723799e",
            "value": 85
          }
        },
        "ab6d06438aef40e6b7ec58aeee5037f3": {
          "model_module": "@jupyter-widgets/controls",
          "model_name": "HTMLModel",
          "model_module_version": "1.5.0",
          "state": {
            "_dom_classes": [],
            "_model_module": "@jupyter-widgets/controls",
            "_model_module_version": "1.5.0",
            "_model_name": "HTMLModel",
            "_view_count": null,
            "_view_module": "@jupyter-widgets/controls",
            "_view_module_version": "1.5.0",
            "_view_name": "HTMLView",
            "description": "",
            "description_tooltip": null,
            "layout": "IPY_MODEL_c90e68ddd76a4bb3a335900026a67c92",
            "placeholder": "​",
            "style": "IPY_MODEL_59a827c2dbaf41a5952f902ff16671b6",
            "value": " 85.0/85.0 [00:00&lt;00:00, 3.07kB/s]"
          }
        },
        "94b7ca29a4cc4d9db129b44666fcb7fa": {
          "model_module": "@jupyter-widgets/base",
          "model_name": "LayoutModel",
          "model_module_version": "1.2.0",
          "state": {
            "_model_module": "@jupyter-widgets/base",
            "_model_module_version": "1.2.0",
            "_model_name": "LayoutModel",
            "_view_count": null,
            "_view_module": "@jupyter-widgets/base",
            "_view_module_version": "1.2.0",
            "_view_name": "LayoutView",
            "align_content": null,
            "align_items": null,
            "align_self": null,
            "border": null,
            "bottom": null,
            "display": null,
            "flex": null,
            "flex_flow": null,
            "grid_area": null,
            "grid_auto_columns": null,
            "grid_auto_flow": null,
            "grid_auto_rows": null,
            "grid_column": null,
            "grid_gap": null,
            "grid_row": null,
            "grid_template_areas": null,
            "grid_template_columns": null,
            "grid_template_rows": null,
            "height": null,
            "justify_content": null,
            "justify_items": null,
            "left": null,
            "margin": null,
            "max_height": null,
            "max_width": null,
            "min_height": null,
            "min_width": null,
            "object_fit": null,
            "object_position": null,
            "order": null,
            "overflow": null,
            "overflow_x": null,
            "overflow_y": null,
            "padding": null,
            "right": null,
            "top": null,
            "visibility": null,
            "width": null
          }
        },
        "5e0e0d9738f241a4a4974aea49641d6f": {
          "model_module": "@jupyter-widgets/base",
          "model_name": "LayoutModel",
          "model_module_version": "1.2.0",
          "state": {
            "_model_module": "@jupyter-widgets/base",
            "_model_module_version": "1.2.0",
            "_model_name": "LayoutModel",
            "_view_count": null,
            "_view_module": "@jupyter-widgets/base",
            "_view_module_version": "1.2.0",
            "_view_name": "LayoutView",
            "align_content": null,
            "align_items": null,
            "align_self": null,
            "border": null,
            "bottom": null,
            "display": null,
            "flex": null,
            "flex_flow": null,
            "grid_area": null,
            "grid_auto_columns": null,
            "grid_auto_flow": null,
            "grid_auto_rows": null,
            "grid_column": null,
            "grid_gap": null,
            "grid_row": null,
            "grid_template_areas": null,
            "grid_template_columns": null,
            "grid_template_rows": null,
            "height": null,
            "justify_content": null,
            "justify_items": null,
            "left": null,
            "margin": null,
            "max_height": null,
            "max_width": null,
            "min_height": null,
            "min_width": null,
            "object_fit": null,
            "object_position": null,
            "order": null,
            "overflow": null,
            "overflow_x": null,
            "overflow_y": null,
            "padding": null,
            "right": null,
            "top": null,
            "visibility": null,
            "width": null
          }
        },
        "85ba36ca443f4f9687300417121a5b0b": {
          "model_module": "@jupyter-widgets/controls",
          "model_name": "DescriptionStyleModel",
          "model_module_version": "1.5.0",
          "state": {
            "_model_module": "@jupyter-widgets/controls",
            "_model_module_version": "1.5.0",
            "_model_name": "DescriptionStyleModel",
            "_view_count": null,
            "_view_module": "@jupyter-widgets/base",
            "_view_module_version": "1.2.0",
            "_view_name": "StyleView",
            "description_width": ""
          }
        },
        "35395e0555ac40ff81e8238066b11285": {
          "model_module": "@jupyter-widgets/base",
          "model_name": "LayoutModel",
          "model_module_version": "1.2.0",
          "state": {
            "_model_module": "@jupyter-widgets/base",
            "_model_module_version": "1.2.0",
            "_model_name": "LayoutModel",
            "_view_count": null,
            "_view_module": "@jupyter-widgets/base",
            "_view_module_version": "1.2.0",
            "_view_name": "LayoutView",
            "align_content": null,
            "align_items": null,
            "align_self": null,
            "border": null,
            "bottom": null,
            "display": null,
            "flex": null,
            "flex_flow": null,
            "grid_area": null,
            "grid_auto_columns": null,
            "grid_auto_flow": null,
            "grid_auto_rows": null,
            "grid_column": null,
            "grid_gap": null,
            "grid_row": null,
            "grid_template_areas": null,
            "grid_template_columns": null,
            "grid_template_rows": null,
            "height": null,
            "justify_content": null,
            "justify_items": null,
            "left": null,
            "margin": null,
            "max_height": null,
            "max_width": null,
            "min_height": null,
            "min_width": null,
            "object_fit": null,
            "object_position": null,
            "order": null,
            "overflow": null,
            "overflow_x": null,
            "overflow_y": null,
            "padding": null,
            "right": null,
            "top": null,
            "visibility": null,
            "width": null
          }
        },
        "117b429a382b40c9b1e3d6c39723799e": {
          "model_module": "@jupyter-widgets/controls",
          "model_name": "ProgressStyleModel",
          "model_module_version": "1.5.0",
          "state": {
            "_model_module": "@jupyter-widgets/controls",
            "_model_module_version": "1.5.0",
            "_model_name": "ProgressStyleModel",
            "_view_count": null,
            "_view_module": "@jupyter-widgets/base",
            "_view_module_version": "1.2.0",
            "_view_name": "StyleView",
            "bar_color": null,
            "description_width": ""
          }
        },
        "c90e68ddd76a4bb3a335900026a67c92": {
          "model_module": "@jupyter-widgets/base",
          "model_name": "LayoutModel",
          "model_module_version": "1.2.0",
          "state": {
            "_model_module": "@jupyter-widgets/base",
            "_model_module_version": "1.2.0",
            "_model_name": "LayoutModel",
            "_view_count": null,
            "_view_module": "@jupyter-widgets/base",
            "_view_module_version": "1.2.0",
            "_view_name": "LayoutView",
            "align_content": null,
            "align_items": null,
            "align_self": null,
            "border": null,
            "bottom": null,
            "display": null,
            "flex": null,
            "flex_flow": null,
            "grid_area": null,
            "grid_auto_columns": null,
            "grid_auto_flow": null,
            "grid_auto_rows": null,
            "grid_column": null,
            "grid_gap": null,
            "grid_row": null,
            "grid_template_areas": null,
            "grid_template_columns": null,
            "grid_template_rows": null,
            "height": null,
            "justify_content": null,
            "justify_items": null,
            "left": null,
            "margin": null,
            "max_height": null,
            "max_width": null,
            "min_height": null,
            "min_width": null,
            "object_fit": null,
            "object_position": null,
            "order": null,
            "overflow": null,
            "overflow_x": null,
            "overflow_y": null,
            "padding": null,
            "right": null,
            "top": null,
            "visibility": null,
            "width": null
          }
        },
        "59a827c2dbaf41a5952f902ff16671b6": {
          "model_module": "@jupyter-widgets/controls",
          "model_name": "DescriptionStyleModel",
          "model_module_version": "1.5.0",
          "state": {
            "_model_module": "@jupyter-widgets/controls",
            "_model_module_version": "1.5.0",
            "_model_name": "DescriptionStyleModel",
            "_view_count": null,
            "_view_module": "@jupyter-widgets/base",
            "_view_module_version": "1.2.0",
            "_view_name": "StyleView",
            "description_width": ""
          }
        },
        "3aecff840d2a4f4aa8cf2e283cd822cd": {
          "model_module": "@jupyter-widgets/controls",
          "model_name": "HBoxModel",
          "model_module_version": "1.5.0",
          "state": {
            "_dom_classes": [],
            "_model_module": "@jupyter-widgets/controls",
            "_model_module_version": "1.5.0",
            "_model_name": "HBoxModel",
            "_view_count": null,
            "_view_module": "@jupyter-widgets/controls",
            "_view_module_version": "1.5.0",
            "_view_name": "HBoxView",
            "box_style": "",
            "children": [
              "IPY_MODEL_350d146bb69e4c92a472e53f4436b23c",
              "IPY_MODEL_2967f7338f384cc9bff25615257c3ebc",
              "IPY_MODEL_c460f48c9fec4cb39b2ad6f3b2e90faf"
            ],
            "layout": "IPY_MODEL_aafebdb232b14d1690bc0e3ebda4614a"
          }
        },
        "350d146bb69e4c92a472e53f4436b23c": {
          "model_module": "@jupyter-widgets/controls",
          "model_name": "HTMLModel",
          "model_module_version": "1.5.0",
          "state": {
            "_dom_classes": [],
            "_model_module": "@jupyter-widgets/controls",
            "_model_module_version": "1.5.0",
            "_model_name": "HTMLModel",
            "_view_count": null,
            "_view_module": "@jupyter-widgets/controls",
            "_view_module_version": "1.5.0",
            "_view_name": "HTMLView",
            "description": "",
            "description_tooltip": null,
            "layout": "IPY_MODEL_82c4b869a259405cbb8fa275bcc3b232",
            "placeholder": "​",
            "style": "IPY_MODEL_5cae07c91af2443ba8c0a321ad8c2cf9",
            "value": "Downloading: 100%"
          }
        },
        "2967f7338f384cc9bff25615257c3ebc": {
          "model_module": "@jupyter-widgets/controls",
          "model_name": "FloatProgressModel",
          "model_module_version": "1.5.0",
          "state": {
            "_dom_classes": [],
            "_model_module": "@jupyter-widgets/controls",
            "_model_module_version": "1.5.0",
            "_model_name": "FloatProgressModel",
            "_view_count": null,
            "_view_module": "@jupyter-widgets/controls",
            "_view_module_version": "1.5.0",
            "_view_name": "ProgressView",
            "bar_style": "success",
            "description": "",
            "description_tooltip": null,
            "layout": "IPY_MODEL_762768c722644b94addd351592821687",
            "max": 1596,
            "min": 0,
            "orientation": "horizontal",
            "style": "IPY_MODEL_da2e615b7ef04e859668d66af98e9e3c",
            "value": 1596
          }
        },
        "c460f48c9fec4cb39b2ad6f3b2e90faf": {
          "model_module": "@jupyter-widgets/controls",
          "model_name": "HTMLModel",
          "model_module_version": "1.5.0",
          "state": {
            "_dom_classes": [],
            "_model_module": "@jupyter-widgets/controls",
            "_model_module_version": "1.5.0",
            "_model_name": "HTMLModel",
            "_view_count": null,
            "_view_module": "@jupyter-widgets/controls",
            "_view_module_version": "1.5.0",
            "_view_name": "HTMLView",
            "description": "",
            "description_tooltip": null,
            "layout": "IPY_MODEL_a217c218693044d1bda74141c372ca5f",
            "placeholder": "​",
            "style": "IPY_MODEL_0804fb33dfb946a18f8a1ed74984c35f",
            "value": " 1.56k/1.56k [00:00&lt;00:00, 39.9kB/s]"
          }
        },
        "aafebdb232b14d1690bc0e3ebda4614a": {
          "model_module": "@jupyter-widgets/base",
          "model_name": "LayoutModel",
          "model_module_version": "1.2.0",
          "state": {
            "_model_module": "@jupyter-widgets/base",
            "_model_module_version": "1.2.0",
            "_model_name": "LayoutModel",
            "_view_count": null,
            "_view_module": "@jupyter-widgets/base",
            "_view_module_version": "1.2.0",
            "_view_name": "LayoutView",
            "align_content": null,
            "align_items": null,
            "align_self": null,
            "border": null,
            "bottom": null,
            "display": null,
            "flex": null,
            "flex_flow": null,
            "grid_area": null,
            "grid_auto_columns": null,
            "grid_auto_flow": null,
            "grid_auto_rows": null,
            "grid_column": null,
            "grid_gap": null,
            "grid_row": null,
            "grid_template_areas": null,
            "grid_template_columns": null,
            "grid_template_rows": null,
            "height": null,
            "justify_content": null,
            "justify_items": null,
            "left": null,
            "margin": null,
            "max_height": null,
            "max_width": null,
            "min_height": null,
            "min_width": null,
            "object_fit": null,
            "object_position": null,
            "order": null,
            "overflow": null,
            "overflow_x": null,
            "overflow_y": null,
            "padding": null,
            "right": null,
            "top": null,
            "visibility": null,
            "width": null
          }
        },
        "82c4b869a259405cbb8fa275bcc3b232": {
          "model_module": "@jupyter-widgets/base",
          "model_name": "LayoutModel",
          "model_module_version": "1.2.0",
          "state": {
            "_model_module": "@jupyter-widgets/base",
            "_model_module_version": "1.2.0",
            "_model_name": "LayoutModel",
            "_view_count": null,
            "_view_module": "@jupyter-widgets/base",
            "_view_module_version": "1.2.0",
            "_view_name": "LayoutView",
            "align_content": null,
            "align_items": null,
            "align_self": null,
            "border": null,
            "bottom": null,
            "display": null,
            "flex": null,
            "flex_flow": null,
            "grid_area": null,
            "grid_auto_columns": null,
            "grid_auto_flow": null,
            "grid_auto_rows": null,
            "grid_column": null,
            "grid_gap": null,
            "grid_row": null,
            "grid_template_areas": null,
            "grid_template_columns": null,
            "grid_template_rows": null,
            "height": null,
            "justify_content": null,
            "justify_items": null,
            "left": null,
            "margin": null,
            "max_height": null,
            "max_width": null,
            "min_height": null,
            "min_width": null,
            "object_fit": null,
            "object_position": null,
            "order": null,
            "overflow": null,
            "overflow_x": null,
            "overflow_y": null,
            "padding": null,
            "right": null,
            "top": null,
            "visibility": null,
            "width": null
          }
        },
        "5cae07c91af2443ba8c0a321ad8c2cf9": {
          "model_module": "@jupyter-widgets/controls",
          "model_name": "DescriptionStyleModel",
          "model_module_version": "1.5.0",
          "state": {
            "_model_module": "@jupyter-widgets/controls",
            "_model_module_version": "1.5.0",
            "_model_name": "DescriptionStyleModel",
            "_view_count": null,
            "_view_module": "@jupyter-widgets/base",
            "_view_module_version": "1.2.0",
            "_view_name": "StyleView",
            "description_width": ""
          }
        },
        "762768c722644b94addd351592821687": {
          "model_module": "@jupyter-widgets/base",
          "model_name": "LayoutModel",
          "model_module_version": "1.2.0",
          "state": {
            "_model_module": "@jupyter-widgets/base",
            "_model_module_version": "1.2.0",
            "_model_name": "LayoutModel",
            "_view_count": null,
            "_view_module": "@jupyter-widgets/base",
            "_view_module_version": "1.2.0",
            "_view_name": "LayoutView",
            "align_content": null,
            "align_items": null,
            "align_self": null,
            "border": null,
            "bottom": null,
            "display": null,
            "flex": null,
            "flex_flow": null,
            "grid_area": null,
            "grid_auto_columns": null,
            "grid_auto_flow": null,
            "grid_auto_rows": null,
            "grid_column": null,
            "grid_gap": null,
            "grid_row": null,
            "grid_template_areas": null,
            "grid_template_columns": null,
            "grid_template_rows": null,
            "height": null,
            "justify_content": null,
            "justify_items": null,
            "left": null,
            "margin": null,
            "max_height": null,
            "max_width": null,
            "min_height": null,
            "min_width": null,
            "object_fit": null,
            "object_position": null,
            "order": null,
            "overflow": null,
            "overflow_x": null,
            "overflow_y": null,
            "padding": null,
            "right": null,
            "top": null,
            "visibility": null,
            "width": null
          }
        },
        "da2e615b7ef04e859668d66af98e9e3c": {
          "model_module": "@jupyter-widgets/controls",
          "model_name": "ProgressStyleModel",
          "model_module_version": "1.5.0",
          "state": {
            "_model_module": "@jupyter-widgets/controls",
            "_model_module_version": "1.5.0",
            "_model_name": "ProgressStyleModel",
            "_view_count": null,
            "_view_module": "@jupyter-widgets/base",
            "_view_module_version": "1.2.0",
            "_view_name": "StyleView",
            "bar_color": null,
            "description_width": ""
          }
        },
        "a217c218693044d1bda74141c372ca5f": {
          "model_module": "@jupyter-widgets/base",
          "model_name": "LayoutModel",
          "model_module_version": "1.2.0",
          "state": {
            "_model_module": "@jupyter-widgets/base",
            "_model_module_version": "1.2.0",
            "_model_name": "LayoutModel",
            "_view_count": null,
            "_view_module": "@jupyter-widgets/base",
            "_view_module_version": "1.2.0",
            "_view_name": "LayoutView",
            "align_content": null,
            "align_items": null,
            "align_self": null,
            "border": null,
            "bottom": null,
            "display": null,
            "flex": null,
            "flex_flow": null,
            "grid_area": null,
            "grid_auto_columns": null,
            "grid_auto_flow": null,
            "grid_auto_rows": null,
            "grid_column": null,
            "grid_gap": null,
            "grid_row": null,
            "grid_template_areas": null,
            "grid_template_columns": null,
            "grid_template_rows": null,
            "height": null,
            "justify_content": null,
            "justify_items": null,
            "left": null,
            "margin": null,
            "max_height": null,
            "max_width": null,
            "min_height": null,
            "min_width": null,
            "object_fit": null,
            "object_position": null,
            "order": null,
            "overflow": null,
            "overflow_x": null,
            "overflow_y": null,
            "padding": null,
            "right": null,
            "top": null,
            "visibility": null,
            "width": null
          }
        },
        "0804fb33dfb946a18f8a1ed74984c35f": {
          "model_module": "@jupyter-widgets/controls",
          "model_name": "DescriptionStyleModel",
          "model_module_version": "1.5.0",
          "state": {
            "_model_module": "@jupyter-widgets/controls",
            "_model_module_version": "1.5.0",
            "_model_name": "DescriptionStyleModel",
            "_view_count": null,
            "_view_module": "@jupyter-widgets/base",
            "_view_module_version": "1.2.0",
            "_view_name": "StyleView",
            "description_width": ""
          }
        },
        "69acc96f90c642c2ad73413b84c606fe": {
          "model_module": "@jupyter-widgets/controls",
          "model_name": "HBoxModel",
          "model_module_version": "1.5.0",
          "state": {
            "_dom_classes": [],
            "_model_module": "@jupyter-widgets/controls",
            "_model_module_version": "1.5.0",
            "_model_name": "HBoxModel",
            "_view_count": null,
            "_view_module": "@jupyter-widgets/controls",
            "_view_module_version": "1.5.0",
            "_view_name": "HBoxView",
            "box_style": "",
            "children": [
              "IPY_MODEL_83ed75b9134445edaf91a2bfb98805d8",
              "IPY_MODEL_4bff85ee0cf24b3886d43e2e02ea7ace",
              "IPY_MODEL_765980f0efc34c4eadfd607769c6504b"
            ],
            "layout": "IPY_MODEL_11bde418e6884415bcd46e48d125cda7"
          }
        },
        "83ed75b9134445edaf91a2bfb98805d8": {
          "model_module": "@jupyter-widgets/controls",
          "model_name": "HTMLModel",
          "model_module_version": "1.5.0",
          "state": {
            "_dom_classes": [],
            "_model_module": "@jupyter-widgets/controls",
            "_model_module_version": "1.5.0",
            "_model_name": "HTMLModel",
            "_view_count": null,
            "_view_module": "@jupyter-widgets/controls",
            "_view_module_version": "1.5.0",
            "_view_name": "HTMLView",
            "description": "",
            "description_tooltip": null,
            "layout": "IPY_MODEL_dd5e90e10aef44d39f22fd5238951ad4",
            "placeholder": "​",
            "style": "IPY_MODEL_ad3da438ed9d475dbf2c5be0e38e332d",
            "value": "Downloading: 100%"
          }
        },
        "4bff85ee0cf24b3886d43e2e02ea7ace": {
          "model_module": "@jupyter-widgets/controls",
          "model_name": "FloatProgressModel",
          "model_module_version": "1.5.0",
          "state": {
            "_dom_classes": [],
            "_model_module": "@jupyter-widgets/controls",
            "_model_module_version": "1.5.0",
            "_model_name": "FloatProgressModel",
            "_view_count": null,
            "_view_module": "@jupyter-widgets/controls",
            "_view_module_version": "1.5.0",
            "_view_name": "ProgressView",
            "bar_style": "success",
            "description": "",
            "description_tooltip": null,
            "layout": "IPY_MODEL_56dbc5ad0fba4aef84202ee4da757261",
            "max": 377667514,
            "min": 0,
            "orientation": "horizontal",
            "style": "IPY_MODEL_4dca85d6ae684f02997e2aa5f1699292",
            "value": 377667514
          }
        },
        "765980f0efc34c4eadfd607769c6504b": {
          "model_module": "@jupyter-widgets/controls",
          "model_name": "HTMLModel",
          "model_module_version": "1.5.0",
          "state": {
            "_dom_classes": [],
            "_model_module": "@jupyter-widgets/controls",
            "_model_module_version": "1.5.0",
            "_model_name": "HTMLModel",
            "_view_count": null,
            "_view_module": "@jupyter-widgets/controls",
            "_view_module_version": "1.5.0",
            "_view_name": "HTMLView",
            "description": "",
            "description_tooltip": null,
            "layout": "IPY_MODEL_fc171383ed17473392c119dadbc8533b",
            "placeholder": "​",
            "style": "IPY_MODEL_0718c3f9b7c94ba29123dc18ed221749",
            "value": " 360M/360M [00:08&lt;00:00, 59.2MB/s]"
          }
        },
        "11bde418e6884415bcd46e48d125cda7": {
          "model_module": "@jupyter-widgets/base",
          "model_name": "LayoutModel",
          "model_module_version": "1.2.0",
          "state": {
            "_model_module": "@jupyter-widgets/base",
            "_model_module_version": "1.2.0",
            "_model_name": "LayoutModel",
            "_view_count": null,
            "_view_module": "@jupyter-widgets/base",
            "_view_module_version": "1.2.0",
            "_view_name": "LayoutView",
            "align_content": null,
            "align_items": null,
            "align_self": null,
            "border": null,
            "bottom": null,
            "display": null,
            "flex": null,
            "flex_flow": null,
            "grid_area": null,
            "grid_auto_columns": null,
            "grid_auto_flow": null,
            "grid_auto_rows": null,
            "grid_column": null,
            "grid_gap": null,
            "grid_row": null,
            "grid_template_areas": null,
            "grid_template_columns": null,
            "grid_template_rows": null,
            "height": null,
            "justify_content": null,
            "justify_items": null,
            "left": null,
            "margin": null,
            "max_height": null,
            "max_width": null,
            "min_height": null,
            "min_width": null,
            "object_fit": null,
            "object_position": null,
            "order": null,
            "overflow": null,
            "overflow_x": null,
            "overflow_y": null,
            "padding": null,
            "right": null,
            "top": null,
            "visibility": null,
            "width": null
          }
        },
        "dd5e90e10aef44d39f22fd5238951ad4": {
          "model_module": "@jupyter-widgets/base",
          "model_name": "LayoutModel",
          "model_module_version": "1.2.0",
          "state": {
            "_model_module": "@jupyter-widgets/base",
            "_model_module_version": "1.2.0",
            "_model_name": "LayoutModel",
            "_view_count": null,
            "_view_module": "@jupyter-widgets/base",
            "_view_module_version": "1.2.0",
            "_view_name": "LayoutView",
            "align_content": null,
            "align_items": null,
            "align_self": null,
            "border": null,
            "bottom": null,
            "display": null,
            "flex": null,
            "flex_flow": null,
            "grid_area": null,
            "grid_auto_columns": null,
            "grid_auto_flow": null,
            "grid_auto_rows": null,
            "grid_column": null,
            "grid_gap": null,
            "grid_row": null,
            "grid_template_areas": null,
            "grid_template_columns": null,
            "grid_template_rows": null,
            "height": null,
            "justify_content": null,
            "justify_items": null,
            "left": null,
            "margin": null,
            "max_height": null,
            "max_width": null,
            "min_height": null,
            "min_width": null,
            "object_fit": null,
            "object_position": null,
            "order": null,
            "overflow": null,
            "overflow_x": null,
            "overflow_y": null,
            "padding": null,
            "right": null,
            "top": null,
            "visibility": null,
            "width": null
          }
        },
        "ad3da438ed9d475dbf2c5be0e38e332d": {
          "model_module": "@jupyter-widgets/controls",
          "model_name": "DescriptionStyleModel",
          "model_module_version": "1.5.0",
          "state": {
            "_model_module": "@jupyter-widgets/controls",
            "_model_module_version": "1.5.0",
            "_model_name": "DescriptionStyleModel",
            "_view_count": null,
            "_view_module": "@jupyter-widgets/base",
            "_view_module_version": "1.2.0",
            "_view_name": "StyleView",
            "description_width": ""
          }
        },
        "56dbc5ad0fba4aef84202ee4da757261": {
          "model_module": "@jupyter-widgets/base",
          "model_name": "LayoutModel",
          "model_module_version": "1.2.0",
          "state": {
            "_model_module": "@jupyter-widgets/base",
            "_model_module_version": "1.2.0",
            "_model_name": "LayoutModel",
            "_view_count": null,
            "_view_module": "@jupyter-widgets/base",
            "_view_module_version": "1.2.0",
            "_view_name": "LayoutView",
            "align_content": null,
            "align_items": null,
            "align_self": null,
            "border": null,
            "bottom": null,
            "display": null,
            "flex": null,
            "flex_flow": null,
            "grid_area": null,
            "grid_auto_columns": null,
            "grid_auto_flow": null,
            "grid_auto_rows": null,
            "grid_column": null,
            "grid_gap": null,
            "grid_row": null,
            "grid_template_areas": null,
            "grid_template_columns": null,
            "grid_template_rows": null,
            "height": null,
            "justify_content": null,
            "justify_items": null,
            "left": null,
            "margin": null,
            "max_height": null,
            "max_width": null,
            "min_height": null,
            "min_width": null,
            "object_fit": null,
            "object_position": null,
            "order": null,
            "overflow": null,
            "overflow_x": null,
            "overflow_y": null,
            "padding": null,
            "right": null,
            "top": null,
            "visibility": null,
            "width": null
          }
        },
        "4dca85d6ae684f02997e2aa5f1699292": {
          "model_module": "@jupyter-widgets/controls",
          "model_name": "ProgressStyleModel",
          "model_module_version": "1.5.0",
          "state": {
            "_model_module": "@jupyter-widgets/controls",
            "_model_module_version": "1.5.0",
            "_model_name": "ProgressStyleModel",
            "_view_count": null,
            "_view_module": "@jupyter-widgets/base",
            "_view_module_version": "1.2.0",
            "_view_name": "StyleView",
            "bar_color": null,
            "description_width": ""
          }
        },
        "fc171383ed17473392c119dadbc8533b": {
          "model_module": "@jupyter-widgets/base",
          "model_name": "LayoutModel",
          "model_module_version": "1.2.0",
          "state": {
            "_model_module": "@jupyter-widgets/base",
            "_model_module_version": "1.2.0",
            "_model_name": "LayoutModel",
            "_view_count": null,
            "_view_module": "@jupyter-widgets/base",
            "_view_module_version": "1.2.0",
            "_view_name": "LayoutView",
            "align_content": null,
            "align_items": null,
            "align_self": null,
            "border": null,
            "bottom": null,
            "display": null,
            "flex": null,
            "flex_flow": null,
            "grid_area": null,
            "grid_auto_columns": null,
            "grid_auto_flow": null,
            "grid_auto_rows": null,
            "grid_column": null,
            "grid_gap": null,
            "grid_row": null,
            "grid_template_areas": null,
            "grid_template_columns": null,
            "grid_template_rows": null,
            "height": null,
            "justify_content": null,
            "justify_items": null,
            "left": null,
            "margin": null,
            "max_height": null,
            "max_width": null,
            "min_height": null,
            "min_width": null,
            "object_fit": null,
            "object_position": null,
            "order": null,
            "overflow": null,
            "overflow_x": null,
            "overflow_y": null,
            "padding": null,
            "right": null,
            "top": null,
            "visibility": null,
            "width": null
          }
        },
        "0718c3f9b7c94ba29123dc18ed221749": {
          "model_module": "@jupyter-widgets/controls",
          "model_name": "DescriptionStyleModel",
          "model_module_version": "1.5.0",
          "state": {
            "_model_module": "@jupyter-widgets/controls",
            "_model_module_version": "1.5.0",
            "_model_name": "DescriptionStyleModel",
            "_view_count": null,
            "_view_module": "@jupyter-widgets/base",
            "_view_module_version": "1.2.0",
            "_view_name": "StyleView",
            "description_width": ""
          }
        }
      }
    }
  },
  "nbformat": 4,
  "nbformat_minor": 0
}